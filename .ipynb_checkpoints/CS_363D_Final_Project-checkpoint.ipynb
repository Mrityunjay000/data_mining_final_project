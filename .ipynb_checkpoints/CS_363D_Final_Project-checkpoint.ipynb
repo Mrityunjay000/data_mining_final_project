{
 "cells": [
  {
   "cell_type": "markdown",
   "metadata": {
    "id": "VzHRVA0HAIm1"
   },
   "source": [
    "# CS 363D Final Project: Predicting Adoption in Austin Animal Center\n",
    "\n",
    "## Mrityunjay Mishra, Rohit Neppalli, Ziyi Zhao, Justin Leong "
   ]
  },
  {
   "cell_type": "markdown",
   "metadata": {},
   "source": [
    "### Project Description\n",
    "\n",
    "Many different types of animals (from dogs to livestock) are taken in by the Austin Animal Center each year for various reasons. Some may be adopted, some may be transferred, and some may even go through Euthanasia. The goal of this project is to predict if an animal, that is taken in by the Austin Animal Center, will be adopted or not. This can have good applications for Austin Animal Center - they could use our findings to predict the probability of adoption for an animal that is taken in and can care for it accordingly. Or perhaps someone else can use our findings to find animals who have a low probability of adoption to care for them accordingly. In the end, we hope that our findings provide insight into the adoption patterns of Austin and, consequently, helps different organizations take care of these animal appropriately."
   ]
  },
  {
   "cell_type": "code",
   "execution_count": 32,
   "metadata": {},
   "outputs": [],
   "source": [
    "# importing headers\n",
    "import random\n",
    "import numpy as np\n",
    "import pandas as pd\n",
    "import matplotlib.pyplot as plt\n",
    "from imblearn.over_sampling import RandomOverSampler\n",
    "from imblearn.over_sampling import SMOTE\n",
    "\n",
    "# Enable inline mode for matplotlib so that IPython displays graphs.\n",
    "%matplotlib inline"
   ]
  },
  {
   "cell_type": "markdown",
   "metadata": {},
   "source": [
    "### Dataset\n",
    "\n",
    "To develop our classifier(s), we use the animal intake and outcome data from the open data portal of the city of Austin. To find our more about the animal intake data, [click here](https://data.austintexas.gov/Health-and-Community-Services/Austin-Animal-Center-Intakes/wter-evkm). To find out more about the outcome data, [click here](https://data.austintexas.gov/Health-and-Community-Services/Austin-Animal-Center-Outcomes/9t4d-g238). "
   ]
  },
  {
   "cell_type": "code",
   "execution_count": 33,
   "metadata": {
    "colab": {
     "base_uri": "https://localhost:8080/",
     "height": 658
    },
    "id": "V1oiBZYTSt_n",
    "outputId": "162c3bf7-f756-4193-a7cf-9352e873ba11"
   },
   "outputs": [
    {
     "data": {
      "text/html": [
       "<div>\n",
       "<style scoped>\n",
       "    .dataframe tbody tr th:only-of-type {\n",
       "        vertical-align: middle;\n",
       "    }\n",
       "\n",
       "    .dataframe tbody tr th {\n",
       "        vertical-align: top;\n",
       "    }\n",
       "\n",
       "    .dataframe thead th {\n",
       "        text-align: right;\n",
       "    }\n",
       "</style>\n",
       "<table border=\"1\" class=\"dataframe\">\n",
       "  <thead>\n",
       "    <tr style=\"text-align: right;\">\n",
       "      <th></th>\n",
       "      <th>Animal ID</th>\n",
       "      <th>Name</th>\n",
       "      <th>DateTime</th>\n",
       "      <th>MonthYear</th>\n",
       "      <th>Found Location</th>\n",
       "      <th>Intake Type</th>\n",
       "      <th>Intake Condition</th>\n",
       "      <th>Animal Type</th>\n",
       "      <th>Sex upon Intake</th>\n",
       "      <th>Age upon Intake</th>\n",
       "      <th>Breed</th>\n",
       "      <th>Color</th>\n",
       "    </tr>\n",
       "  </thead>\n",
       "  <tbody>\n",
       "    <tr>\n",
       "      <th>0</th>\n",
       "      <td>A786884</td>\n",
       "      <td>*Brock</td>\n",
       "      <td>01/03/2019 04:19:00 PM</td>\n",
       "      <td>January 2019</td>\n",
       "      <td>2501 Magin Meadow Dr in Austin (TX)</td>\n",
       "      <td>Stray</td>\n",
       "      <td>Normal</td>\n",
       "      <td>Dog</td>\n",
       "      <td>Neutered Male</td>\n",
       "      <td>2 years</td>\n",
       "      <td>Beagle Mix</td>\n",
       "      <td>Tricolor</td>\n",
       "    </tr>\n",
       "    <tr>\n",
       "      <th>1</th>\n",
       "      <td>A706918</td>\n",
       "      <td>Belle</td>\n",
       "      <td>07/05/2015 12:59:00 PM</td>\n",
       "      <td>July 2015</td>\n",
       "      <td>9409 Bluegrass Dr in Austin (TX)</td>\n",
       "      <td>Stray</td>\n",
       "      <td>Normal</td>\n",
       "      <td>Dog</td>\n",
       "      <td>Spayed Female</td>\n",
       "      <td>8 years</td>\n",
       "      <td>English Springer Spaniel</td>\n",
       "      <td>White/Liver</td>\n",
       "    </tr>\n",
       "    <tr>\n",
       "      <th>2</th>\n",
       "      <td>A724273</td>\n",
       "      <td>Runster</td>\n",
       "      <td>04/14/2016 06:43:00 PM</td>\n",
       "      <td>April 2016</td>\n",
       "      <td>2818 Palomino Trail in Austin (TX)</td>\n",
       "      <td>Stray</td>\n",
       "      <td>Normal</td>\n",
       "      <td>Dog</td>\n",
       "      <td>Intact Male</td>\n",
       "      <td>11 months</td>\n",
       "      <td>Basenji Mix</td>\n",
       "      <td>Sable/White</td>\n",
       "    </tr>\n",
       "    <tr>\n",
       "      <th>3</th>\n",
       "      <td>A665644</td>\n",
       "      <td>NaN</td>\n",
       "      <td>10/21/2013 07:59:00 AM</td>\n",
       "      <td>October 2013</td>\n",
       "      <td>Austin (TX)</td>\n",
       "      <td>Stray</td>\n",
       "      <td>Sick</td>\n",
       "      <td>Cat</td>\n",
       "      <td>Intact Female</td>\n",
       "      <td>4 weeks</td>\n",
       "      <td>Domestic Shorthair Mix</td>\n",
       "      <td>Calico</td>\n",
       "    </tr>\n",
       "    <tr>\n",
       "      <th>4</th>\n",
       "      <td>A682524</td>\n",
       "      <td>Rio</td>\n",
       "      <td>06/29/2014 10:38:00 AM</td>\n",
       "      <td>June 2014</td>\n",
       "      <td>800 Grove Blvd in Austin (TX)</td>\n",
       "      <td>Stray</td>\n",
       "      <td>Normal</td>\n",
       "      <td>Dog</td>\n",
       "      <td>Neutered Male</td>\n",
       "      <td>4 years</td>\n",
       "      <td>Doberman Pinsch/Australian Cattle Dog</td>\n",
       "      <td>Tan/Gray</td>\n",
       "    </tr>\n",
       "  </tbody>\n",
       "</table>\n",
       "</div>"
      ],
      "text/plain": [
       "  Animal ID     Name                DateTime     MonthYear  \\\n",
       "0   A786884   *Brock  01/03/2019 04:19:00 PM  January 2019   \n",
       "1   A706918    Belle  07/05/2015 12:59:00 PM     July 2015   \n",
       "2   A724273  Runster  04/14/2016 06:43:00 PM    April 2016   \n",
       "3   A665644      NaN  10/21/2013 07:59:00 AM  October 2013   \n",
       "4   A682524      Rio  06/29/2014 10:38:00 AM     June 2014   \n",
       "\n",
       "                        Found Location Intake Type Intake Condition  \\\n",
       "0  2501 Magin Meadow Dr in Austin (TX)       Stray           Normal   \n",
       "1     9409 Bluegrass Dr in Austin (TX)       Stray           Normal   \n",
       "2   2818 Palomino Trail in Austin (TX)       Stray           Normal   \n",
       "3                          Austin (TX)       Stray             Sick   \n",
       "4        800 Grove Blvd in Austin (TX)       Stray           Normal   \n",
       "\n",
       "  Animal Type Sex upon Intake Age upon Intake  \\\n",
       "0         Dog   Neutered Male         2 years   \n",
       "1         Dog   Spayed Female         8 years   \n",
       "2         Dog     Intact Male       11 months   \n",
       "3         Cat   Intact Female         4 weeks   \n",
       "4         Dog   Neutered Male         4 years   \n",
       "\n",
       "                                   Breed        Color  \n",
       "0                             Beagle Mix     Tricolor  \n",
       "1               English Springer Spaniel  White/Liver  \n",
       "2                            Basenji Mix  Sable/White  \n",
       "3                 Domestic Shorthair Mix       Calico  \n",
       "4  Doberman Pinsch/Australian Cattle Dog     Tan/Gray  "
      ]
     },
     "execution_count": 33,
     "metadata": {},
     "output_type": "execute_result"
    }
   ],
   "source": [
    "# Intakes data\n",
    "intakes_df = pd.read_csv('Austin_Animal_Center_Intakes.csv')\n",
    "intakes_df.head()"
   ]
  },
  {
   "cell_type": "code",
   "execution_count": 34,
   "metadata": {
    "scrolled": true
   },
   "outputs": [
    {
     "data": {
      "text/html": [
       "<div>\n",
       "<style scoped>\n",
       "    .dataframe tbody tr th:only-of-type {\n",
       "        vertical-align: middle;\n",
       "    }\n",
       "\n",
       "    .dataframe tbody tr th {\n",
       "        vertical-align: top;\n",
       "    }\n",
       "\n",
       "    .dataframe thead th {\n",
       "        text-align: right;\n",
       "    }\n",
       "</style>\n",
       "<table border=\"1\" class=\"dataframe\">\n",
       "  <thead>\n",
       "    <tr style=\"text-align: right;\">\n",
       "      <th></th>\n",
       "      <th>Animal ID</th>\n",
       "      <th>Name</th>\n",
       "      <th>DateTime</th>\n",
       "      <th>MonthYear</th>\n",
       "      <th>Date of Birth</th>\n",
       "      <th>Outcome Type</th>\n",
       "      <th>Outcome Subtype</th>\n",
       "      <th>Animal Type</th>\n",
       "      <th>Sex upon Outcome</th>\n",
       "      <th>Age upon Outcome</th>\n",
       "      <th>Breed</th>\n",
       "      <th>Color</th>\n",
       "    </tr>\n",
       "  </thead>\n",
       "  <tbody>\n",
       "    <tr>\n",
       "      <th>0</th>\n",
       "      <td>A794011</td>\n",
       "      <td>Chunk</td>\n",
       "      <td>05/08/2019 06:20:00 PM</td>\n",
       "      <td>May 2019</td>\n",
       "      <td>05/02/2017</td>\n",
       "      <td>Rto-Adopt</td>\n",
       "      <td>NaN</td>\n",
       "      <td>Cat</td>\n",
       "      <td>Neutered Male</td>\n",
       "      <td>2 years</td>\n",
       "      <td>Domestic Shorthair Mix</td>\n",
       "      <td>Brown Tabby/White</td>\n",
       "    </tr>\n",
       "    <tr>\n",
       "      <th>1</th>\n",
       "      <td>A776359</td>\n",
       "      <td>Gizmo</td>\n",
       "      <td>07/18/2018 04:02:00 PM</td>\n",
       "      <td>Jul 2018</td>\n",
       "      <td>07/12/2017</td>\n",
       "      <td>Adoption</td>\n",
       "      <td>NaN</td>\n",
       "      <td>Dog</td>\n",
       "      <td>Neutered Male</td>\n",
       "      <td>1 year</td>\n",
       "      <td>Chihuahua Shorthair Mix</td>\n",
       "      <td>White/Brown</td>\n",
       "    </tr>\n",
       "    <tr>\n",
       "      <th>2</th>\n",
       "      <td>A821648</td>\n",
       "      <td>NaN</td>\n",
       "      <td>08/16/2020 11:38:00 AM</td>\n",
       "      <td>Aug 2020</td>\n",
       "      <td>08/16/2019</td>\n",
       "      <td>Euthanasia</td>\n",
       "      <td>NaN</td>\n",
       "      <td>Other</td>\n",
       "      <td>Unknown</td>\n",
       "      <td>1 year</td>\n",
       "      <td>Raccoon</td>\n",
       "      <td>Gray</td>\n",
       "    </tr>\n",
       "    <tr>\n",
       "      <th>3</th>\n",
       "      <td>A720371</td>\n",
       "      <td>Moose</td>\n",
       "      <td>02/13/2016 05:59:00 PM</td>\n",
       "      <td>Feb 2016</td>\n",
       "      <td>10/08/2015</td>\n",
       "      <td>Adoption</td>\n",
       "      <td>NaN</td>\n",
       "      <td>Dog</td>\n",
       "      <td>Neutered Male</td>\n",
       "      <td>4 months</td>\n",
       "      <td>Anatol Shepherd/Labrador Retriever</td>\n",
       "      <td>Buff</td>\n",
       "    </tr>\n",
       "    <tr>\n",
       "      <th>4</th>\n",
       "      <td>A674754</td>\n",
       "      <td>NaN</td>\n",
       "      <td>03/18/2014 11:47:00 AM</td>\n",
       "      <td>Mar 2014</td>\n",
       "      <td>03/12/2014</td>\n",
       "      <td>Transfer</td>\n",
       "      <td>Partner</td>\n",
       "      <td>Cat</td>\n",
       "      <td>Intact Male</td>\n",
       "      <td>6 days</td>\n",
       "      <td>Domestic Shorthair Mix</td>\n",
       "      <td>Orange Tabby</td>\n",
       "    </tr>\n",
       "  </tbody>\n",
       "</table>\n",
       "</div>"
      ],
      "text/plain": [
       "  Animal ID   Name                DateTime MonthYear Date of Birth  \\\n",
       "0   A794011  Chunk  05/08/2019 06:20:00 PM  May 2019    05/02/2017   \n",
       "1   A776359  Gizmo  07/18/2018 04:02:00 PM  Jul 2018    07/12/2017   \n",
       "2   A821648    NaN  08/16/2020 11:38:00 AM  Aug 2020    08/16/2019   \n",
       "3   A720371  Moose  02/13/2016 05:59:00 PM  Feb 2016    10/08/2015   \n",
       "4   A674754    NaN  03/18/2014 11:47:00 AM  Mar 2014    03/12/2014   \n",
       "\n",
       "  Outcome Type Outcome Subtype Animal Type Sex upon Outcome Age upon Outcome  \\\n",
       "0    Rto-Adopt             NaN         Cat    Neutered Male          2 years   \n",
       "1     Adoption             NaN         Dog    Neutered Male           1 year   \n",
       "2   Euthanasia             NaN       Other          Unknown           1 year   \n",
       "3     Adoption             NaN         Dog    Neutered Male         4 months   \n",
       "4     Transfer         Partner         Cat      Intact Male           6 days   \n",
       "\n",
       "                                Breed              Color  \n",
       "0              Domestic Shorthair Mix  Brown Tabby/White  \n",
       "1             Chihuahua Shorthair Mix        White/Brown  \n",
       "2                             Raccoon               Gray  \n",
       "3  Anatol Shepherd/Labrador Retriever               Buff  \n",
       "4              Domestic Shorthair Mix       Orange Tabby  "
      ]
     },
     "execution_count": 34,
     "metadata": {},
     "output_type": "execute_result"
    }
   ],
   "source": [
    "# Outcomes data\n",
    "outcomes_df = pd.read_csv('Austin_Animal_Center_Outcomes.csv')\n",
    "outcomes_df.head()"
   ]
  },
  {
   "cell_type": "markdown",
   "metadata": {},
   "source": [
    "### Data Cleaning"
   ]
  },
  {
   "cell_type": "markdown",
   "metadata": {},
   "source": [
    "We can immedietly see that we must combine both `intakes_df` and `outcomes_df` on `Animal ID`. We will first explore and clean both `intakes_df` and `outcomes_df` and combine them in the end.\n",
    "\n",
    "`Name`, `DateTime`, `MonthYear`, and `Found Location` can immedietly be dropped from `intakes_df` because these features will not have be be relevant to determining if an animal will be adopted or not. The name of the pet animal could be changed after adoption; `DateTime` and `MonthYear` are related to `Age upon Intake` and thus irrelevant (because age is more important than the exact date etc.); and `Found Location` is also irrelevant in adoption matters. \n",
    "\n",
    "We may think that `Intake Type` can also be dropped. However, it actually has some useful values that may determine adoption or not. "
   ]
  },
  {
   "cell_type": "code",
   "execution_count": 35,
   "metadata": {},
   "outputs": [
    {
     "data": {
      "text/plain": [
       "array(['Stray', 'Owner Surrender', 'Public Assist', 'Wildlife',\n",
       "       'Euthanasia Request', 'Abandoned'], dtype=object)"
      ]
     },
     "execution_count": 35,
     "metadata": {},
     "output_type": "execute_result"
    }
   ],
   "source": [
    "intakes_df['Intake Type'].unique()"
   ]
  },
  {
   "cell_type": "markdown",
   "metadata": {},
   "source": [
    "Clearly, if an animal is taken into Austin Animal Center on a Euthanasia Request, then its chances for being adopted become drastically low. Other reasons for intake can also play a part in adoption considerations. Therefore, then final columns that are dropped from `intakes_df` are `Name`, `DateTime`, `MonthYear`, `Found Location`."
   ]
  },
  {
   "cell_type": "code",
   "execution_count": 36,
   "metadata": {},
   "outputs": [
    {
     "data": {
      "text/html": [
       "<div>\n",
       "<style scoped>\n",
       "    .dataframe tbody tr th:only-of-type {\n",
       "        vertical-align: middle;\n",
       "    }\n",
       "\n",
       "    .dataframe tbody tr th {\n",
       "        vertical-align: top;\n",
       "    }\n",
       "\n",
       "    .dataframe thead th {\n",
       "        text-align: right;\n",
       "    }\n",
       "</style>\n",
       "<table border=\"1\" class=\"dataframe\">\n",
       "  <thead>\n",
       "    <tr style=\"text-align: right;\">\n",
       "      <th></th>\n",
       "      <th>Animal ID</th>\n",
       "      <th>Intake Type</th>\n",
       "      <th>Intake Condition</th>\n",
       "      <th>Animal Type</th>\n",
       "      <th>Sex upon Intake</th>\n",
       "      <th>Age upon Intake</th>\n",
       "      <th>Breed</th>\n",
       "      <th>Color</th>\n",
       "    </tr>\n",
       "  </thead>\n",
       "  <tbody>\n",
       "    <tr>\n",
       "      <th>0</th>\n",
       "      <td>A786884</td>\n",
       "      <td>Stray</td>\n",
       "      <td>Normal</td>\n",
       "      <td>Dog</td>\n",
       "      <td>Neutered Male</td>\n",
       "      <td>2 years</td>\n",
       "      <td>Beagle Mix</td>\n",
       "      <td>Tricolor</td>\n",
       "    </tr>\n",
       "    <tr>\n",
       "      <th>1</th>\n",
       "      <td>A706918</td>\n",
       "      <td>Stray</td>\n",
       "      <td>Normal</td>\n",
       "      <td>Dog</td>\n",
       "      <td>Spayed Female</td>\n",
       "      <td>8 years</td>\n",
       "      <td>English Springer Spaniel</td>\n",
       "      <td>White/Liver</td>\n",
       "    </tr>\n",
       "    <tr>\n",
       "      <th>2</th>\n",
       "      <td>A724273</td>\n",
       "      <td>Stray</td>\n",
       "      <td>Normal</td>\n",
       "      <td>Dog</td>\n",
       "      <td>Intact Male</td>\n",
       "      <td>11 months</td>\n",
       "      <td>Basenji Mix</td>\n",
       "      <td>Sable/White</td>\n",
       "    </tr>\n",
       "    <tr>\n",
       "      <th>3</th>\n",
       "      <td>A665644</td>\n",
       "      <td>Stray</td>\n",
       "      <td>Sick</td>\n",
       "      <td>Cat</td>\n",
       "      <td>Intact Female</td>\n",
       "      <td>4 weeks</td>\n",
       "      <td>Domestic Shorthair Mix</td>\n",
       "      <td>Calico</td>\n",
       "    </tr>\n",
       "    <tr>\n",
       "      <th>4</th>\n",
       "      <td>A682524</td>\n",
       "      <td>Stray</td>\n",
       "      <td>Normal</td>\n",
       "      <td>Dog</td>\n",
       "      <td>Neutered Male</td>\n",
       "      <td>4 years</td>\n",
       "      <td>Doberman Pinsch/Australian Cattle Dog</td>\n",
       "      <td>Tan/Gray</td>\n",
       "    </tr>\n",
       "  </tbody>\n",
       "</table>\n",
       "</div>"
      ],
      "text/plain": [
       "  Animal ID Intake Type Intake Condition Animal Type Sex upon Intake  \\\n",
       "0   A786884       Stray           Normal         Dog   Neutered Male   \n",
       "1   A706918       Stray           Normal         Dog   Spayed Female   \n",
       "2   A724273       Stray           Normal         Dog     Intact Male   \n",
       "3   A665644       Stray             Sick         Cat   Intact Female   \n",
       "4   A682524       Stray           Normal         Dog   Neutered Male   \n",
       "\n",
       "  Age upon Intake                                  Breed        Color  \n",
       "0         2 years                             Beagle Mix     Tricolor  \n",
       "1         8 years               English Springer Spaniel  White/Liver  \n",
       "2       11 months                            Basenji Mix  Sable/White  \n",
       "3         4 weeks                 Domestic Shorthair Mix       Calico  \n",
       "4         4 years  Doberman Pinsch/Australian Cattle Dog     Tan/Gray  "
      ]
     },
     "execution_count": 36,
     "metadata": {},
     "output_type": "execute_result"
    }
   ],
   "source": [
    "intakes_df = intakes_df.drop(columns=['Name', 'DateTime', 'MonthYear', 'Found Location'])\n",
    "intakes_df.head()"
   ]
  },
  {
   "cell_type": "markdown",
   "metadata": {},
   "source": [
    "Similarly, `Name`, `DateTime`, `Date of Birth`, and `Outcome Subtype` can immedietly be dropped from `outcomes_df` because there features will not be relevant to classification. Once again, `Name` is clearly irrelevant; the `DateTime` of the outcome makes no difference as to what the outcome is; the `Date of Birth` of the animal is related to its `Age upon Outcome` and thus is not important; and we are not interested in `Outcome Subtype` at the moment. We decided to keep `MonthYear` because it is possible that animals (or some types of animals) are adopted more at certain times of the year (e.x. Christmas) than others. `outcomes_ds` after removing these features is as follows."
   ]
  },
  {
   "cell_type": "code",
   "execution_count": 37,
   "metadata": {},
   "outputs": [
    {
     "data": {
      "text/html": [
       "<div>\n",
       "<style scoped>\n",
       "    .dataframe tbody tr th:only-of-type {\n",
       "        vertical-align: middle;\n",
       "    }\n",
       "\n",
       "    .dataframe tbody tr th {\n",
       "        vertical-align: top;\n",
       "    }\n",
       "\n",
       "    .dataframe thead th {\n",
       "        text-align: right;\n",
       "    }\n",
       "</style>\n",
       "<table border=\"1\" class=\"dataframe\">\n",
       "  <thead>\n",
       "    <tr style=\"text-align: right;\">\n",
       "      <th></th>\n",
       "      <th>Animal ID</th>\n",
       "      <th>MonthYear</th>\n",
       "      <th>Outcome Type</th>\n",
       "      <th>Animal Type</th>\n",
       "      <th>Sex upon Outcome</th>\n",
       "      <th>Age upon Outcome</th>\n",
       "      <th>Breed</th>\n",
       "      <th>Color</th>\n",
       "    </tr>\n",
       "  </thead>\n",
       "  <tbody>\n",
       "    <tr>\n",
       "      <th>0</th>\n",
       "      <td>A794011</td>\n",
       "      <td>May 2019</td>\n",
       "      <td>Rto-Adopt</td>\n",
       "      <td>Cat</td>\n",
       "      <td>Neutered Male</td>\n",
       "      <td>2 years</td>\n",
       "      <td>Domestic Shorthair Mix</td>\n",
       "      <td>Brown Tabby/White</td>\n",
       "    </tr>\n",
       "    <tr>\n",
       "      <th>1</th>\n",
       "      <td>A776359</td>\n",
       "      <td>Jul 2018</td>\n",
       "      <td>Adoption</td>\n",
       "      <td>Dog</td>\n",
       "      <td>Neutered Male</td>\n",
       "      <td>1 year</td>\n",
       "      <td>Chihuahua Shorthair Mix</td>\n",
       "      <td>White/Brown</td>\n",
       "    </tr>\n",
       "    <tr>\n",
       "      <th>2</th>\n",
       "      <td>A821648</td>\n",
       "      <td>Aug 2020</td>\n",
       "      <td>Euthanasia</td>\n",
       "      <td>Other</td>\n",
       "      <td>Unknown</td>\n",
       "      <td>1 year</td>\n",
       "      <td>Raccoon</td>\n",
       "      <td>Gray</td>\n",
       "    </tr>\n",
       "    <tr>\n",
       "      <th>3</th>\n",
       "      <td>A720371</td>\n",
       "      <td>Feb 2016</td>\n",
       "      <td>Adoption</td>\n",
       "      <td>Dog</td>\n",
       "      <td>Neutered Male</td>\n",
       "      <td>4 months</td>\n",
       "      <td>Anatol Shepherd/Labrador Retriever</td>\n",
       "      <td>Buff</td>\n",
       "    </tr>\n",
       "    <tr>\n",
       "      <th>4</th>\n",
       "      <td>A674754</td>\n",
       "      <td>Mar 2014</td>\n",
       "      <td>Transfer</td>\n",
       "      <td>Cat</td>\n",
       "      <td>Intact Male</td>\n",
       "      <td>6 days</td>\n",
       "      <td>Domestic Shorthair Mix</td>\n",
       "      <td>Orange Tabby</td>\n",
       "    </tr>\n",
       "  </tbody>\n",
       "</table>\n",
       "</div>"
      ],
      "text/plain": [
       "  Animal ID MonthYear Outcome Type Animal Type Sex upon Outcome  \\\n",
       "0   A794011  May 2019    Rto-Adopt         Cat    Neutered Male   \n",
       "1   A776359  Jul 2018     Adoption         Dog    Neutered Male   \n",
       "2   A821648  Aug 2020   Euthanasia       Other          Unknown   \n",
       "3   A720371  Feb 2016     Adoption         Dog    Neutered Male   \n",
       "4   A674754  Mar 2014     Transfer         Cat      Intact Male   \n",
       "\n",
       "  Age upon Outcome                               Breed              Color  \n",
       "0          2 years              Domestic Shorthair Mix  Brown Tabby/White  \n",
       "1           1 year             Chihuahua Shorthair Mix        White/Brown  \n",
       "2           1 year                             Raccoon               Gray  \n",
       "3         4 months  Anatol Shepherd/Labrador Retriever               Buff  \n",
       "4           6 days              Domestic Shorthair Mix       Orange Tabby  "
      ]
     },
     "execution_count": 37,
     "metadata": {},
     "output_type": "execute_result"
    }
   ],
   "source": [
    "outcomes_df = outcomes_df.drop(columns=['Name', 'DateTime', 'Date of Birth', 'Outcome Subtype'])\n",
    "outcomes_df.head()"
   ]
  },
  {
   "cell_type": "markdown",
   "metadata": {},
   "source": [
    "As can be seen below, there are some values are missing from some rows in both `intakes_df` and `outcomes_df`. However, this is not a significant number of rows, so we just drop these rows. "
   ]
  },
  {
   "cell_type": "code",
   "execution_count": 38,
   "metadata": {},
   "outputs": [
    {
     "name": "stdout",
     "output_type": "stream",
     "text": [
      "Total number of rows in intakes_df: 138350\n",
      "\n",
      "Number of non-NaN rows (or rows without missing values in general) in intakes_df\n",
      "Animal ID           138350\n",
      "Intake Type         138350\n",
      "Intake Condition    138350\n",
      "Animal Type         138350\n",
      "Sex upon Intake     138349\n",
      "Age upon Intake     138350\n",
      "Breed               138350\n",
      "Color               138350\n",
      "dtype: int64\n",
      "\n",
      "Total number of rows in intakes_df: 138565\n",
      "\n",
      "Number of non-NaN rows (or rows without missing values in general) in outcomes_df\n",
      "Animal ID           138565\n",
      "MonthYear           138565\n",
      "Outcome Type        138542\n",
      "Animal Type         138565\n",
      "Sex upon Outcome    138564\n",
      "Age upon Outcome    138559\n",
      "Breed               138565\n",
      "Color               138565\n",
      "dtype: int64\n"
     ]
    }
   ],
   "source": [
    "print('Total number of rows in intakes_df: {:d}\\n'.format(intakes_df.shape[0]))\n",
    "print('Number of non-NaN rows (or rows without missing values in general) in intakes_df')\n",
    "print(intakes_df.count()) \n",
    "\n",
    "print('\\nTotal number of rows in intakes_df: {:d}\\n'.format(outcomes_df.shape[0]))\n",
    "print('Number of non-NaN rows (or rows without missing values in general) in outcomes_df')\n",
    "print(outcomes_df.count()) "
   ]
  },
  {
   "cell_type": "code",
   "execution_count": 39,
   "metadata": {},
   "outputs": [],
   "source": [
    "intakes_df.dropna(inplace=True)\n",
    "outcomes_df.dropna(inplace=True)"
   ]
  },
  {
   "cell_type": "markdown",
   "metadata": {},
   "source": [
    "We also notice that there are some erroneous values for `Age upon Intake` and `Age upon Outcome` in the `intakes_df` and `outcomes_df`. Thus, we drop these rows (we do not try to rectify such values so as to not skew the data or introduce any other type of bias)."
   ]
  },
  {
   "cell_type": "code",
   "execution_count": null,
   "metadata": {},
   "outputs": [],
   "source": [
    "print('Unique values of Age upon Intake')\n",
    "print(intakes_df['Age upon Intake'].unique())\n",
    "print()\n",
    "print('Unique values of Age upon Outcome')\n",
    "print(outcomes_df['Age upon Outcome'].unique())"
   ]
  },
  {
   "cell_type": "code",
   "execution_count": null,
   "metadata": {},
   "outputs": [],
   "source": [
    "# Dropping erroneous values in intakes_df\n",
    "indices = (intakes_df['Age upon Intake'] == '-1 years')\n",
    "indices = indices.index[indices == True].tolist()\n",
    "intakes_df.drop(indices, inplace=True)\n",
    "indices = (intakes_df['Age upon Intake'] == '-2 years')\n",
    "indices = indices.index[indices == True].tolist()\n",
    "intakes_df.drop(indices, inplace=True)\n",
    "indices = (intakes_df['Age upon Intake'] == '-3 years')\n",
    "indices = indices.index[indices == True].tolist()\n",
    "intakes_df.drop(indices, inplace=True)\n",
    "\n",
    "# Dropping erroneous values in outcomes_df\n",
    "indices = (outcomes_df['Age upon Outcome'] == '0 years')\n",
    "indices = indices.index[indices == True].tolist()\n",
    "outcomes_df.drop(indices, inplace=True)\n",
    "indices = (outcomes_df['Age upon Outcome'] == '-1 years')\n",
    "indices = indices.index[indices == True].tolist()\n",
    "outcomes_df.drop(indices, inplace=True)\n",
    "indices = (outcomes_df['Age upon Outcome'] == '-2 years')\n",
    "indices = indices.index[indices == True].tolist()\n",
    "outcomes_df.drop(indices, inplace=True)\n",
    "indices = (outcomes_df['Age upon Outcome'] == '-3 years')\n",
    "indices = indices.index[indices == True].tolist()\n",
    "outcomes_df.drop(indices, inplace=True)\n",
    "\n",
    "print('Unique values of Age upon Intake')\n",
    "print(intakes_df['Age upon Intake'].unique())\n",
    "print()\n",
    "print('Unique values of Age upon Outcome')\n",
    "print(outcomes_df['Age upon Outcome'].unique())"
   ]
  },
  {
   "cell_type": "markdown",
   "metadata": {},
   "source": [
    "The same can be noticed for `Sex upon intake` and `Sex upon Outcome` for both `intakes_df` and `outcomes_df`. Both have values of `Unknown` which, while it may not be fully erroneous, is not very useful. Hence, we drop all rows with these values as well. Note that this will not impact us in the long run since we have quite a large amount of data to work with. "
   ]
  },
  {
   "cell_type": "code",
   "execution_count": null,
   "metadata": {},
   "outputs": [],
   "source": [
    "print('Unique values of Sex upon Intake in intakes_df')\n",
    "print(intakes_df['Sex upon Intake'].unique())\n",
    "print()\n",
    "print('Unique values of Sex upon Outcome in outcomes_df')\n",
    "print(outcomes_df['Sex upon Outcome'].unique())"
   ]
  },
  {
   "cell_type": "code",
   "execution_count": null,
   "metadata": {},
   "outputs": [],
   "source": [
    "# Dropping erroneous values in intakes_df\n",
    "indices = (intakes_df['Sex upon Intake'] == 'Unknown')\n",
    "indices = indices.index[indices == True].tolist()\n",
    "intakes_df.drop(indices, inplace=True)\n",
    "\n",
    "# Dropping erroneous values in outcomes_df\n",
    "indices = (outcomes_df['Sex upon Outcome'] == 'Unknown')\n",
    "indices = indices.index[indices == True].tolist()\n",
    "outcomes_df.drop(indices, inplace=True)\n",
    "\n",
    "print('Unique values of Sex upon Intake in intakes_df')\n",
    "print(intakes_df['Sex upon Intake'].unique())\n",
    "print()\n",
    "print('Unique values of Sex upon Outcome in outcomes_df')\n",
    "print(outcomes_df['Sex upon Outcome'].unique())"
   ]
  },
  {
   "cell_type": "code",
   "execution_count": 40,
   "metadata": {},
   "outputs": [],
   "source": [
    "# Make a copy of the cleaned, original dataset for future use\n",
    "intakes_original = intakes_df.copy()\n",
    "outcomes_original = outcomes_df.copy()"
   ]
  },
  {
   "cell_type": "markdown",
   "metadata": {},
   "source": [
    "### Data Exploration and Feature Engineering"
   ]
  },
  {
   "cell_type": "markdown",
   "metadata": {},
   "source": [
    "We can see that most of the features are categorical data. Specifically, `Intake Type`, `Intake Condition`, `Animal Type`, `Sex upon Intake`, `Breed`, and `Color` are categorical features in `intakes_df`. Similarly, `Outcome Type`, `Animal Type`, `Sex upon Outcome`, `Breed`, and `Color` are all categorial features in `outcomes_df`. We change these feature values from string to labels using `pd.factorize` for ease of use with our classifiers later."
   ]
  },
  {
   "cell_type": "code",
   "execution_count": 41,
   "metadata": {},
   "outputs": [],
   "source": [
    "# Assigning labels for intakes_df\n",
    "categorical_features = ['Intake Type', 'Intake Condition', 'Animal Type', 'Sex upon Intake', 'Breed', 'Color']\n",
    "intakes_df[categorical_features] = intakes_df[categorical_features].apply(lambda x: pd.factorize(x)[0])\n",
    "\n",
    "# Assigning labels for outcomes_df\n",
    "categorical_features = ['Outcome Type', 'Animal Type', 'Sex upon Outcome', 'Breed', 'Color']\n",
    "outcomes_df[categorical_features] = outcomes_df[categorical_features].apply(lambda x: pd.factorize(x)[0])"
   ]
  },
  {
   "cell_type": "markdown",
   "metadata": {},
   "source": [
    "We can also see that `Age upon Intake` and `Age upon Outcome` features in `intakes_df` and `outcomes_df` is currently a string. We cast this to a number for better use with our classifiers. "
   ]
  },
  {
   "cell_type": "code",
   "execution_count": 42,
   "metadata": {},
   "outputs": [],
   "source": [
    "def standardize_age(age):\n",
    "  if 'month' in age:\n",
    "    return 0\n",
    "  if 'year' in age:\n",
    "    return int(age.split(' ')[0])\n",
    "  if 'day' in age:\n",
    "    return 0\n",
    "  return 0\n",
    "\n",
    "intakes_df['Intake Age (Years)'] = intakes_df['Age upon Intake'].apply(lambda x: standardize_age(x))\n",
    "intakes_df = intakes_df.drop(columns=['Age upon Intake'])\n",
    "\n",
    "outcomes_df['Outcome Age (Years)'] = outcomes_df['Age upon Outcome'].apply(lambda x: standardize_age(x))\n",
    "outcomes_df['Outcome Month'] = outcomes_df['MonthYear'].apply(lambda x: x.split(' ')[0])\n",
    "outcomes_df['Outcome Month'] = outcomes_df['Outcome Month'].map(lambda x: ['Jan', 'Feb', 'Mar', 'Apr', 'May', 'Jun', 'Jul', 'Aug', 'Sep', 'Oct', 'Nov', 'Dec'].index(x) + 1)\n",
    "outcomes_df['Outcome Year'] = outcomes_df['MonthYear'].apply(lambda x: x.split(' ')[1])\n",
    "outcomes_df = outcomes_df.drop(columns=['Age upon Outcome', 'MonthYear'])"
   ]
  },
  {
   "cell_type": "markdown",
   "metadata": {},
   "source": [
    "A number of the animals come in and go out of the animal center multiple times, and we can see that when comparing the number of unique animal id's to the number of total records for both datasets. Since we have so much data, for simplicity sake, we will consider only the animals that have completely unique records in the dataframes"
   ]
  },
  {
   "cell_type": "code",
   "execution_count": 43,
   "metadata": {},
   "outputs": [
    {
     "name": "stdout",
     "output_type": "stream",
     "text": [
      "123675\n",
      "138349\n",
      "123863\n",
      "138535\n"
     ]
    }
   ],
   "source": [
    "print(len(intakes_df['Animal ID'].unique()))\n",
    "print(len(intakes_df['Animal ID']))\n",
    "print(len(outcomes_df['Animal ID'].unique()))\n",
    "print(len(outcomes_df['Animal ID']))"
   ]
  },
  {
   "cell_type": "code",
   "execution_count": 44,
   "metadata": {},
   "outputs": [],
   "source": [
    "intakes_df = intakes_df.drop_duplicates(subset=['Animal ID'])\n",
    "outcomes_df = outcomes_df.drop_duplicates(subset=['Animal ID'])"
   ]
  },
  {
   "cell_type": "markdown",
   "metadata": {},
   "source": [
    "Now that appropriate pre-processing has been done on both `intakes_df` and `outcomes_df`, we can combine both `intakes_df` and `outcomes_df` on `Animal ID` to get our final dataset. We will drop `Animal ID` because after this point it will not be useful to us for the task of classfication."
   ]
  },
  {
   "cell_type": "code",
   "execution_count": 47,
   "metadata": {},
   "outputs": [
    {
     "data": {
      "text/html": [
       "<div>\n",
       "<style scoped>\n",
       "    .dataframe tbody tr th:only-of-type {\n",
       "        vertical-align: middle;\n",
       "    }\n",
       "\n",
       "    .dataframe tbody tr th {\n",
       "        vertical-align: top;\n",
       "    }\n",
       "\n",
       "    .dataframe thead th {\n",
       "        text-align: right;\n",
       "    }\n",
       "</style>\n",
       "<table border=\"1\" class=\"dataframe\">\n",
       "  <thead>\n",
       "    <tr style=\"text-align: right;\">\n",
       "      <th></th>\n",
       "      <th>Intake Type</th>\n",
       "      <th>Intake Condition</th>\n",
       "      <th>Animal Type</th>\n",
       "      <th>Sex upon Intake</th>\n",
       "      <th>Breed</th>\n",
       "      <th>Color</th>\n",
       "      <th>Intake Age (Years)</th>\n",
       "      <th>Outcome Type</th>\n",
       "      <th>Sex upon Outcome</th>\n",
       "      <th>Outcome Age (Years)</th>\n",
       "      <th>Outcome Month</th>\n",
       "      <th>Outcome Year</th>\n",
       "    </tr>\n",
       "  </thead>\n",
       "  <tbody>\n",
       "    <tr>\n",
       "      <th>0</th>\n",
       "      <td>0</td>\n",
       "      <td>0</td>\n",
       "      <td>0</td>\n",
       "      <td>0</td>\n",
       "      <td>0</td>\n",
       "      <td>0</td>\n",
       "      <td>2</td>\n",
       "      <td>3</td>\n",
       "      <td>0</td>\n",
       "      <td>2</td>\n",
       "      <td>1</td>\n",
       "      <td>2019</td>\n",
       "    </tr>\n",
       "    <tr>\n",
       "      <th>1</th>\n",
       "      <td>0</td>\n",
       "      <td>0</td>\n",
       "      <td>0</td>\n",
       "      <td>1</td>\n",
       "      <td>1</td>\n",
       "      <td>1</td>\n",
       "      <td>8</td>\n",
       "      <td>4</td>\n",
       "      <td>3</td>\n",
       "      <td>8</td>\n",
       "      <td>7</td>\n",
       "      <td>2015</td>\n",
       "    </tr>\n",
       "    <tr>\n",
       "      <th>2</th>\n",
       "      <td>0</td>\n",
       "      <td>0</td>\n",
       "      <td>0</td>\n",
       "      <td>2</td>\n",
       "      <td>2</td>\n",
       "      <td>2</td>\n",
       "      <td>0</td>\n",
       "      <td>4</td>\n",
       "      <td>0</td>\n",
       "      <td>1</td>\n",
       "      <td>4</td>\n",
       "      <td>2016</td>\n",
       "    </tr>\n",
       "    <tr>\n",
       "      <th>3</th>\n",
       "      <td>0</td>\n",
       "      <td>1</td>\n",
       "      <td>1</td>\n",
       "      <td>3</td>\n",
       "      <td>3</td>\n",
       "      <td>3</td>\n",
       "      <td>0</td>\n",
       "      <td>3</td>\n",
       "      <td>4</td>\n",
       "      <td>0</td>\n",
       "      <td>10</td>\n",
       "      <td>2013</td>\n",
       "    </tr>\n",
       "    <tr>\n",
       "      <th>4</th>\n",
       "      <td>0</td>\n",
       "      <td>0</td>\n",
       "      <td>0</td>\n",
       "      <td>0</td>\n",
       "      <td>4</td>\n",
       "      <td>4</td>\n",
       "      <td>4</td>\n",
       "      <td>4</td>\n",
       "      <td>0</td>\n",
       "      <td>4</td>\n",
       "      <td>7</td>\n",
       "      <td>2014</td>\n",
       "    </tr>\n",
       "  </tbody>\n",
       "</table>\n",
       "</div>"
      ],
      "text/plain": [
       "   Intake Type  Intake Condition  Animal Type  Sex upon Intake  Breed  Color  \\\n",
       "0            0                 0            0                0      0      0   \n",
       "1            0                 0            0                1      1      1   \n",
       "2            0                 0            0                2      2      2   \n",
       "3            0                 1            1                3      3      3   \n",
       "4            0                 0            0                0      4      4   \n",
       "\n",
       "   Intake Age (Years)  Outcome Type  Sex upon Outcome  Outcome Age (Years)  \\\n",
       "0                   2             3                 0                    2   \n",
       "1                   8             4                 3                    8   \n",
       "2                   0             4                 0                    1   \n",
       "3                   0             3                 4                    0   \n",
       "4                   4             4                 0                    4   \n",
       "\n",
       "   Outcome Month Outcome Year  \n",
       "0              1         2019  \n",
       "1              7         2015  \n",
       "2              4         2016  \n",
       "3             10         2013  \n",
       "4              7         2014  "
      ]
     },
     "execution_count": 47,
     "metadata": {},
     "output_type": "execute_result"
    }
   ],
   "source": [
    "# Combine together into singular dataframe\n",
    "data = intakes_df.merge(outcomes_df[['Animal ID', 'Outcome Type', 'Sex upon Outcome', 'Outcome Age (Years)', 'Outcome Month', 'Outcome Year']], on='Animal ID')\n",
    "data = data.drop('Animal ID', axis=1)\n",
    "data.head()"
   ]
  },
  {
   "cell_type": "markdown",
   "metadata": {},
   "source": [
    "Now, let's plot a histogram of each feature to check the distribution of its values"
   ]
  },
  {
   "cell_type": "code",
   "execution_count": 50,
   "metadata": {},
   "outputs": [
    {
     "data": {
      "image/png": "[encoded data removed]",
      "text/plain": [
       "<Figure size 432x288 with 1 Axes>"
      ]
     },
     "metadata": {
      "needs_background": "light"
     },
     "output_type": "display_data"
    },
    {
     "data": {
      "image/png": "[encoded data removed]",
      "text/plain": [
       "<Figure size 432x288 with 1 Axes>"
      ]
     },
     "metadata": {
      "needs_background": "light"
     },
     "output_type": "display_data"
    },
    {
     "data": {
      "image/png": "[encoded data removed]",
      "text/plain": [
       "<Figure size 432x288 with 1 Axes>"
      ]
     },
     "metadata": {
      "needs_background": "light"
     },
     "output_type": "display_data"
    },
    {
     "data": {
      "image/png": "[encoded data removed]",
      "text/plain": [
       "<Figure size 432x288 with 1 Axes>"
      ]
     },
     "metadata": {
      "needs_background": "light"
     },
     "output_type": "display_data"
    },
    {
     "data": {
      "image/png": "[encoded data removed]",
      "text/plain": [
       "<Figure size 432x288 with 1 Axes>"
      ]
     },
     "metadata": {
      "needs_background": "light"
     },
     "output_type": "display_data"
    },
    {
     "data": {
      "image/png": "[encoded data removed]",
      "text/plain": [
       "<Figure size 432x288 with 1 Axes>"
      ]
     },
     "metadata": {
      "needs_background": "light"
     },
     "output_type": "display_data"
    },
    {
     "data": {
      "image/png": "[encoded data removed]",
      "text/plain": [
       "<Figure size 432x288 with 1 Axes>"
      ]
     },
     "metadata": {
      "needs_background": "light"
     },
     "output_type": "display_data"
    },
    {
     "data": {
      "image/png": "[encoded data removed]",
      "text/plain": [
       "<Figure size 432x288 with 1 Axes>"
      ]
     },
     "metadata": {
      "needs_background": "light"
     },
     "output_type": "display_data"
    }
   ],
   "source": [
    "# Plot a histogram of each feature value for all features\n",
    "# that are categorical features. Note that the x-axis of \n",
    "# these histograms is a number, which represents a specific\n",
    "# label for that feature.\n",
    "for column in data.columns:\n",
    "    check = (column == 'Intake Age (Years)' or column == 'Outcome Age (Years)' \\\n",
    "                        or column == 'Outcome Month' or column == 'Outcome Year')\n",
    "    if check: continue # skip these columns since they are continuous features\n",
    "    \n",
    "    data.hist(column=column)"
   ]
  },
  {
   "cell_type": "markdown",
   "metadata": {},
   "source": [
    "We can see that the class label distribution is extremely imbalanced, with some in the tens of thousands for count, while others less than 100."
   ]
  },
  {
   "cell_type": "code",
   "execution_count": 51,
   "metadata": {},
   "outputs": [
    {
     "data": {
      "text/plain": [
       "1    55019\n",
       "3    38194\n",
       "4    18292\n",
       "2     8901\n",
       "5     1270\n",
       "0      665\n",
       "6      624\n",
       "7       60\n",
       "8       24\n",
       "Name: Outcome Type, dtype: int64"
      ]
     },
     "execution_count": 51,
     "metadata": {},
     "output_type": "execute_result"
    }
   ],
   "source": [
    "data['Outcome Type'].value_counts()"
   ]
  },
  {
   "cell_type": "markdown",
   "metadata": {},
   "source": [
    "Looking at the original data (which lists a bunch of duplicate animals), these low categories correspond to things like Missing and Relocate, which do not really align with our goal anyway; furthermore, these class labels clearly do not have enough data associated with them to be releveant in a classifier. So, we will drop these categories to avoid having to heavily oversample or undersample to balance the dataset"
   ]
  },
  {
   "cell_type": "code",
   "execution_count": 52,
   "metadata": {},
   "outputs": [
    {
     "data": {
      "text/plain": [
       "Adoption           63422\n",
       "Transfer           40094\n",
       "Return to Owner    22995\n",
       "Euthanasia          9121\n",
       "Died                1301\n",
       "Rto-Adopt            876\n",
       "Disposal             629\n",
       "Missing               72\n",
       "Relocate              25\n",
       "Name: Outcome Type, dtype: int64"
      ]
     },
     "execution_count": 52,
     "metadata": {},
     "output_type": "execute_result"
    }
   ],
   "source": [
    "outcomes_original['Outcome Type'].value_counts()"
   ]
  },
  {
   "cell_type": "code",
   "execution_count": null,
   "metadata": {},
   "outputs": [],
   "source": [
    "indices = (data['Outcome Type'] == 7)\n",
    "indices = indices.index[indices == True].tolist()\n",
    "data.drop(indices, inplace=True)\n",
    "\n",
    "indices = (data['Outcome Type'] == 6)\n",
    "indices = indices.index[indices == True].tolist()\n",
    "data.drop(indices, inplace=True)\n",
    "\n",
    "indices = (data['Outcome Type'] == 8)\n",
    "indices = indices.index[indices == True].tolist()\n",
    "data.drop(indices, inplace=True)\n",
    "\n",
    "# data['Outcome Type'].value_counts()"
   ]
  },
  {
   "cell_type": "code",
   "execution_count": null,
   "metadata": {},
   "outputs": [],
   "source": [
    "data['Outcome Type'].value_counts()"
   ]
  },
  {
   "cell_type": "code",
   "execution_count": 53,
   "metadata": {},
   "outputs": [],
   "source": [
    "# low_outcomes = data['Outcome Type'].value_counts()[-3:]\n",
    "# data = data[~data['Outcome Type'].isin(low_outcomes.index)]\n",
    "# data['Outcome Type'].value_counts()"
   ]
  },
  {
   "cell_type": "markdown",
   "metadata": {},
   "source": [
    "Now that we have removed the very low and useless categories, we will use SMOTE to oversample minority data to balance the dataset"
   ]
  },
  {
   "cell_type": "code",
   "execution_count": 54,
   "metadata": {},
   "outputs": [
    {
     "name": "stdout",
     "output_type": "stream",
     "text": [
      "1    55019\n",
      "3    38194\n",
      "4    18292\n",
      "2     8901\n",
      "5     1270\n",
      "0      665\n",
      "6      624\n",
      "7       60\n",
      "8       24\n",
      "Name: Outcome Type, dtype: int64\n",
      "        Intake Type  Intake Condition  Animal Type  Sex upon Intake  Breed  \\\n",
      "0                 0                 0            0                0      0   \n",
      "1                 0                 0            0                1      1   \n",
      "2                 0                 0            0                2      2   \n",
      "3                 0                 1            1                3      3   \n",
      "4                 0                 0            0                0      4   \n",
      "...             ...               ...          ...              ...    ...   \n",
      "123044            1                 0            0                2     19   \n",
      "123045            1                 0            1                1    104   \n",
      "123046            1                 0            0                1    182   \n",
      "123047            2                 0            0                1    136   \n",
      "123048            0                 0            0                3      8   \n",
      "\n",
      "        Color  Intake Age (Years)  Sex upon Outcome  Outcome Age (Years)  \\\n",
      "0           0                   2                 0                    2   \n",
      "1           1                   8                 3                    8   \n",
      "2           2                   0                 0                    1   \n",
      "3           3                   0                 4                    0   \n",
      "4           4                   4                 0                    4   \n",
      "...       ...                 ...               ...                  ...   \n",
      "123044     33                   0                 0                    0   \n",
      "123045     96                   7                 3                    0   \n",
      "123046     16                   4                 3                    4   \n",
      "123047      8                   2                 3                    2   \n",
      "123048     18                   5                 4                    5   \n",
      "\n",
      "        Outcome Month Outcome Year  \n",
      "0                   1         2019  \n",
      "1                   7         2015  \n",
      "2                   4         2016  \n",
      "3                  10         2013  \n",
      "4                   7         2014  \n",
      "...               ...          ...  \n",
      "123044              4         2022  \n",
      "123045             12         2014  \n",
      "123046              1         2018  \n",
      "123047              8         2020  \n",
      "123048              4         2022  \n",
      "\n",
      "[123049 rows x 11 columns]\n"
     ]
    }
   ],
   "source": [
    "# smote = SMOTE(random_state=0)\n",
    "# features, labels = smote.fit_resample(data.drop('Outcome Type', axis=1), data['Outcome Type'])\n",
    "\n",
    "# feature_data = []\n",
    "# for i in labels.unique():\n",
    "#     indices = np.where(labels == i)[0]\n",
    "#     feature_data.append(features[features.index.isin(list(indices[:2000]))])\n",
    "\n",
    "# features = pd.concat(feature_data, ignore_index=True)\n",
    "# labels_list = []\n",
    "# for i in labels.unique():\n",
    "#     labels_list.extend([i] * 2000)\n",
    "# features['Label'] = labels_list\n",
    "\n",
    "# features = features.sample(frac=1).reset_index(drop=True)\n",
    "\n",
    "labels = data['Outcome Type']\n",
    "features = data.drop('Outcome Type', axis=1)\n",
    "print(labels.value_counts())\n",
    "print(features)"
   ]
  },
  {
   "cell_type": "markdown",
   "metadata": {},
   "source": [
    "### Data Analysis"
   ]
  },
  {
   "cell_type": "markdown",
   "metadata": {},
   "source": [
    "#### KNN Classiffier"
   ]
  },
  {
   "cell_type": "code",
   "execution_count": null,
   "metadata": {},
   "outputs": [],
   "source": [
    "from sklearn.preprocessing import StandardScaler\n",
    "from sklearn.decomposition import PCA\n",
    "from sklearn.neighbors import KNeighborsClassifier\n",
    "from sklearn.pipeline import Pipeline\n",
    "from sklearn.model_selection import cross_val_score\n",
    "from sklearn.model_selection import GridSearchCV\n",
    "\n",
    "std = StandardScaler()\n",
    "pca = PCA()\n",
    "knn = KNeighborsClassifier(n_neighbors=7)\n",
    "p = Pipeline([('scaler', std), ('pca', pca), ('knn', knn)])\n",
    "nested_score = cross_val_score(p, features, labels, cv=5)\n",
    "\n",
    "\n",
    "param_grid = {\n",
    "    'pca__n_components': list(range(5, 12)),\n",
    "    'knn__n_neighbors': list(range(1, 25))\n",
    "}\n",
    "\n",
    "# your code goes here\n",
    "search = GridSearchCV(p, param_grid, cv=5)\n",
    "search.fit(features, labels)\n",
    "print(search.best_params_)\n",
    "print(\"Accuracy:\", search.best_score_*100)"
   ]
  },
  {
   "cell_type": "markdown",
   "metadata": {},
   "source": [
    "#### AdaBoost Ensemble Classifier"
   ]
  },
  {
   "cell_type": "code",
   "execution_count": null,
   "metadata": {},
   "outputs": [],
   "source": [
    "from sklearn.ensemble import AdaBoostClassifier, GradientBoostingClassifier\n",
    "from imblearn.over_sampling import SMOTE\n",
    "from imblearn.pipeline import Pipeline as imbpipeline\n",
    "from sklearn.preprocessing import StandardScaler\n",
    "from sklearn.model_selection import train_test_split, GridSearchCV, StratifiedKFold\n",
    "\n",
    "X = data.drop('Outcome Type', axis=1)\n",
    "y = data['Outcome Type']\n",
    "\n",
    "X_train, X_test, y_train, y_test = train_test_split(X,\n",
    "                                                    y,\n",
    "                                                    test_size=0.2,\n",
    "                                                    stratify=y,\n",
    "                                                    random_state=11)\n",
    "\n",
    "smote = SMOTE(random_state = 11)\n",
    "X_train, y_train = smote.fit_resample(X_train, y_train)\n",
    "pipeline = Pipeline(steps = [['scaler', StandardScaler()],\n",
    "                             ['classifier', GradientBoostingClassifier()]])\n",
    "\n",
    "    \n",
    "param_grid = {\n",
    "    'classifier__n_estimators': list(range(150,151)),\n",
    "}\n",
    "grid_search = GridSearchCV(estimator=pipeline,\n",
    "                           param_grid=param_grid,\n",
    "                           cv=5)\n",
    "\n",
    "grid_search.fit(X_train, y_train)\n",
    "cv_score = grid_search.best_score_\n",
    "test_score = grid_search.score(X_test, y_test)\n",
    "print(f'Cross-validation score: {cv_score}\\nTest score: {test_score}')\n",
    "\n",
    "# ada = AdaBoostClassifier(n_estimators=150)\n",
    "# print(cross_val_score(ada, features, labels, cv=5).mean())"
   ]
  },
  {
   "cell_type": "markdown",
   "metadata": {},
   "source": [
    "#### AdaBoost with One Hot Encoding"
   ]
  },
  {
   "cell_type": "code",
   "execution_count": null,
   "metadata": {},
   "outputs": [],
   "source": [
    "from sklearn.preprocessing import OneHotEncoder\n",
    "\n",
    "data_intakes = intakes_original.copy()\n",
    "data_outcomes = outcomes_original.copy()\n",
    "\n",
    "def standardize_age(age):\n",
    "  if 'month' in age:\n",
    "    return 0\n",
    "  if 'year' in age:\n",
    "    return int(age.split(' ')[0])\n",
    "  if 'day' in age:\n",
    "    return 0\n",
    "  return 0\n",
    "\n",
    "data_intakes['Intake Age (Years)'] = data_intakes['Age upon Intake'].apply(lambda x: standardize_age(x))\n",
    "data_intakes = data_intakes.drop(columns=['Age upon Intake'])\n",
    "\n",
    "data_outcomes['Outcome Age (Years)'] = data_outcomes['Age upon Outcome'].apply(lambda x: standardize_age(x))\n",
    "data_outcomes['Outcome Month'] = data_outcomes['MonthYear'].apply(lambda x: x.split(' ')[0])\n",
    "data_outcomes['Outcome Month'] = data_outcomes['Outcome Month'].map(lambda x: ['Jan', 'Feb', 'Mar', 'Apr', 'May', 'Jun', 'Jul', 'Aug', 'Sep', 'Oct', 'Nov', 'Dec'].index(x) + 1)\n",
    "data_outcomes['Outcome Year'] = data_outcomes['MonthYear'].apply(lambda x: x.split(' ')[1])\n",
    "data_outcomes = data_outcomes.drop(columns=['Age upon Outcome', 'MonthYear'])\n",
    "\n",
    "data_intakes = data_intakes.drop_duplicates(subset=['Animal ID'])\n",
    "data_outcomes = data_outcomes.drop_duplicates(subset=['Animal ID'])\n",
    "\n",
    "# Combine together into singular dataframe\n",
    "data2 = data_intakes.merge(data_outcomes[['Animal ID', 'Outcome Type', 'Sex upon Outcome', 'Outcome Age (Years)', 'Outcome Month', 'Outcome Year']], on='Animal ID')\n",
    "data2 = data2.drop('Animal ID', axis=1)\n",
    "data2.info()\n",
    "\n",
    "continuous_vars = data2.select_dtypes([\"int64\"])\n",
    "categorical_vars = data2.select_dtypes([\"object\"])\n",
    "categorical_vars_cols = categorical_vars.columns\n",
    "\n",
    "one_hot_encoder = OneHotEncoder(sparse=False)\n",
    "categorical_vars = one_hot_encoder.fit_transform(categorical_vars)\n",
    "categorical_vars_cols = one_hot_encoder.get_feature_names(categorical_vars_cols)\n",
    "\n",
    "data3 = pd.DataFrame(data=categorical_vars, columns=categorical_vars_cols)\n",
    "data3 = pd.concat([data3, continuous_vars], axis=1)"
   ]
  },
  {
   "cell_type": "code",
   "execution_count": null,
   "metadata": {},
   "outputs": [],
   "source": [
    "from sklearn.ensemble import AdaBoostClassifier, GradientBoostingClassifier\n",
    "from imblearn.over_sampling import SMOTE\n",
    "from imblearn.pipeline import Pipeline as imbpipeline\n",
    "from sklearn.preprocessing import StandardScaler\n",
    "from sklearn.model_selection import train_test_split, GridSearchCV, StratifiedKFold\n",
    "\n",
    "# X = data.drop('Outcome Type', axis=1)\n",
    "# y = data['Outcome Type']\n",
    "\n",
    "drops = ['Outcome Type_Transfer', 'Outcome Type_Return to Owner', 'Outcome Type_Adoption', \n",
    "         'Outcome Type_Euthanasia', 'Outcome Type_Died', 'Outcome Type_Rto-Adopt', \n",
    "         'Outcome Type_Missing', 'Outcome Type_Disposal', 'Outcome Type_Relocate']\n",
    "holder = data3[data3['Intake Type_Stray'] == 1]\n",
    "X = holder.drop(drops, axis=1)\n",
    "y = holder['Outcome Type_Adoption']\n",
    "\n",
    "X_train, X_test, y_train, y_test = train_test_split(X,\n",
    "                                                    y,\n",
    "                                                    test_size=0.2,\n",
    "                                                    stratify=y,\n",
    "                                                    random_state=11)\n",
    "\n",
    "smote = SMOTE(random_state = 11)\n",
    "X_train, y_train = smote.fit_resample(X_train, y_train)\n",
    "pipeline = Pipeline(steps = [['scaler', StandardScaler()],\n",
    "                             ['classifier', AdaBoostClassifier()]])\n",
    "\n",
    "    \n",
    "param_grid = {\n",
    "    'classifier__n_estimators': list(range(150,151)),\n",
    "}\n",
    "grid_search = GridSearchCV(estimator=pipeline,\n",
    "                           param_grid=param_grid,\n",
    "                           cv=5)\n",
    "\n",
    "grid_search.fit(X_train, y_train)\n",
    "cv_score = grid_search.best_score_\n",
    "test_score = grid_search.score(X_test, y_test)\n",
    "print(f'Cross-validation score: {cv_score}\\nTest score: {test_score}')\n",
    "\n",
    "# ada = AdaBoostClassifier(n_estimators=150)\n",
    "# print(cross_val_score(ada, features, labels, cv=5).mean())"
   ]
  },
  {
   "cell_type": "markdown",
   "metadata": {},
   "source": [
    "### SVM"
   ]
  },
  {
   "cell_type": "code",
   "execution_count": 55,
   "metadata": {},
   "outputs": [],
   "source": [
    "# from sklearn.preprocessing import StandardScaler\n",
    "# from sklearn.decomposition import PCA\n",
    "# from sklearn.svm import SVC\n",
    "# from sklearn.pipeline import Pipeline\n",
    "# from sklearn.model_selection import GridSearchCV\n",
    "# from sklearn.metrics import accuracy_score\n",
    "# from sklearn.metrics import confusion_matrix, classification_report\n",
    "# from sklearn.model_selection import cross_val_predict\n",
    "\n",
    "# scaler = StandardScaler()\n",
    "# pca = PCA()\n",
    "# svc = SVC()\n",
    "\n",
    "# # data_copy = data.copy()\n",
    "# # data_copy.sample(frac=1).reset_index(drop=True)\n",
    "# # features, labels = data_copy.drop('Outcome Type', axis=1)[:18000], data_copy['Outcome Type'][:18000]\n",
    "\n",
    "# # pipeline = Pipeline(steps=[('scaling', scaler), ('svc', svc)])\n",
    "# # param_grid = {\n",
    "# #     # 'pca__n_components': [5],\n",
    "# #     'svc__kernel': ['linear']\n",
    "# # }\n",
    "# # grid_search = GridSearchCV(pipeline, param_grid, cv=5)\n",
    "\n",
    "# # predictions = cross_val_predict(grid_search, features, labels, cv=5)\n",
    "\n",
    "# # print(accuracy_score(labels, predictions))\n",
    "# # print(classification_report(labels, predictions))\n",
    "\n",
    "# # print(accuracy_score(labels, predictions))\n",
    "# # print(classification_report(labels, predictions))\n",
    "# p = Pipeline([('scaler', scaler), ('pca', pca), ('svc', svc)])\n",
    "# param_grid = {\n",
    "#     'pca__n_components': [5],\n",
    "#     'svc__kernel': ['linear', 'rbf', 'poly']\n",
    "# }\n",
    "# search = GridSearchCV(p, param_grid, cv=5)\n",
    "# search.fit(features, labels)\n",
    "# preds = cross_val_predict(search, features, labels, cv=5)\n",
    "# print(classification_report(labels, preds))"
   ]
  },
  {
   "cell_type": "markdown",
   "metadata": {},
   "source": [
    "## Decision Trees Nested Cross Validation"
   ]
  },
  {
   "cell_type": "code",
   "execution_count": 56,
   "metadata": {
    "colab": {
     "base_uri": "https://localhost:8080/"
    },
    "id": "Md-Xw2TIPuYI",
    "outputId": "3b2b0d10-1f17-433e-a21b-39d59bef3f10"
   },
   "outputs": [
    {
     "name": "stdout",
     "output_type": "stream",
     "text": [
      "Best values:  {'max_depth': 13, 'max_features': 9, 'min_samples_leaf': 20}\n",
      "Accuracy: 73.87708084386988\n"
     ]
    }
   ],
   "source": [
    "# Try out some classification approaches, with outcome type as the label\n",
    "from sklearn.model_selection import GridSearchCV\n",
    "from sklearn.tree import DecisionTreeClassifier\n",
    "\n",
    "decision_tree = DecisionTreeClassifier(criterion='entropy')\n",
    "grid_params = {\n",
    "    'max_depth': [5, 8, 13], \n",
    "    'min_samples_leaf': [5, 10, 15, 20], \n",
    "    'max_features': list(range(1, 12))\n",
    "}\n",
    "grid_search = GridSearchCV(decision_tree, grid_params, cv=5, scoring='accuracy')\n",
    "grid_search.fit(features, labels)\n",
    "\n",
    "print('Best values: ', grid_search.best_params_)\n",
    "print('Accuracy:', grid_search.best_score_*100)"
   ]
  },
  {
   "cell_type": "markdown",
   "metadata": {},
   "source": [
    "## k-Nearest Neighbor (KNN)"
   ]
  },
  {
   "cell_type": "code",
   "execution_count": 57,
   "metadata": {},
   "outputs": [
    {
     "name": "stdout",
     "output_type": "stream",
     "text": [
      "{'knn__n_neighbors': 22, 'pca__n_components': 11}\n",
      "Accuracy: 72.15337318984646\n"
     ]
    }
   ],
   "source": [
    "from sklearn.preprocessing import StandardScaler\n",
    "from sklearn.decomposition import PCA\n",
    "from sklearn.neighbors import KNeighborsClassifier\n",
    "from sklearn.pipeline import Pipeline\n",
    "from sklearn.model_selection import cross_val_score\n",
    "from sklearn.model_selection import GridSearchCV\n",
    "\n",
    "std = StandardScaler()\n",
    "pca = PCA()\n",
    "knn = KNeighborsClassifier(n_neighbors=7)\n",
    "p = Pipeline([('scaler', std), ('pca', pca), ('knn', knn)])\n",
    "nested_score = cross_val_score(p, features, labels, cv=5)\n",
    "\n",
    "\n",
    "param_grid = {\n",
    "    'pca__n_components': list(range(5, 12)),\n",
    "    'knn__n_neighbors': list(range(1, 25))\n",
    "}\n",
    "\n",
    "# your code goes here\n",
    "search = GridSearchCV(p, param_grid, cv=5)\n",
    "search.fit(features, labels)\n",
    "print(search.best_params_)\n",
    "print(\"Accuracy:\", search.best_score_*100)"
   ]
  },
  {
   "cell_type": "markdown",
   "metadata": {},
   "source": [
    "## Naive Bayes (NB) & Evaluation Metrics"
   ]
  },
  {
   "cell_type": "code",
   "execution_count": 58,
   "metadata": {},
   "outputs": [
    {
     "name": "stdout",
     "output_type": "stream",
     "text": [
      "[[    6   446     7    36   169     0     0     0     1]\n",
      " [  207 39141   708  8599  5819   101    80    20   344]\n",
      " [   23   966  1108  1685   989    16  4061     0    53]\n",
      " [  125 19547   685 13474  3736   177   222    21   207]\n",
      " [   91  8952   209   962  7942    39    16     2    79]\n",
      " [    3   393    72   541   109     0   139     2    11]\n",
      " [    2    38    99    82    12     3   383     0     5]\n",
      " [    0    32     0    24     2     0     2     0     0]\n",
      " [    0     3     6     1     0     0     8     0     6]]\n",
      "              precision    recall  f1-score   support\n",
      "\n",
      "           0       0.01      0.01      0.01       665\n",
      "           1       0.56      0.71      0.63     55019\n",
      "           2       0.38      0.12      0.19      8901\n",
      "           3       0.53      0.35      0.42     38194\n",
      "           4       0.42      0.43      0.43     18292\n",
      "           5       0.00      0.00      0.00      1270\n",
      "           6       0.08      0.61      0.14       624\n",
      "           7       0.00      0.00      0.00        60\n",
      "           8       0.01      0.25      0.02        24\n",
      "\n",
      "    accuracy                           0.50    123049\n",
      "   macro avg       0.22      0.28      0.20    123049\n",
      "weighted avg       0.51      0.50      0.49    123049\n",
      "\n"
     ]
    }
   ],
   "source": [
    "from sklearn.naive_bayes import GaussianNB\n",
    "from sklearn.model_selection import cross_val_predict\n",
    "from sklearn.metrics import confusion_matrix\n",
    "from sklearn.metrics import classification_report\n",
    "clf = GaussianNB()\n",
    "nested_score = cross_val_score(clf, features, labels, cv=10)\n",
    "\n",
    "preds = cross_val_predict(clf, features, labels)\n",
    "# print(preds)\n",
    "mat = confusion_matrix(labels, preds)\n",
    "print(mat)\n",
    "print(classification_report(labels, preds))"
   ]
  },
  {
   "cell_type": "code",
   "execution_count": 59,
   "metadata": {
    "colab": {
     "base_uri": "https://localhost:8080/"
    },
    "id": "Dv9O6htiT9iT",
    "outputId": "721e3f2d-6cee-4e21-d7f9-f2fe5785206e"
   },
   "outputs": [],
   "source": [
    "# from sklearn.metrics import confusion_matrix\n",
    "# from sklearn.model_selection import cross_val_predict\n",
    "\n",
    "# predictions = cross_val_predict(grid_search, data.drop('Outcome Type', axis=1), data['Outcome Type'])\n",
    "# print(confusion_matrix(data['Outcome Type'], predictions))"
   ]
  }
 ],
 "metadata": {
  "colab": {
   "name": "CS 378 Final Project.ipynb",
   "provenance": []
  },
  "kernelspec": {
   "display_name": "Python 3 (ipykernel)",
   "language": "python",
   "name": "python3"
  },
  "language_info": {
   "codemirror_mode": {
    "name": "ipython",
    "version": 3
   },
   "file_extension": ".py",
   "mimetype": "text/x-python",
   "name": "python",
   "nbconvert_exporter": "python",
   "pygments_lexer": "ipython3",
   "version": "3.9.7"
  }
 },
 "nbformat": 4,
 "nbformat_minor": 1
}
