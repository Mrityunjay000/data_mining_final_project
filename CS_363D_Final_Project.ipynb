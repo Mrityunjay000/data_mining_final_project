{
 "cells": [
  {
   "cell_type": "markdown",
   "metadata": {
    "id": "VzHRVA0HAIm1"
   },
   "source": [
    "# CS 363D Final Project: Predicting Adoption in Austin Animal Center\n",
    "\n",
    "#### Mrityunjay Mishra, Rohit Neppalli, Ziyi Zhao, Justin Leong "
   ]
  },
  {
   "cell_type": "markdown",
   "metadata": {},
   "source": [
    "## Project Description\n",
    "\n",
    "Many different types of animals (from dogs to livestock) are taken in by the Austin Animal Center each year for various reasons. Some may be adopted, some may be transferred, and some may even go through Euthanasia. The goal of this project is to predict if an animal that is taken in by the Austin Animal Center will be adopted or not. This can have good applications for Austin Animal Center - they could use our findings to predict the probability of adoption for an animal that is taken in and can care for it accordingly. Or perhaps someone else can use our findings to find animals who have a low probability of adoption to care for them accordingly. In the end, we hope that our findings provide insight into the adoption patterns of Austin and, consequently, helps different organizations take care of these animal appropriately."
   ]
  },
  {
   "cell_type": "code",
   "execution_count": 1,
   "metadata": {},
   "outputs": [],
   "source": [
    "# importing headers\n",
    "import random\n",
    "import numpy as np\n",
    "import pandas as pd\n",
    "import matplotlib.pyplot as plt\n",
    "from sklearn.preprocessing import OneHotEncoder, StandardScaler, LabelEncoder\n",
    "\n",
    "# Enable inline mode for matplotlib so that IPython displays graphs.\n",
    "%matplotlib inline"
   ]
  },
  {
   "cell_type": "markdown",
   "metadata": {},
   "source": [
    "## Dataset\n",
    "\n",
    "To develop our classifier(s), we use the animal intake and outcome data from the open data portal of the city of Austin. To find out more about the animal intake data, [click here](https://data.austintexas.gov/Health-and-Community-Services/Austin-Animal-Center-Intakes/wter-evkm). To find out more about the outcome data, [click here](https://data.austintexas.gov/Health-and-Community-Services/Austin-Animal-Center-Outcomes/9t4d-g238). "
   ]
  },
  {
   "cell_type": "code",
   "execution_count": 2,
   "metadata": {
    "colab": {
     "base_uri": "https://localhost:8080/",
     "height": 658
    },
    "id": "V1oiBZYTSt_n",
    "outputId": "162c3bf7-f756-4193-a7cf-9352e873ba11"
   },
   "outputs": [
    {
     "data": {
      "text/html": [
       "<div>\n",
       "<style scoped>\n",
       "    .dataframe tbody tr th:only-of-type {\n",
       "        vertical-align: middle;\n",
       "    }\n",
       "\n",
       "    .dataframe tbody tr th {\n",
       "        vertical-align: top;\n",
       "    }\n",
       "\n",
       "    .dataframe thead th {\n",
       "        text-align: right;\n",
       "    }\n",
       "</style>\n",
       "<table border=\"1\" class=\"dataframe\">\n",
       "  <thead>\n",
       "    <tr style=\"text-align: right;\">\n",
       "      <th></th>\n",
       "      <th>Animal ID</th>\n",
       "      <th>Name</th>\n",
       "      <th>DateTime</th>\n",
       "      <th>MonthYear</th>\n",
       "      <th>Found Location</th>\n",
       "      <th>Intake Type</th>\n",
       "      <th>Intake Condition</th>\n",
       "      <th>Animal Type</th>\n",
       "      <th>Sex upon Intake</th>\n",
       "      <th>Age upon Intake</th>\n",
       "      <th>Breed</th>\n",
       "      <th>Color</th>\n",
       "    </tr>\n",
       "  </thead>\n",
       "  <tbody>\n",
       "    <tr>\n",
       "      <th>0</th>\n",
       "      <td>A786884</td>\n",
       "      <td>*Brock</td>\n",
       "      <td>01/03/2019 04:19:00 PM</td>\n",
       "      <td>January 2019</td>\n",
       "      <td>2501 Magin Meadow Dr in Austin (TX)</td>\n",
       "      <td>Stray</td>\n",
       "      <td>Normal</td>\n",
       "      <td>Dog</td>\n",
       "      <td>Neutered Male</td>\n",
       "      <td>2 years</td>\n",
       "      <td>Beagle Mix</td>\n",
       "      <td>Tricolor</td>\n",
       "    </tr>\n",
       "    <tr>\n",
       "      <th>1</th>\n",
       "      <td>A706918</td>\n",
       "      <td>Belle</td>\n",
       "      <td>07/05/2015 12:59:00 PM</td>\n",
       "      <td>July 2015</td>\n",
       "      <td>9409 Bluegrass Dr in Austin (TX)</td>\n",
       "      <td>Stray</td>\n",
       "      <td>Normal</td>\n",
       "      <td>Dog</td>\n",
       "      <td>Spayed Female</td>\n",
       "      <td>8 years</td>\n",
       "      <td>English Springer Spaniel</td>\n",
       "      <td>White/Liver</td>\n",
       "    </tr>\n",
       "    <tr>\n",
       "      <th>2</th>\n",
       "      <td>A724273</td>\n",
       "      <td>Runster</td>\n",
       "      <td>04/14/2016 06:43:00 PM</td>\n",
       "      <td>April 2016</td>\n",
       "      <td>2818 Palomino Trail in Austin (TX)</td>\n",
       "      <td>Stray</td>\n",
       "      <td>Normal</td>\n",
       "      <td>Dog</td>\n",
       "      <td>Intact Male</td>\n",
       "      <td>11 months</td>\n",
       "      <td>Basenji Mix</td>\n",
       "      <td>Sable/White</td>\n",
       "    </tr>\n",
       "    <tr>\n",
       "      <th>3</th>\n",
       "      <td>A665644</td>\n",
       "      <td>NaN</td>\n",
       "      <td>10/21/2013 07:59:00 AM</td>\n",
       "      <td>October 2013</td>\n",
       "      <td>Austin (TX)</td>\n",
       "      <td>Stray</td>\n",
       "      <td>Sick</td>\n",
       "      <td>Cat</td>\n",
       "      <td>Intact Female</td>\n",
       "      <td>4 weeks</td>\n",
       "      <td>Domestic Shorthair Mix</td>\n",
       "      <td>Calico</td>\n",
       "    </tr>\n",
       "    <tr>\n",
       "      <th>4</th>\n",
       "      <td>A682524</td>\n",
       "      <td>Rio</td>\n",
       "      <td>06/29/2014 10:38:00 AM</td>\n",
       "      <td>June 2014</td>\n",
       "      <td>800 Grove Blvd in Austin (TX)</td>\n",
       "      <td>Stray</td>\n",
       "      <td>Normal</td>\n",
       "      <td>Dog</td>\n",
       "      <td>Neutered Male</td>\n",
       "      <td>4 years</td>\n",
       "      <td>Doberman Pinsch/Australian Cattle Dog</td>\n",
       "      <td>Tan/Gray</td>\n",
       "    </tr>\n",
       "  </tbody>\n",
       "</table>\n",
       "</div>"
      ],
      "text/plain": [
       "  Animal ID     Name                DateTime     MonthYear  \\\n",
       "0   A786884   *Brock  01/03/2019 04:19:00 PM  January 2019   \n",
       "1   A706918    Belle  07/05/2015 12:59:00 PM     July 2015   \n",
       "2   A724273  Runster  04/14/2016 06:43:00 PM    April 2016   \n",
       "3   A665644      NaN  10/21/2013 07:59:00 AM  October 2013   \n",
       "4   A682524      Rio  06/29/2014 10:38:00 AM     June 2014   \n",
       "\n",
       "                        Found Location Intake Type Intake Condition  \\\n",
       "0  2501 Magin Meadow Dr in Austin (TX)       Stray           Normal   \n",
       "1     9409 Bluegrass Dr in Austin (TX)       Stray           Normal   \n",
       "2   2818 Palomino Trail in Austin (TX)       Stray           Normal   \n",
       "3                          Austin (TX)       Stray             Sick   \n",
       "4        800 Grove Blvd in Austin (TX)       Stray           Normal   \n",
       "\n",
       "  Animal Type Sex upon Intake Age upon Intake  \\\n",
       "0         Dog   Neutered Male         2 years   \n",
       "1         Dog   Spayed Female         8 years   \n",
       "2         Dog     Intact Male       11 months   \n",
       "3         Cat   Intact Female         4 weeks   \n",
       "4         Dog   Neutered Male         4 years   \n",
       "\n",
       "                                   Breed        Color  \n",
       "0                             Beagle Mix     Tricolor  \n",
       "1               English Springer Spaniel  White/Liver  \n",
       "2                            Basenji Mix  Sable/White  \n",
       "3                 Domestic Shorthair Mix       Calico  \n",
       "4  Doberman Pinsch/Australian Cattle Dog     Tan/Gray  "
      ]
     },
     "execution_count": 2,
     "metadata": {},
     "output_type": "execute_result"
    }
   ],
   "source": [
    "# Intakes data\n",
    "intakes_df = pd.read_csv('Austin_Animal_Center_Intakes.csv')\n",
    "intakes_df.head()"
   ]
  },
  {
   "cell_type": "code",
   "execution_count": 3,
   "metadata": {
    "scrolled": true
   },
   "outputs": [
    {
     "data": {
      "text/html": [
       "<div>\n",
       "<style scoped>\n",
       "    .dataframe tbody tr th:only-of-type {\n",
       "        vertical-align: middle;\n",
       "    }\n",
       "\n",
       "    .dataframe tbody tr th {\n",
       "        vertical-align: top;\n",
       "    }\n",
       "\n",
       "    .dataframe thead th {\n",
       "        text-align: right;\n",
       "    }\n",
       "</style>\n",
       "<table border=\"1\" class=\"dataframe\">\n",
       "  <thead>\n",
       "    <tr style=\"text-align: right;\">\n",
       "      <th></th>\n",
       "      <th>Animal ID</th>\n",
       "      <th>Name</th>\n",
       "      <th>DateTime</th>\n",
       "      <th>MonthYear</th>\n",
       "      <th>Date of Birth</th>\n",
       "      <th>Outcome Type</th>\n",
       "      <th>Outcome Subtype</th>\n",
       "      <th>Animal Type</th>\n",
       "      <th>Sex upon Outcome</th>\n",
       "      <th>Age upon Outcome</th>\n",
       "      <th>Breed</th>\n",
       "      <th>Color</th>\n",
       "    </tr>\n",
       "  </thead>\n",
       "  <tbody>\n",
       "    <tr>\n",
       "      <th>0</th>\n",
       "      <td>A794011</td>\n",
       "      <td>Chunk</td>\n",
       "      <td>05/08/2019 06:20:00 PM</td>\n",
       "      <td>May 2019</td>\n",
       "      <td>05/02/2017</td>\n",
       "      <td>Rto-Adopt</td>\n",
       "      <td>NaN</td>\n",
       "      <td>Cat</td>\n",
       "      <td>Neutered Male</td>\n",
       "      <td>2 years</td>\n",
       "      <td>Domestic Shorthair Mix</td>\n",
       "      <td>Brown Tabby/White</td>\n",
       "    </tr>\n",
       "    <tr>\n",
       "      <th>1</th>\n",
       "      <td>A776359</td>\n",
       "      <td>Gizmo</td>\n",
       "      <td>07/18/2018 04:02:00 PM</td>\n",
       "      <td>Jul 2018</td>\n",
       "      <td>07/12/2017</td>\n",
       "      <td>Adoption</td>\n",
       "      <td>NaN</td>\n",
       "      <td>Dog</td>\n",
       "      <td>Neutered Male</td>\n",
       "      <td>1 year</td>\n",
       "      <td>Chihuahua Shorthair Mix</td>\n",
       "      <td>White/Brown</td>\n",
       "    </tr>\n",
       "    <tr>\n",
       "      <th>2</th>\n",
       "      <td>A821648</td>\n",
       "      <td>NaN</td>\n",
       "      <td>08/16/2020 11:38:00 AM</td>\n",
       "      <td>Aug 2020</td>\n",
       "      <td>08/16/2019</td>\n",
       "      <td>Euthanasia</td>\n",
       "      <td>NaN</td>\n",
       "      <td>Other</td>\n",
       "      <td>Unknown</td>\n",
       "      <td>1 year</td>\n",
       "      <td>Raccoon</td>\n",
       "      <td>Gray</td>\n",
       "    </tr>\n",
       "    <tr>\n",
       "      <th>3</th>\n",
       "      <td>A720371</td>\n",
       "      <td>Moose</td>\n",
       "      <td>02/13/2016 05:59:00 PM</td>\n",
       "      <td>Feb 2016</td>\n",
       "      <td>10/08/2015</td>\n",
       "      <td>Adoption</td>\n",
       "      <td>NaN</td>\n",
       "      <td>Dog</td>\n",
       "      <td>Neutered Male</td>\n",
       "      <td>4 months</td>\n",
       "      <td>Anatol Shepherd/Labrador Retriever</td>\n",
       "      <td>Buff</td>\n",
       "    </tr>\n",
       "    <tr>\n",
       "      <th>4</th>\n",
       "      <td>A674754</td>\n",
       "      <td>NaN</td>\n",
       "      <td>03/18/2014 11:47:00 AM</td>\n",
       "      <td>Mar 2014</td>\n",
       "      <td>03/12/2014</td>\n",
       "      <td>Transfer</td>\n",
       "      <td>Partner</td>\n",
       "      <td>Cat</td>\n",
       "      <td>Intact Male</td>\n",
       "      <td>6 days</td>\n",
       "      <td>Domestic Shorthair Mix</td>\n",
       "      <td>Orange Tabby</td>\n",
       "    </tr>\n",
       "  </tbody>\n",
       "</table>\n",
       "</div>"
      ],
      "text/plain": [
       "  Animal ID   Name                DateTime MonthYear Date of Birth  \\\n",
       "0   A794011  Chunk  05/08/2019 06:20:00 PM  May 2019    05/02/2017   \n",
       "1   A776359  Gizmo  07/18/2018 04:02:00 PM  Jul 2018    07/12/2017   \n",
       "2   A821648    NaN  08/16/2020 11:38:00 AM  Aug 2020    08/16/2019   \n",
       "3   A720371  Moose  02/13/2016 05:59:00 PM  Feb 2016    10/08/2015   \n",
       "4   A674754    NaN  03/18/2014 11:47:00 AM  Mar 2014    03/12/2014   \n",
       "\n",
       "  Outcome Type Outcome Subtype Animal Type Sex upon Outcome Age upon Outcome  \\\n",
       "0    Rto-Adopt             NaN         Cat    Neutered Male          2 years   \n",
       "1     Adoption             NaN         Dog    Neutered Male           1 year   \n",
       "2   Euthanasia             NaN       Other          Unknown           1 year   \n",
       "3     Adoption             NaN         Dog    Neutered Male         4 months   \n",
       "4     Transfer         Partner         Cat      Intact Male           6 days   \n",
       "\n",
       "                                Breed              Color  \n",
       "0              Domestic Shorthair Mix  Brown Tabby/White  \n",
       "1             Chihuahua Shorthair Mix        White/Brown  \n",
       "2                             Raccoon               Gray  \n",
       "3  Anatol Shepherd/Labrador Retriever               Buff  \n",
       "4              Domestic Shorthair Mix       Orange Tabby  "
      ]
     },
     "execution_count": 3,
     "metadata": {},
     "output_type": "execute_result"
    }
   ],
   "source": [
    "# Outcomes data\n",
    "outcomes_df = pd.read_csv('Austin_Animal_Center_Outcomes.csv')\n",
    "outcomes_df.head()"
   ]
  },
  {
   "cell_type": "markdown",
   "metadata": {},
   "source": [
    "## Data Cleaning"
   ]
  },
  {
   "cell_type": "markdown",
   "metadata": {},
   "source": [
    "We can immedietly see that we must combine both `intakes_df` and `outcomes_df` on `Animal ID`. We will first explore and clean both `intakes_df` and `outcomes_df` and combine them in the end."
   ]
  },
  {
   "cell_type": "markdown",
   "metadata": {},
   "source": [
    "### Feature Selection\n",
    "\n",
    "`Name`, `DateTime`, `MonthYear`, and `Found Location` can immedietly be dropped from `intakes_df` because these features will not have be be relevant to determining if an animal will be adopted or not. The name of the animal could be changed after adoption; `DateTime` and `MonthYear` are related to `Age upon Intake` and thus irrelevant (because age is more important than the exact date etc.); and `Found Location` is also irrelevant in adoption matters. \n",
    "\n",
    "We may think that `Intake Type` can also be dropped. However, it actually has some useful values that may determine adoption or not. "
   ]
  },
  {
   "cell_type": "code",
   "execution_count": 4,
   "metadata": {},
   "outputs": [
    {
     "data": {
      "text/plain": [
       "array(['Stray', 'Owner Surrender', 'Public Assist', 'Wildlife',\n",
       "       'Euthanasia Request', 'Abandoned'], dtype=object)"
      ]
     },
     "execution_count": 4,
     "metadata": {},
     "output_type": "execute_result"
    }
   ],
   "source": [
    "intakes_df['Intake Type'].unique()"
   ]
  },
  {
   "cell_type": "markdown",
   "metadata": {},
   "source": [
    "Clearly, if an animal is taken into Austin Animal Center on a Euthanasia Request, then its chances for being adopted become drastically low. Other reasons for intake can also play a part in adoption considerations. Therefore, we do not drop `Intake Type`. The final columns that are dropped from `intakes_df` are `Name`, `DateTime`, `MonthYear`, `Found Location`."
   ]
  },
  {
   "cell_type": "code",
   "execution_count": 5,
   "metadata": {},
   "outputs": [
    {
     "data": {
      "text/html": [
       "<div>\n",
       "<style scoped>\n",
       "    .dataframe tbody tr th:only-of-type {\n",
       "        vertical-align: middle;\n",
       "    }\n",
       "\n",
       "    .dataframe tbody tr th {\n",
       "        vertical-align: top;\n",
       "    }\n",
       "\n",
       "    .dataframe thead th {\n",
       "        text-align: right;\n",
       "    }\n",
       "</style>\n",
       "<table border=\"1\" class=\"dataframe\">\n",
       "  <thead>\n",
       "    <tr style=\"text-align: right;\">\n",
       "      <th></th>\n",
       "      <th>Animal ID</th>\n",
       "      <th>Intake Type</th>\n",
       "      <th>Intake Condition</th>\n",
       "      <th>Animal Type</th>\n",
       "      <th>Sex upon Intake</th>\n",
       "      <th>Age upon Intake</th>\n",
       "      <th>Breed</th>\n",
       "      <th>Color</th>\n",
       "    </tr>\n",
       "  </thead>\n",
       "  <tbody>\n",
       "    <tr>\n",
       "      <th>0</th>\n",
       "      <td>A786884</td>\n",
       "      <td>Stray</td>\n",
       "      <td>Normal</td>\n",
       "      <td>Dog</td>\n",
       "      <td>Neutered Male</td>\n",
       "      <td>2 years</td>\n",
       "      <td>Beagle Mix</td>\n",
       "      <td>Tricolor</td>\n",
       "    </tr>\n",
       "    <tr>\n",
       "      <th>1</th>\n",
       "      <td>A706918</td>\n",
       "      <td>Stray</td>\n",
       "      <td>Normal</td>\n",
       "      <td>Dog</td>\n",
       "      <td>Spayed Female</td>\n",
       "      <td>8 years</td>\n",
       "      <td>English Springer Spaniel</td>\n",
       "      <td>White/Liver</td>\n",
       "    </tr>\n",
       "    <tr>\n",
       "      <th>2</th>\n",
       "      <td>A724273</td>\n",
       "      <td>Stray</td>\n",
       "      <td>Normal</td>\n",
       "      <td>Dog</td>\n",
       "      <td>Intact Male</td>\n",
       "      <td>11 months</td>\n",
       "      <td>Basenji Mix</td>\n",
       "      <td>Sable/White</td>\n",
       "    </tr>\n",
       "    <tr>\n",
       "      <th>3</th>\n",
       "      <td>A665644</td>\n",
       "      <td>Stray</td>\n",
       "      <td>Sick</td>\n",
       "      <td>Cat</td>\n",
       "      <td>Intact Female</td>\n",
       "      <td>4 weeks</td>\n",
       "      <td>Domestic Shorthair Mix</td>\n",
       "      <td>Calico</td>\n",
       "    </tr>\n",
       "    <tr>\n",
       "      <th>4</th>\n",
       "      <td>A682524</td>\n",
       "      <td>Stray</td>\n",
       "      <td>Normal</td>\n",
       "      <td>Dog</td>\n",
       "      <td>Neutered Male</td>\n",
       "      <td>4 years</td>\n",
       "      <td>Doberman Pinsch/Australian Cattle Dog</td>\n",
       "      <td>Tan/Gray</td>\n",
       "    </tr>\n",
       "  </tbody>\n",
       "</table>\n",
       "</div>"
      ],
      "text/plain": [
       "  Animal ID Intake Type Intake Condition Animal Type Sex upon Intake  \\\n",
       "0   A786884       Stray           Normal         Dog   Neutered Male   \n",
       "1   A706918       Stray           Normal         Dog   Spayed Female   \n",
       "2   A724273       Stray           Normal         Dog     Intact Male   \n",
       "3   A665644       Stray             Sick         Cat   Intact Female   \n",
       "4   A682524       Stray           Normal         Dog   Neutered Male   \n",
       "\n",
       "  Age upon Intake                                  Breed        Color  \n",
       "0         2 years                             Beagle Mix     Tricolor  \n",
       "1         8 years               English Springer Spaniel  White/Liver  \n",
       "2       11 months                            Basenji Mix  Sable/White  \n",
       "3         4 weeks                 Domestic Shorthair Mix       Calico  \n",
       "4         4 years  Doberman Pinsch/Australian Cattle Dog     Tan/Gray  "
      ]
     },
     "execution_count": 5,
     "metadata": {},
     "output_type": "execute_result"
    }
   ],
   "source": [
    "intakes_df = intakes_df.drop(columns=['Name', 'DateTime', 'MonthYear', 'Found Location'])\n",
    "intakes_df.head()"
   ]
  },
  {
   "cell_type": "markdown",
   "metadata": {},
   "source": [
    "Similarly, `Name`, `DateTime`, `Date of Birth`, and `Outcome Subtype` can immedietly be dropped from `outcomes_df` because there features will not be relevant to classification. Once again, `Name` is clearly irrelevant; the `DateTime` of the outcome makes no difference as to what the outcome is; the `Date of Birth` of the animal is related to its `Age upon Outcome` and thus is not important; and we are not interested in `Outcome Subtype` at the moment. We decided to keep `MonthYear` because it is possible that animals (or some types of animals) are adopted more at certain times of the year (e.x. Christmas) than others. `outcomes_ds` after removing these features is as follows."
   ]
  },
  {
   "cell_type": "code",
   "execution_count": 6,
   "metadata": {},
   "outputs": [
    {
     "data": {
      "text/html": [
       "<div>\n",
       "<style scoped>\n",
       "    .dataframe tbody tr th:only-of-type {\n",
       "        vertical-align: middle;\n",
       "    }\n",
       "\n",
       "    .dataframe tbody tr th {\n",
       "        vertical-align: top;\n",
       "    }\n",
       "\n",
       "    .dataframe thead th {\n",
       "        text-align: right;\n",
       "    }\n",
       "</style>\n",
       "<table border=\"1\" class=\"dataframe\">\n",
       "  <thead>\n",
       "    <tr style=\"text-align: right;\">\n",
       "      <th></th>\n",
       "      <th>Animal ID</th>\n",
       "      <th>MonthYear</th>\n",
       "      <th>Outcome Type</th>\n",
       "      <th>Animal Type</th>\n",
       "      <th>Sex upon Outcome</th>\n",
       "      <th>Age upon Outcome</th>\n",
       "      <th>Breed</th>\n",
       "      <th>Color</th>\n",
       "    </tr>\n",
       "  </thead>\n",
       "  <tbody>\n",
       "    <tr>\n",
       "      <th>0</th>\n",
       "      <td>A794011</td>\n",
       "      <td>May 2019</td>\n",
       "      <td>Rto-Adopt</td>\n",
       "      <td>Cat</td>\n",
       "      <td>Neutered Male</td>\n",
       "      <td>2 years</td>\n",
       "      <td>Domestic Shorthair Mix</td>\n",
       "      <td>Brown Tabby/White</td>\n",
       "    </tr>\n",
       "    <tr>\n",
       "      <th>1</th>\n",
       "      <td>A776359</td>\n",
       "      <td>Jul 2018</td>\n",
       "      <td>Adoption</td>\n",
       "      <td>Dog</td>\n",
       "      <td>Neutered Male</td>\n",
       "      <td>1 year</td>\n",
       "      <td>Chihuahua Shorthair Mix</td>\n",
       "      <td>White/Brown</td>\n",
       "    </tr>\n",
       "    <tr>\n",
       "      <th>2</th>\n",
       "      <td>A821648</td>\n",
       "      <td>Aug 2020</td>\n",
       "      <td>Euthanasia</td>\n",
       "      <td>Other</td>\n",
       "      <td>Unknown</td>\n",
       "      <td>1 year</td>\n",
       "      <td>Raccoon</td>\n",
       "      <td>Gray</td>\n",
       "    </tr>\n",
       "    <tr>\n",
       "      <th>3</th>\n",
       "      <td>A720371</td>\n",
       "      <td>Feb 2016</td>\n",
       "      <td>Adoption</td>\n",
       "      <td>Dog</td>\n",
       "      <td>Neutered Male</td>\n",
       "      <td>4 months</td>\n",
       "      <td>Anatol Shepherd/Labrador Retriever</td>\n",
       "      <td>Buff</td>\n",
       "    </tr>\n",
       "    <tr>\n",
       "      <th>4</th>\n",
       "      <td>A674754</td>\n",
       "      <td>Mar 2014</td>\n",
       "      <td>Transfer</td>\n",
       "      <td>Cat</td>\n",
       "      <td>Intact Male</td>\n",
       "      <td>6 days</td>\n",
       "      <td>Domestic Shorthair Mix</td>\n",
       "      <td>Orange Tabby</td>\n",
       "    </tr>\n",
       "  </tbody>\n",
       "</table>\n",
       "</div>"
      ],
      "text/plain": [
       "  Animal ID MonthYear Outcome Type Animal Type Sex upon Outcome  \\\n",
       "0   A794011  May 2019    Rto-Adopt         Cat    Neutered Male   \n",
       "1   A776359  Jul 2018     Adoption         Dog    Neutered Male   \n",
       "2   A821648  Aug 2020   Euthanasia       Other          Unknown   \n",
       "3   A720371  Feb 2016     Adoption         Dog    Neutered Male   \n",
       "4   A674754  Mar 2014     Transfer         Cat      Intact Male   \n",
       "\n",
       "  Age upon Outcome                               Breed              Color  \n",
       "0          2 years              Domestic Shorthair Mix  Brown Tabby/White  \n",
       "1           1 year             Chihuahua Shorthair Mix        White/Brown  \n",
       "2           1 year                             Raccoon               Gray  \n",
       "3         4 months  Anatol Shepherd/Labrador Retriever               Buff  \n",
       "4           6 days              Domestic Shorthair Mix       Orange Tabby  "
      ]
     },
     "execution_count": 6,
     "metadata": {},
     "output_type": "execute_result"
    }
   ],
   "source": [
    "outcomes_df = outcomes_df.drop(columns=['Name', 'DateTime', 'Date of Birth', 'Outcome Subtype'])\n",
    "outcomes_df.head()"
   ]
  },
  {
   "cell_type": "markdown",
   "metadata": {},
   "source": [
    "### Removing missing and erroneous values"
   ]
  },
  {
   "cell_type": "markdown",
   "metadata": {},
   "source": [
    "As can be seen below, some values are missing from some rows in both `intakes_df` and `outcomes_df`. However, this is not a significant number of rows, so we just drop these rows. "
   ]
  },
  {
   "cell_type": "code",
   "execution_count": 7,
   "metadata": {},
   "outputs": [
    {
     "name": "stdout",
     "output_type": "stream",
     "text": [
      "Total number of rows in intakes_df: 138350\n",
      "\n",
      "Number of non-NaN rows (or rows without missing values in general) in intakes_df\n",
      "Animal ID           138350\n",
      "Intake Type         138350\n",
      "Intake Condition    138350\n",
      "Animal Type         138350\n",
      "Sex upon Intake     138349\n",
      "Age upon Intake     138350\n",
      "Breed               138350\n",
      "Color               138350\n",
      "dtype: int64\n",
      "\n",
      "Total number of rows in intakes_df: 138565\n",
      "\n",
      "Number of non-NaN rows (or rows without missing values in general) in outcomes_df\n",
      "Animal ID           138565\n",
      "MonthYear           138565\n",
      "Outcome Type        138542\n",
      "Animal Type         138565\n",
      "Sex upon Outcome    138564\n",
      "Age upon Outcome    138559\n",
      "Breed               138565\n",
      "Color               138565\n",
      "dtype: int64\n"
     ]
    }
   ],
   "source": [
    "# Notice that the total row count per feature in both intakes_df \n",
    "# and outcomes_df is not the same, indicating that some values \n",
    "# are missing from the both datasets\n",
    "print('Total number of rows in intakes_df: {:d}\\n'.format(intakes_df.shape[0]))\n",
    "print('Number of non-NaN rows (or rows without missing values in general) in intakes_df')\n",
    "print(intakes_df.count()) \n",
    "\n",
    "print('\\nTotal number of rows in intakes_df: {:d}\\n'.format(outcomes_df.shape[0]))\n",
    "print('Number of non-NaN rows (or rows without missing values in general) in outcomes_df')\n",
    "print(outcomes_df.count()) "
   ]
  },
  {
   "cell_type": "code",
   "execution_count": 8,
   "metadata": {},
   "outputs": [],
   "source": [
    "intakes_df.dropna(inplace=True)\n",
    "outcomes_df.dropna(inplace=True)"
   ]
  },
  {
   "cell_type": "markdown",
   "metadata": {},
   "source": [
    "We also notice that there are some erroneous values for `Age upon Intake` and `Age upon Outcome` in the `intakes_df` and `outcomes_df`. Thus, we drop these rows (we do not try to rectify such values so as to not skew the data or introduce any other type of bias)."
   ]
  },
  {
   "cell_type": "code",
   "execution_count": 9,
   "metadata": {},
   "outputs": [
    {
     "name": "stdout",
     "output_type": "stream",
     "text": [
      "Unique values of Age upon Intake\n",
      "['2 years' '8 years' '11 months' '4 weeks' '4 years' '6 years' '6 months'\n",
      " '5 months' '14 years' '1 month' '2 months' '18 years' '9 years'\n",
      " '4 months' '1 year' '3 years' '4 days' '1 day' '5 years' '2 weeks'\n",
      " '15 years' '7 years' '3 weeks' '3 months' '12 years' '1 week' '9 months'\n",
      " '10 years' '10 months' '7 months' '8 months' '1 weeks' '5 days' '0 years'\n",
      " '2 days' '11 years' '17 years' '3 days' '13 years' '5 weeks' '19 years'\n",
      " '6 days' '16 years' '20 years' '-1 years' '22 years' '23 years'\n",
      " '-2 years' '21 years' '-3 years' '25 years' '24 years' '30 years'\n",
      " '28 years']\n",
      "\n",
      "Unique values of Age upon Outcome\n",
      "['2 years' '1 year' '4 months' '6 days' '7 years' '2 months' '2 days'\n",
      " '3 weeks' '9 months' '4 weeks' '2 weeks' '3 months' '9 years' '10 years'\n",
      " '6 months' '8 years' '3 years' '7 months' '6 years' '4 years' '1 month'\n",
      " '12 years' '5 years' '1 weeks' '5 months' '5 days' '15 years' '11 months'\n",
      " '10 months' '4 days' '16 years' '1 day' '8 months' '11 years' '13 years'\n",
      " '1 week' '14 years' '3 days' '0 years' '5 weeks' '17 years' '18 years'\n",
      " '20 years' '22 years' '-2 years' '19 years' '23 years' '24 years'\n",
      " '-1 years' '25 years' '21 years' '-3 years' '30 years' '28 years']\n"
     ]
    }
   ],
   "source": [
    "print('Unique values of Age upon Intake')\n",
    "print(intakes_df['Age upon Intake'].unique())\n",
    "print()\n",
    "print('Unique values of Age upon Outcome')\n",
    "print(outcomes_df['Age upon Outcome'].unique())"
   ]
  },
  {
   "cell_type": "code",
   "execution_count": 10,
   "metadata": {},
   "outputs": [
    {
     "name": "stdout",
     "output_type": "stream",
     "text": [
      "Unique values of Age upon Intake\n",
      "['2 years' '8 years' '11 months' '4 weeks' '4 years' '6 years' '6 months'\n",
      " '5 months' '14 years' '1 month' '2 months' '18 years' '9 years'\n",
      " '4 months' '1 year' '3 years' '4 days' '1 day' '5 years' '2 weeks'\n",
      " '15 years' '7 years' '3 weeks' '3 months' '12 years' '1 week' '9 months'\n",
      " '10 years' '10 months' '7 months' '8 months' '1 weeks' '5 days' '2 days'\n",
      " '11 years' '17 years' '3 days' '13 years' '5 weeks' '19 years' '6 days'\n",
      " '16 years' '20 years' '22 years' '23 years' '21 years' '25 years'\n",
      " '24 years' '30 years' '28 years']\n",
      "\n",
      "Unique values of Age upon Outcome\n",
      "['2 years' '1 year' '4 months' '6 days' '7 years' '2 months' '2 days'\n",
      " '3 weeks' '9 months' '4 weeks' '2 weeks' '3 months' '9 years' '10 years'\n",
      " '6 months' '8 years' '3 years' '7 months' '6 years' '4 years' '1 month'\n",
      " '12 years' '5 years' '1 weeks' '5 months' '5 days' '15 years' '11 months'\n",
      " '10 months' '4 days' '16 years' '1 day' '8 months' '11 years' '13 years'\n",
      " '1 week' '14 years' '3 days' '5 weeks' '17 years' '18 years' '20 years'\n",
      " '22 years' '19 years' '23 years' '24 years' '25 years' '21 years'\n",
      " '30 years' '28 years']\n"
     ]
    }
   ],
   "source": [
    "# Dropping erroneous values in intakes_df\n",
    "indices = (intakes_df['Age upon Intake'] == '0 years')\n",
    "indices = indices.index[indices == True].tolist()\n",
    "intakes_df.drop(indices, inplace=True)\n",
    "indices = (intakes_df['Age upon Intake'] == '-1 years')\n",
    "indices = indices.index[indices == True].tolist()\n",
    "intakes_df.drop(indices, inplace=True)\n",
    "indices = (intakes_df['Age upon Intake'] == '-2 years')\n",
    "indices = indices.index[indices == True].tolist()\n",
    "intakes_df.drop(indices, inplace=True)\n",
    "indices = (intakes_df['Age upon Intake'] == '-3 years')\n",
    "indices = indices.index[indices == True].tolist()\n",
    "intakes_df.drop(indices, inplace=True)\n",
    "\n",
    "# Dropping erroneous values in outcomes_df\n",
    "indices = (outcomes_df['Age upon Outcome'] == '0 years')\n",
    "indices = indices.index[indices == True].tolist()\n",
    "outcomes_df.drop(indices, inplace=True)\n",
    "indices = (outcomes_df['Age upon Outcome'] == '-1 years')\n",
    "indices = indices.index[indices == True].tolist()\n",
    "outcomes_df.drop(indices, inplace=True)\n",
    "indices = (outcomes_df['Age upon Outcome'] == '-2 years')\n",
    "indices = indices.index[indices == True].tolist()\n",
    "outcomes_df.drop(indices, inplace=True)\n",
    "indices = (outcomes_df['Age upon Outcome'] == '-3 years')\n",
    "indices = indices.index[indices == True].tolist()\n",
    "outcomes_df.drop(indices, inplace=True)\n",
    "\n",
    "print('Unique values of Age upon Intake')\n",
    "print(intakes_df['Age upon Intake'].unique())\n",
    "print()\n",
    "print('Unique values of Age upon Outcome')\n",
    "print(outcomes_df['Age upon Outcome'].unique())"
   ]
  },
  {
   "cell_type": "markdown",
   "metadata": {},
   "source": [
    "The same can be noticed for `Sex upon intake` and `Sex upon Outcome` for both `intakes_df` and `outcomes_df`. Both have values of `Unknown` which, while it may not be fully erroneous, is not very useful. Hence, we drop all rows with these values as well. Note that this will not impact us in the long run since we have quite a large amount of data to work with. "
   ]
  },
  {
   "cell_type": "code",
   "execution_count": 11,
   "metadata": {},
   "outputs": [
    {
     "name": "stdout",
     "output_type": "stream",
     "text": [
      "Unique values of Sex upon Intake in intakes_df\n",
      "['Neutered Male' 'Spayed Female' 'Intact Male' 'Intact Female' 'Unknown']\n",
      "\n",
      "Unique values of Sex upon Outcome in outcomes_df\n",
      "['Neutered Male' 'Unknown' 'Intact Male' 'Spayed Female' 'Intact Female']\n"
     ]
    }
   ],
   "source": [
    "print('Unique values of Sex upon Intake in intakes_df')\n",
    "print(intakes_df['Sex upon Intake'].unique())\n",
    "print()\n",
    "print('Unique values of Sex upon Outcome in outcomes_df')\n",
    "print(outcomes_df['Sex upon Outcome'].unique())"
   ]
  },
  {
   "cell_type": "code",
   "execution_count": 12,
   "metadata": {},
   "outputs": [
    {
     "name": "stdout",
     "output_type": "stream",
     "text": [
      "Unique values of Sex upon Intake in intakes_df\n",
      "['Neutered Male' 'Spayed Female' 'Intact Male' 'Intact Female']\n",
      "\n",
      "Unique values of Sex upon Outcome in outcomes_df\n",
      "['Neutered Male' 'Intact Male' 'Spayed Female' 'Intact Female']\n"
     ]
    }
   ],
   "source": [
    "# Dropping erroneous values in intakes_df\n",
    "indices = (intakes_df['Sex upon Intake'] == 'Unknown')\n",
    "indices = indices.index[indices == True].tolist()\n",
    "intakes_df.drop(indices, inplace=True)\n",
    "\n",
    "# Dropping erroneous values in outcomes_df\n",
    "indices = (outcomes_df['Sex upon Outcome'] == 'Unknown')\n",
    "indices = indices.index[indices == True].tolist()\n",
    "outcomes_df.drop(indices, inplace=True)\n",
    "\n",
    "print('Unique values of Sex upon Intake in intakes_df')\n",
    "print(intakes_df['Sex upon Intake'].unique())\n",
    "print()\n",
    "print('Unique values of Sex upon Outcome in outcomes_df')\n",
    "print(outcomes_df['Sex upon Outcome'].unique())"
   ]
  },
  {
   "cell_type": "markdown",
   "metadata": {},
   "source": [
    "### Removing Duplicates"
   ]
  },
  {
   "cell_type": "markdown",
   "metadata": {},
   "source": [
    "A number of the animals come in and go out of the animal center multiple times, and we can see that when comparing the number of unique animal id's to the number of total records for both datasets. This causes many duplicates in our dataset. Since we have so much data, we will consider only the animals that have completely unique records in the dataframes for simplicity's sake"
   ]
  },
  {
   "cell_type": "code",
   "execution_count": 13,
   "metadata": {},
   "outputs": [
    {
     "name": "stdout",
     "output_type": "stream",
     "text": [
      "Number of unique Animal IDs v. Number of Total Records in Intakes Data\n",
      "112006 v. 126625\n",
      "\n",
      "Number of unique Animal IDs v. Number of Total Records in Outcomes Data\n",
      "112779 v. 127422\n"
     ]
    }
   ],
   "source": [
    "print('Number of unique Animal IDs v. Number of Total Records in Intakes Data')\n",
    "print(len(intakes_df['Animal ID'].unique()), 'v.', len(intakes_df['Animal ID']))\n",
    "print()\n",
    "print('Number of unique Animal IDs v. Number of Total Records in Outcomes Data')\n",
    "print(len(outcomes_df['Animal ID'].unique()), 'v.', len(outcomes_df['Animal ID']))"
   ]
  },
  {
   "cell_type": "code",
   "execution_count": 14,
   "metadata": {},
   "outputs": [],
   "source": [
    "intakes_df = intakes_df.drop_duplicates(subset=['Animal ID'])\n",
    "outcomes_df = outcomes_df.drop_duplicates(subset=['Animal ID'])"
   ]
  },
  {
   "cell_type": "code",
   "execution_count": 15,
   "metadata": {},
   "outputs": [],
   "source": [
    "# Make a copy of the cleaned, original dataset for future use\n",
    "intakes_original = intakes_df.copy()\n",
    "outcomes_original = outcomes_df.copy()"
   ]
  },
  {
   "cell_type": "markdown",
   "metadata": {},
   "source": [
    "## Data Exploration"
   ]
  },
  {
   "cell_type": "markdown",
   "metadata": {},
   "source": [
    "Let us first explore the both the intakes and the outcomes data and better understand what they mean before feature engineering and model creation. This will help us make informed choices in the future during these steps and will also give us more insight into useful adoption patterns. "
   ]
  },
  {
   "cell_type": "markdown",
   "metadata": {},
   "source": [
    "### Overarching Trends"
   ]
  },
  {
   "cell_type": "markdown",
   "metadata": {},
   "source": [
    "#### Intakes Data"
   ]
  },
  {
   "cell_type": "code",
   "execution_count": 16,
   "metadata": {
    "scrolled": true
   },
   "outputs": [
    {
     "data": {
      "text/plain": [
       "Text(0, 0.5, 'Distribution')"
      ]
     },
     "execution_count": 16,
     "metadata": {},
     "output_type": "execute_result"
    },
    {
     "data": {
      "image/png": "[encoded data removed]",
      "text/plain": [
       "<Figure size 720x360 with 1 Axes>"
      ]
     },
     "metadata": {
      "needs_background": "light"
     },
     "output_type": "display_data"
    },
    {
     "data": {
      "image/png": "[encoded data removed]",
      "text/plain": [
       "<Figure size 1440x360 with 1 Axes>"
      ]
     },
     "metadata": {
      "needs_background": "light"
     },
     "output_type": "display_data"
    },
    {
     "data": {
      "image/png": "[encoded data removed]",
      "text/plain": [
       "<Figure size 504x360 with 1 Axes>"
      ]
     },
     "metadata": {
      "needs_background": "light"
     },
     "output_type": "display_data"
    },
    {
     "data": {
      "image/png": "[encoded data removed]",
      "text/plain": [
       "<Figure size 504x360 with 1 Axes>"
      ]
     },
     "metadata": {
      "needs_background": "light"
     },
     "output_type": "display_data"
    },
    {
     "data": {
      "image/png": "[encoded data removed]",
      "text/plain": [
       "<Figure size 3240x360 with 1 Axes>"
      ]
     },
     "metadata": {
      "needs_background": "light"
     },
     "output_type": "display_data"
    }
   ],
   "source": [
    "# Intake Type\n",
    "fig = plt.figure(figsize = (10, 5)) \n",
    "plt.bar(intakes_df['Intake Type'].unique(), intakes_df['Intake Type'].value_counts().values)\n",
    "plt.title('Distribution of Intake Types')\n",
    "plt.xlabel('Intake Type')\n",
    "plt.ylabel('Distribution')\n",
    "\n",
    "# Intake Condition\n",
    "fig = plt.figure(figsize = (20, 5)) \n",
    "plt.bar(intakes_df['Intake Condition'].unique(), intakes_df['Intake Condition'].value_counts().values)\n",
    "plt.title('Distribution of Intake Condition')\n",
    "plt.xlabel('Intake Condition')\n",
    "plt.ylabel('Distribution')\n",
    "\n",
    "# Animal Type\n",
    "fig = plt.figure(figsize = (7, 5)) \n",
    "plt.bar(intakes_df['Animal Type'].unique(), intakes_df['Animal Type'].value_counts().values)\n",
    "plt.title('Distribution of Animal Type')\n",
    "plt.xlabel('Animal Type')\n",
    "plt.ylabel('Distribution')\n",
    "\n",
    "# Sex upon Intake\n",
    "fig = plt.figure(figsize = (7, 5)) \n",
    "plt.bar(intakes_df['Sex upon Intake'].unique(), intakes_df['Sex upon Intake'].value_counts().values)\n",
    "plt.title('Distribution of Sex upon Intake')\n",
    "plt.xlabel('Sex upon Intake')\n",
    "plt.ylabel('Distribution')\n",
    "\n",
    "# Age upon Intake\n",
    "fig = plt.figure(figsize = (45, 5)) \n",
    "plt.bar(intakes_df['Age upon Intake'].unique(), intakes_df['Age upon Intake'].value_counts().values)\n",
    "plt.title('Distribution of Age upon Intake')\n",
    "plt.xlabel('Age upon Intake')\n",
    "plt.ylabel('Distribution')"
   ]
  },
  {
   "cell_type": "code",
   "execution_count": 17,
   "metadata": {
    "scrolled": true
   },
   "outputs": [
    {
     "name": "stdout",
     "output_type": "stream",
     "text": [
      "Value counts of Breed\n",
      "Domestic Shorthair Mix               27432\n",
      "Domestic Shorthair                    9675\n",
      "Pit Bull Mix                          6786\n",
      "Labrador Retriever Mix                6132\n",
      "Chihuahua Shorthair Mix               5723\n",
      "                                     ...  \n",
      "Border Collie/English Pointer            1\n",
      "Akita/Pit Bull                           1\n",
      "German Shorthair Pointer/Brittany        1\n",
      "Chihuahua Shorthair/Cirneco              1\n",
      "Munchkin Longhair                        1\n",
      "Name: Breed, Length: 2669, dtype: int64\n",
      "\n",
      "Value counts of Color\n",
      "Black/White          11774\n",
      "Black                 9389\n",
      "Brown Tabby           6871\n",
      "White                 4062\n",
      "Brown/White           3763\n",
      "                     ...  \n",
      "Brown Merle/Gray         1\n",
      "Tricolor/Orange          1\n",
      "Calico/Gray Tabby        1\n",
      "Lynx Point/Blue          1\n",
      "Brown Tabby/Tan          1\n",
      "Name: Color, Length: 594, dtype: int64\n"
     ]
    }
   ],
   "source": [
    "# Showing value counts only for these features because a bar graph\n",
    "# was not legible due to the availability of multitudes of values per feature\n",
    "print('Value counts of Breed')\n",
    "print(intakes_df['Breed'].value_counts())\n",
    "print()\n",
    "print('Value counts of Color')\n",
    "print(intakes_df['Color'].value_counts())"
   ]
  },
  {
   "cell_type": "markdown",
   "metadata": {},
   "source": [
    "#### Outcomes Data"
   ]
  },
  {
   "cell_type": "code",
   "execution_count": 18,
   "metadata": {
    "scrolled": true
   },
   "outputs": [
    {
     "data": {
      "text/plain": [
       "Text(0, 0.5, 'Distribution')"
      ]
     },
     "execution_count": 18,
     "metadata": {},
     "output_type": "execute_result"
    },
    {
     "data": {
      "image/png": "[encoded data removed]",
      "text/plain": [
       "<Figure size 1080x360 with 1 Axes>"
      ]
     },
     "metadata": {
      "needs_background": "light"
     },
     "output_type": "display_data"
    },
    {
     "data": {
      "image/png": "[encoded data removed]",
      "text/plain": [
       "<Figure size 504x360 with 1 Axes>"
      ]
     },
     "metadata": {
      "needs_background": "light"
     },
     "output_type": "display_data"
    },
    {
     "data": {
      "image/png": "[encoded data removed]",
      "text/plain": [
       "<Figure size 504x360 with 1 Axes>"
      ]
     },
     "metadata": {
      "needs_background": "light"
     },
     "output_type": "display_data"
    },
    {
     "data": {
      "image/png": "[encoded data removed]",
      "text/plain": [
       "<Figure size 3240x360 with 1 Axes>"
      ]
     },
     "metadata": {
      "needs_background": "light"
     },
     "output_type": "display_data"
    }
   ],
   "source": [
    "# Outcome Type\n",
    "fig = plt.figure(figsize = (15, 5)) \n",
    "plt.bar(outcomes_df['Outcome Type'].unique(), outcomes_df['Outcome Type'].value_counts().values)\n",
    "plt.title('Distribution of Outcome Types')\n",
    "plt.xlabel('Outcome Type')\n",
    "plt.ylabel('Distribution')\n",
    "\n",
    "# Animal Type\n",
    "fig = plt.figure(figsize = (7, 5)) \n",
    "plt.bar(outcomes_df['Animal Type'].unique(), outcomes_df['Animal Type'].value_counts().values)\n",
    "plt.title('Distribution of Animal Type')\n",
    "plt.xlabel('Animal Type')\n",
    "plt.ylabel('Distribution')\n",
    "\n",
    "# Sex upon Outcome\n",
    "fig = plt.figure(figsize = (7, 5)) \n",
    "plt.bar(outcomes_df['Sex upon Outcome'].unique(), outcomes_df['Sex upon Outcome'].value_counts().values)\n",
    "plt.title('Distribution of Sex upon Outcome')\n",
    "plt.xlabel('Sex upon Outcome')\n",
    "plt.ylabel('Distribution')\n",
    "\n",
    "# Age upon Outcome\n",
    "fig = plt.figure(figsize = (45, 5)) \n",
    "plt.bar(outcomes_df['Age upon Outcome'].unique(), outcomes_df['Age upon Outcome'].value_counts().values)\n",
    "plt.title('Distribution of Age upon Outcome')\n",
    "plt.xlabel('Age upon Outcome')\n",
    "plt.ylabel('Distribution')"
   ]
  },
  {
   "cell_type": "code",
   "execution_count": 19,
   "metadata": {
    "scrolled": true
   },
   "outputs": [
    {
     "name": "stdout",
     "output_type": "stream",
     "text": [
      "Value counts of Breed\n",
      "Domestic Shorthair Mix              27893\n",
      "Domestic Shorthair                   9603\n",
      "Pit Bull Mix                         6848\n",
      "Labrador Retriever Mix               6182\n",
      "Chihuahua Shorthair Mix              5799\n",
      "                                    ...  \n",
      "Bullmastiff/Boxer                       1\n",
      "Rat Terrier/English Pointer             1\n",
      "Norwegian Elkhound/Alaskan Husky        1\n",
      "Shih Tzu/Cavalier Span                  1\n",
      "Munchkin Longhair                       1\n",
      "Name: Breed, Length: 2679, dtype: int64\n",
      "\n",
      "Value counts of Color\n",
      "Black/White        11886\n",
      "Black               9494\n",
      "Brown Tabby         6923\n",
      "White               4086\n",
      "Brown/White         3784\n",
      "                   ...  \n",
      "Blue Tabby/Buff        1\n",
      "Chocolate/Gold         1\n",
      "Torbie/Calico          1\n",
      "Yellow/Red             1\n",
      "Orange/Tricolor        1\n",
      "Name: Color, Length: 598, dtype: int64\n"
     ]
    }
   ],
   "source": [
    "# Showing value counts only for these features because a bar graph\n",
    "# was not legible due to the availability of multitudes of values per feature\n",
    "print('Value counts of Breed')\n",
    "print(outcomes_df['Breed'].value_counts())\n",
    "print()\n",
    "print('Value counts of Color')\n",
    "print(outcomes_df['Color'].value_counts())"
   ]
  },
  {
   "cell_type": "markdown",
   "metadata": {},
   "source": [
    "### Analysis"
   ]
  },
  {
   "cell_type": "code",
   "execution_count": 20,
   "metadata": {},
   "outputs": [
    {
     "data": {
      "text/plain": [
       "array(['Rto-Adopt', 'Adoption', 'Transfer', 'Return to Owner',\n",
       "       'Euthanasia', 'Died', 'Missing', 'Disposal', 'Relocate'],\n",
       "      dtype=object)"
      ]
     },
     "execution_count": 20,
     "metadata": {},
     "output_type": "execute_result"
    }
   ],
   "source": [
    "outcomes_df['Outcome Type'].unique()"
   ]
  },
  {
   "cell_type": "markdown",
   "metadata": {},
   "source": [
    "We can see that there are many reasons an animal may be taken into Austin Animal Center along with many intake conditions etc. Dogs and cats are the most common types of animals taken in, with the most common reason for intake being stray, surrendered by their owner, or a public assist. Most animals are taken in normal conditions. Many are neutered or spayed. \n",
    "\n",
    "Given these trends, we formulate the following hypotheses:\n",
    "\n",
    "- The type of animal plays a role into whether an animal will be adopted or not\n",
    "- Age plays a role into whether an animal will be adopted or not\n",
    "- Breed plays a role into whether an animal will be adopted or not\n",
    "- Color plays a role into whether an animal will be adopted or not\n",
    "- The health (i.e. the intake condition) of an animal will play a role into whether that animal will be adopted or not\n",
    "- The time of the year (i.e. the month) plays a role into whether an animal will be adopted or not\n",
    "\n",
    "We now analyze these relationships and test our hypotheses. Please note that we explicitly focus on the outcome of adoption only, even though there are other outcomes possible, for the purposes of data exploration. This is done in the interest of space and cociseness, and also because our main focus is to predict whether an animal will be adopted or not. \n",
    "\n",
    "_Note: We present the analysis for both Adoption and Rto-Adoption separately, instead of aggregating them together, for clarity and a better understanding of adoption trends. However, it should be kept in mind that both are a form of adoption. Rto-Adoption is simply the case where the animal goes back to its original owners first and then is adopted by someone else. We will aggregate these two outcomes when we build our models._"
   ]
  },
  {
   "cell_type": "markdown",
   "metadata": {},
   "source": [
    "#### Relation of Animal Type and Adoption"
   ]
  },
  {
   "cell_type": "code",
   "execution_count": 21,
   "metadata": {},
   "outputs": [],
   "source": [
    "df_adoption = outcomes_df[outcomes_df['Outcome Type'] == 'Adoption']\n",
    "df_rto_adoption = outcomes_df[outcomes_df['Outcome Type'] == 'Rto-Adopt']"
   ]
  },
  {
   "cell_type": "code",
   "execution_count": 22,
   "metadata": {
    "scrolled": true
   },
   "outputs": [
    {
     "data": {
      "text/plain": [
       "Text(0, 0.5, 'Ratio')"
      ]
     },
     "execution_count": 22,
     "metadata": {},
     "output_type": "execute_result"
    },
    {
     "data": {
      "image/png": "[encoded data removed]",
      "text/plain": [
       "<Figure size 576x288 with 1 Axes>"
      ]
     },
     "metadata": {
      "needs_background": "light"
     },
     "output_type": "display_data"
    },
    {
     "data": {
      "image/png": "[encoded data removed]",
      "text/plain": [
       "<Figure size 576x360 with 1 Axes>"
      ]
     },
     "metadata": {
      "needs_background": "light"
     },
     "output_type": "display_data"
    }
   ],
   "source": [
    "fig = plt.figure(figsize = (8, 4)) \n",
    "vals = df_adoption['Animal Type'].value_counts() / outcomes_df['Animal Type'].value_counts()\n",
    "plt.bar(df_adoption['Animal Type'].unique(), vals.values)\n",
    "plt.title('Ratio of Animal Type v. Adoption')\n",
    "plt.xlabel('Animal Type')\n",
    "plt.ylabel('Ratio')\n",
    "\n",
    "fig = plt.figure(figsize = (8, 5)) \n",
    "vals = (df_rto_adoption['Animal Type'].value_counts() / outcomes_df['Animal Type'].value_counts()).dropna()\n",
    "plt.bar(df_rto_adoption['Animal Type'].unique(), vals.values)\n",
    "plt.title('Ratio of Animal Type v. Rto-Adoption')\n",
    "plt.xlabel('Animal Type')\n",
    "plt.ylabel('Ratio')"
   ]
  },
  {
   "cell_type": "markdown",
   "metadata": {},
   "source": [
    "The type of animal plays a role to some degree into whether the animal will be adopted or not. It seems that cats have a slighlty higher chance than dogs to be adopted. However, their chances signiicantly reduce when it comes down to Rto-Adoption. Birds and dogs have about the same chance of being adopted. Note, however, that Birds have no change of being Rto-Adopt since they did not even show up in the second graph (this is likely a bias in the data, however). The same is true for Livestock. Livestock also have a significantly lower chance of being adopted. "
   ]
  },
  {
   "cell_type": "markdown",
   "metadata": {},
   "source": [
    "#### Relation of Age and Adoption"
   ]
  },
  {
   "cell_type": "code",
   "execution_count": 23,
   "metadata": {},
   "outputs": [],
   "source": [
    "def process_age(age):\n",
    "  if 'month' in age:\n",
    "    return '0-1 year'\n",
    "  if 'week' in age:\n",
    "    return '0-1 year'\n",
    "  if 'year' in age:\n",
    "    return age\n",
    "  if 'day' in age:\n",
    "    return '0-1 year'\n",
    "  return age"
   ]
  },
  {
   "cell_type": "code",
   "execution_count": 24,
   "metadata": {
    "scrolled": true
   },
   "outputs": [
    {
     "data": {
      "text/plain": [
       "Text(0, 0.5, 'Ratio')"
      ]
     },
     "execution_count": 24,
     "metadata": {},
     "output_type": "execute_result"
    },
    {
     "data": {
      "image/png": "[encoded data removed]",
      "text/plain": [
       "<Figure size 2880x720 with 1 Axes>"
      ]
     },
     "metadata": {
      "needs_background": "light"
     },
     "output_type": "display_data"
    },
    {
     "data": {
      "image/png": "[encoded data removed]",
      "text/plain": [
       "<Figure size 2880x720 with 1 Axes>"
      ]
     },
     "metadata": {
      "needs_background": "light"
     },
     "output_type": "display_data"
    }
   ],
   "source": [
    "ages = ['0-1 year', '1 year', '2 years', '3 years', '4 years', \n",
    "         '5 years', '6 years', '7 years', '8 years', '9 years', \n",
    "         '10 years', '11 years', '12 years', '13 years', '14 years', \n",
    "         '15 years', '16 years', '17 years', '18 years', '19 years']\n",
    "df = outcomes_df.copy()\n",
    "df['Age upon Outcome'] = df['Age upon Outcome'].apply(lambda x: process_age(x))\n",
    "\n",
    "df_a = df[df['Outcome Type'] == 'Adoption']\n",
    "df_ra = df[df['Outcome Type'] == 'Rto-Adopt']\n",
    "\n",
    "vals = (df_a['Age upon Outcome'].value_counts() / df['Age upon Outcome'].value_counts()).dropna()\n",
    "counts = []\n",
    "for age in ages: counts.append(vals[age])\n",
    "d = pd.DataFrame(dict(age=ages,count=counts))\n",
    "fig = plt.figure(figsize = (40, 10)) \n",
    "plt.bar('age', 'count', data=d)\n",
    "plt.title('Ratio of Age upon Outcome v. Adoption')\n",
    "plt.xlabel('Age upon Outcome')\n",
    "plt.ylabel('Ratio')\n",
    "\n",
    "vals = (df_ra['Age upon Outcome'].value_counts() / df['Age upon Outcome'].value_counts()).dropna()\n",
    "counts = []\n",
    "for i in range(len(ages)-2): counts.append(vals[ages[i]])\n",
    "d = pd.DataFrame(dict(age=ages[0:len(ages)-2],count=counts))\n",
    "fig = plt.figure(figsize = (40, 10)) \n",
    "plt.bar('age', 'count', data=d)\n",
    "plt.title('Ratio of Age upon Outcome v. Rto-Adoption')\n",
    "plt.xlabel('Age upon Outcome')\n",
    "plt.ylabel('Ratio')"
   ]
  },
  {
   "cell_type": "markdown",
   "metadata": {},
   "source": [
    "A relationship between age and adoption is obvoius - younger animals tend to get adopted more than older animals. However, the same pattern does not hold true for rto-adoption. In fact, it seems that older animals go through rto-adoption more. However, this trend is quite loose in rto-adoption, and an exact relationship between rto-adoption and age is harder to discern. We will leave this task to the models we build later. "
   ]
  },
  {
   "cell_type": "markdown",
   "metadata": {},
   "source": [
    "#### Relation of Breed and Adoption"
   ]
  },
  {
   "cell_type": "code",
   "execution_count": 25,
   "metadata": {
    "scrolled": true
   },
   "outputs": [
    {
     "name": "stdout",
     "output_type": "stream",
     "text": [
      "Ratio of Breed v. Adoption\n",
      "Abyssinian                                       0.571429\n",
      "Abyssinian Mix                                   0.600000\n",
      "Affenpinscher                                    1.000000\n",
      "Affenpinscher Mix                                0.571429\n",
      "Afghan Hound/Labrador Retriever                  1.000000\n",
      "                                                   ...   \n",
      "Yorkshire Terrier/Shih Tzu                       0.666667\n",
      "Yorkshire Terrier/Soft Coated Wheaten Terrier    1.000000\n",
      "Yorkshire Terrier/Standard Schnauzer             1.000000\n",
      "Yorkshire Terrier/Toy Poodle                     0.363636\n",
      "Yorkshire Terrier/Yorkshire Terrier              1.000000\n",
      "Name: Breed, Length: 1936, dtype: float64\n",
      "\n",
      "Ratio of Breed v. Rto-Adoption\n",
      "Akita                                    0.050000\n",
      "Akita Mix                                0.040000\n",
      "Alaskan Husky                            0.023529\n",
      "Alaskan Husky Mix                        0.024000\n",
      "Alaskan Malamute                         0.055556\n",
      "                                           ...   \n",
      "Yorkshire Terrier                        0.007194\n",
      "Yorkshire Terrier Mix                    0.001692\n",
      "Yorkshire Terrier/Chihuahua Shorthair    0.030303\n",
      "Yorkshire Terrier/Miniature Schnauzer    0.052632\n",
      "Yorkshire Terrier/Standard Poodle        0.500000\n",
      "Name: Breed, Length: 166, dtype: float64\n"
     ]
    }
   ],
   "source": [
    "vals = (df_adoption['Breed'].value_counts() / outcomes_df['Breed'].value_counts()).dropna()\n",
    "print('Ratio of Breed v. Adoption')\n",
    "print(vals)\n",
    "print()\n",
    "vals = (df_rto_adoption['Breed'].value_counts() / outcomes_df['Breed'].value_counts()).dropna()\n",
    "print('Ratio of Breed v. Rto-Adoption')\n",
    "print(vals)"
   ]
  },
  {
   "cell_type": "markdown",
   "metadata": {},
   "source": [
    "While we are not able to effectively display this data in a graph, a simple inspection of the ratios above clearly shows that the breed of an animal does play a role into its chances of being adopted or rto-adopted."
   ]
  },
  {
   "cell_type": "markdown",
   "metadata": {},
   "source": [
    "#### Relation of Color and Adoption"
   ]
  },
  {
   "cell_type": "code",
   "execution_count": 26,
   "metadata": {
    "scrolled": true
   },
   "outputs": [
    {
     "name": "stdout",
     "output_type": "stream",
     "text": [
      "Ratio of Color v. Adoption\n",
      "Agouti                0.625000\n",
      "Agouti/Brown Tabby    1.000000\n",
      "Agouti/Gray           1.000000\n",
      "Agouti/White          0.666667\n",
      "Apricot               0.452055\n",
      "                        ...   \n",
      "Yellow/Cream          1.000000\n",
      "Yellow/Orange         0.500000\n",
      "Yellow/Red            1.000000\n",
      "Yellow/Tan            0.250000\n",
      "Yellow/White          0.460432\n",
      "Name: Color, Length: 454, dtype: float64\n",
      "\n",
      "Ratio of Color v. Rto-Adoption\n",
      "Apricot                 0.013699\n",
      "Black                   0.004319\n",
      "Black Smoke/Gray        1.000000\n",
      "Black Smoke/White       0.020408\n",
      "Black/Black             0.006944\n",
      "                          ...   \n",
      "White/Tan               0.007506\n",
      "White/Tricolor          0.007380\n",
      "White/White             0.020619\n",
      "White/Yellow Brindle    0.166667\n",
      "Yellow                  0.003241\n",
      "Name: Color, Length: 96, dtype: float64\n"
     ]
    }
   ],
   "source": [
    "vals = (df_adoption['Color'].value_counts() / outcomes_df['Color'].value_counts()).dropna()\n",
    "print('Ratio of Color v. Adoption')\n",
    "print(vals)\n",
    "print()\n",
    "vals = (df_rto_adoption['Color'].value_counts() / outcomes_df['Color'].value_counts()).dropna()\n",
    "print('Ratio of Color v. Rto-Adoption')\n",
    "print(vals)"
   ]
  },
  {
   "cell_type": "markdown",
   "metadata": {},
   "source": [
    "Once again, while we are not able to effectively display this data in a graph, a simple inspection of the ratios above clearly shows that the color of an animal does play a role into its chances of being adopted or rto-adopted."
   ]
  },
  {
   "cell_type": "markdown",
   "metadata": {},
   "source": [
    "#### Relation of Intake Condition (Health) and Adoption"
   ]
  },
  {
   "cell_type": "markdown",
   "metadata": {},
   "source": [
    "To relate Intake Health with Adoption, we must first merge `intakes_df` and `outcomes_df`. Note that we will once again to this later after feature engineering. Thus, this merge is only for this analysis."
   ]
  },
  {
   "cell_type": "code",
   "execution_count": 27,
   "metadata": {},
   "outputs": [],
   "source": [
    "merged = intakes_df.merge(outcomes_df[[ 'Animal ID', 'MonthYear', 'Outcome Type', 'Animal Type', 'Sex upon Outcome', 'Age upon Outcome', 'Breed', 'Color' ]], on='Animal ID')\n",
    "merged_adoption = merged[merged['Outcome Type'] == 'Adoption']\n",
    "merged_rto_adoption = merged[merged['Outcome Type'] == 'Rto-Adopt']"
   ]
  },
  {
   "cell_type": "code",
   "execution_count": 28,
   "metadata": {
    "scrolled": true
   },
   "outputs": [
    {
     "data": {
      "text/plain": [
       "Text(0, 0.5, 'Ratio')"
      ]
     },
     "execution_count": 28,
     "metadata": {},
     "output_type": "execute_result"
    },
    {
     "data": {
      "image/png": "[encoded data removed]",
      "text/plain": [
       "<Figure size 1080x360 with 1 Axes>"
      ]
     },
     "metadata": {
      "needs_background": "light"
     },
     "output_type": "display_data"
    },
    {
     "data": {
      "image/png": "[encoded data removed]",
      "text/plain": [
       "<Figure size 1080x360 with 1 Axes>"
      ]
     },
     "metadata": {
      "needs_background": "light"
     },
     "output_type": "display_data"
    }
   ],
   "source": [
    "fig = plt.figure(figsize = (15, 5)) \n",
    "vals = (merged_adoption['Intake Condition'].value_counts() / merged['Intake Condition'].value_counts()).dropna()\n",
    "plt.bar(merged_adoption['Intake Condition'].unique(), vals.values)\n",
    "plt.title('Ratio of Intake Condition v. Adoption')\n",
    "plt.xlabel('Intake Condition')\n",
    "plt.ylabel('Ratio')\n",
    "\n",
    "fig = plt.figure(figsize = (15, 5)) \n",
    "vals = (merged_rto_adoption['Intake Condition'].value_counts() / merged['Intake Condition'].value_counts()).dropna()\n",
    "plt.bar(merged_rto_adoption['Intake Condition'].unique(), vals.values)\n",
    "plt.title('Ratio of Intake Condition v. Rto-Adoption')\n",
    "plt.xlabel('Intake Condition')\n",
    "plt.ylabel('Ratio')"
   ]
  },
  {
   "cell_type": "markdown",
   "metadata": {},
   "source": [
    "Observing the graphs above clearly shows that the intake health of an animal impacts its chances to get adopted or rto-adopted. However, finding an apparent patterns between the specific intake condition and chances of adoption (or rto-adoption) are much harder to discern. We will leave this task to the models that we will make later on."
   ]
  },
  {
   "cell_type": "markdown",
   "metadata": {},
   "source": [
    "#### Relation of Time of Year (Month) and Adoption"
   ]
  },
  {
   "cell_type": "code",
   "execution_count": 29,
   "metadata": {},
   "outputs": [],
   "source": [
    "merged['Outcome Month'] = merged['MonthYear'].apply(lambda x: x.split(' ')[0])\n",
    "merged_adoption = merged[merged['Outcome Type'] == 'Adoption']\n",
    "merged_rto_adoption = merged[merged['Outcome Type'] == 'Rto-Adopt']"
   ]
  },
  {
   "cell_type": "code",
   "execution_count": 30,
   "metadata": {
    "scrolled": true
   },
   "outputs": [
    {
     "data": {
      "text/plain": [
       "Text(0, 0.5, 'Distribution')"
      ]
     },
     "execution_count": 30,
     "metadata": {},
     "output_type": "execute_result"
    },
    {
     "data": {
      "image/png": "[encoded data removed]",
      "text/plain": [
       "<Figure size 1080x360 with 1 Axes>"
      ]
     },
     "metadata": {
      "needs_background": "light"
     },
     "output_type": "display_data"
    },
    {
     "data": {
      "image/png": "[encoded data removed]",
      "text/plain": [
       "<Figure size 1080x360 with 1 Axes>"
      ]
     },
     "metadata": {
      "needs_background": "light"
     },
     "output_type": "display_data"
    }
   ],
   "source": [
    "cols = ['Jan', 'Feb', 'Mar', 'Apr', 'Jun', 'Jul', 'Aug', 'Sep', 'Oct', 'Nov', 'Dec']\n",
    "\n",
    "fig = plt.figure(figsize = (15, 5)) \n",
    "value_counts = merged_adoption['Outcome Month'].value_counts()\n",
    "counts = []\n",
    "for key in cols: counts.append(value_counts[key])\n",
    "vals = pd.DataFrame(dict(month=cols,count=counts))\n",
    "plt.bar('month', 'count', data=vals)\n",
    "plt.title('Distribution of Month v. Adoption')\n",
    "plt.xlabel('Month')\n",
    "plt.ylabel('Distribution')\n",
    "\n",
    "fig = plt.figure(figsize = (15, 5)) \n",
    "value_counts = merged_rto_adoption['Outcome Month'].value_counts()\n",
    "counts = []\n",
    "for key in cols: counts.append(value_counts[key])\n",
    "vals = pd.DataFrame(dict(month=cols,count=counts))\n",
    "plt.bar('month', 'count', data=vals)\n",
    "plt.title('Distribution of Month v. Rto-Adoption')\n",
    "plt.xlabel('Month')\n",
    "plt.ylabel('Distribution')"
   ]
  },
  {
   "cell_type": "markdown",
   "metadata": {},
   "source": [
    "The graphs above clearly show a realtionship between the time of the year and adoption. It seems that people prefer to adopt when the weather is a little warmer and nicer (probably so that people can take with their new pet outside). \n",
    "\n",
    "There also seems to be a relationship between the time of the year and rto-adoption. Similar patterns as above hold, but much more loosely. Discerning a stronger pattern, or reasoning for such a pattern, is more difficult. We leave such inferences to the models that we will develop later. "
   ]
  },
  {
   "cell_type": "markdown",
   "metadata": {},
   "source": [
    "### Final thoughts on data exploration"
   ]
  },
  {
   "cell_type": "markdown",
   "metadata": {},
   "source": [
    "Our analyses above clearly show that features such as intake condition and age of an animal impacts its ability to get adopted or rto-adopted. Hence, the features analyzed above will be crucial as the input to our models.\n",
    "\n",
    "It is important to note that adoption and rto-adoption are not the only possible outcomes. We did not analyze the relation of above features compared to other outcome types in the interest of conciseness - however, that is not to say that a relationship does not exist. We, however, are going to focus on adoption v. no adoption only for the purposes of this project. We hope that future projects find our work useful and can augment it even further to include other outcomes such as a transfer, etc. "
   ]
  },
  {
   "cell_type": "markdown",
   "metadata": {},
   "source": [
    "## Feature Engineering and Final Data Prep"
   ]
  },
  {
   "cell_type": "markdown",
   "metadata": {},
   "source": [
    "From the output below, we see that all our data is currently an object type, or categorical. However, some features should be continuous while others should be categorical. We convert the appropriate features into continuous variables first and then perform one hot encoding to the remaining categorical features."
   ]
  },
  {
   "cell_type": "code",
   "execution_count": 31,
   "metadata": {},
   "outputs": [
    {
     "name": "stdout",
     "output_type": "stream",
     "text": [
      "intakes_df.info()\n",
      "<class 'pandas.core.frame.DataFrame'>\n",
      "Int64Index: 112006 entries, 0 to 138349\n",
      "Data columns (total 8 columns):\n",
      " #   Column            Non-Null Count   Dtype \n",
      "---  ------            --------------   ----- \n",
      " 0   Animal ID         112006 non-null  object\n",
      " 1   Intake Type       112006 non-null  object\n",
      " 2   Intake Condition  112006 non-null  object\n",
      " 3   Animal Type       112006 non-null  object\n",
      " 4   Sex upon Intake   112006 non-null  object\n",
      " 5   Age upon Intake   112006 non-null  object\n",
      " 6   Breed             112006 non-null  object\n",
      " 7   Color             112006 non-null  object\n",
      "dtypes: object(8)\n",
      "memory usage: 7.7+ MB\n",
      "None\n",
      "\n",
      "outcomes_df.info()\n",
      "<class 'pandas.core.frame.DataFrame'>\n",
      "Int64Index: 112779 entries, 0 to 138564\n",
      "Data columns (total 8 columns):\n",
      " #   Column            Non-Null Count   Dtype \n",
      "---  ------            --------------   ----- \n",
      " 0   Animal ID         112779 non-null  object\n",
      " 1   MonthYear         112779 non-null  object\n",
      " 2   Outcome Type      112779 non-null  object\n",
      " 3   Animal Type       112779 non-null  object\n",
      " 4   Sex upon Outcome  112779 non-null  object\n",
      " 5   Age upon Outcome  112779 non-null  object\n",
      " 6   Breed             112779 non-null  object\n",
      " 7   Color             112779 non-null  object\n",
      "dtypes: object(8)\n",
      "memory usage: 7.7+ MB\n",
      "None\n"
     ]
    }
   ],
   "source": [
    "print('intakes_df.info()')\n",
    "print(intakes_df.info())\n",
    "print()\n",
    "print('outcomes_df.info()')\n",
    "print(outcomes_df.info())"
   ]
  },
  {
   "cell_type": "markdown",
   "metadata": {},
   "source": [
    "We convert `Age upon Intake` and `Age upon Outcome` features in `intakes_df` and `outcomes_df` to continuous features by casting them to a number. We also create a new feature, `Outcome Month`, from splitting up the existing `MonthYear` feature. This will help our classifier better grasp the realtionship between the time of the year (i.e. month) and adoption."
   ]
  },
  {
   "cell_type": "code",
   "execution_count": 32,
   "metadata": {},
   "outputs": [],
   "source": [
    "def standardize_age(age):\n",
    "  if 'month' in age:\n",
    "    return 0\n",
    "  if 'year' in age:\n",
    "    return int(age.split(' ')[0])\n",
    "  if 'day' in age:\n",
    "    return 0\n",
    "  return 0\n",
    "\n",
    "intakes_df['Intake Age (Years)'] = intakes_df['Age upon Intake'].apply(lambda x: standardize_age(x))\n",
    "intakes_df = intakes_df.drop(columns=['Age upon Intake'])\n",
    "\n",
    "outcomes_df['Outcome Age (Years)'] = outcomes_df['Age upon Outcome'].apply(lambda x: standardize_age(x))\n",
    "outcomes_df['Outcome Month'] = outcomes_df['MonthYear'].apply(lambda x: x.split(' ')[0])\n",
    "outcomes_df['Outcome Month'] = outcomes_df['Outcome Month'].map(lambda x: ['Jan', 'Feb', 'Mar', 'Apr', 'May', 'Jun', 'Jul', 'Aug', 'Sep', 'Oct', 'Nov', 'Dec'].index(x) + 1)\n",
    "outcomes_df = outcomes_df.drop(columns=['Age upon Outcome', 'MonthYear'])"
   ]
  },
  {
   "cell_type": "markdown",
   "metadata": {},
   "source": [
    "Before dealing with the categorical features, we combine `intakes_df` and `outcomes_df` on `Animal ID` to get our merged dataset. We will drop `Animal ID` because it will not be useful to us for the task of classfication."
   ]
  },
  {
   "cell_type": "code",
   "execution_count": 33,
   "metadata": {
    "scrolled": true
   },
   "outputs": [
    {
     "data": {
      "text/html": [
       "<div>\n",
       "<style scoped>\n",
       "    .dataframe tbody tr th:only-of-type {\n",
       "        vertical-align: middle;\n",
       "    }\n",
       "\n",
       "    .dataframe tbody tr th {\n",
       "        vertical-align: top;\n",
       "    }\n",
       "\n",
       "    .dataframe thead th {\n",
       "        text-align: right;\n",
       "    }\n",
       "</style>\n",
       "<table border=\"1\" class=\"dataframe\">\n",
       "  <thead>\n",
       "    <tr style=\"text-align: right;\">\n",
       "      <th></th>\n",
       "      <th>Intake Type</th>\n",
       "      <th>Intake Condition</th>\n",
       "      <th>Animal Type</th>\n",
       "      <th>Sex upon Intake</th>\n",
       "      <th>Breed</th>\n",
       "      <th>Color</th>\n",
       "      <th>Intake Age (Years)</th>\n",
       "      <th>Outcome Type</th>\n",
       "      <th>Sex upon Outcome</th>\n",
       "      <th>Outcome Age (Years)</th>\n",
       "      <th>Outcome Month</th>\n",
       "    </tr>\n",
       "  </thead>\n",
       "  <tbody>\n",
       "    <tr>\n",
       "      <th>0</th>\n",
       "      <td>Stray</td>\n",
       "      <td>Normal</td>\n",
       "      <td>Dog</td>\n",
       "      <td>Neutered Male</td>\n",
       "      <td>Beagle Mix</td>\n",
       "      <td>Tricolor</td>\n",
       "      <td>2</td>\n",
       "      <td>Transfer</td>\n",
       "      <td>Neutered Male</td>\n",
       "      <td>2</td>\n",
       "      <td>1</td>\n",
       "    </tr>\n",
       "    <tr>\n",
       "      <th>1</th>\n",
       "      <td>Stray</td>\n",
       "      <td>Normal</td>\n",
       "      <td>Dog</td>\n",
       "      <td>Spayed Female</td>\n",
       "      <td>English Springer Spaniel</td>\n",
       "      <td>White/Liver</td>\n",
       "      <td>8</td>\n",
       "      <td>Return to Owner</td>\n",
       "      <td>Spayed Female</td>\n",
       "      <td>8</td>\n",
       "      <td>7</td>\n",
       "    </tr>\n",
       "    <tr>\n",
       "      <th>2</th>\n",
       "      <td>Stray</td>\n",
       "      <td>Normal</td>\n",
       "      <td>Dog</td>\n",
       "      <td>Intact Male</td>\n",
       "      <td>Basenji Mix</td>\n",
       "      <td>Sable/White</td>\n",
       "      <td>0</td>\n",
       "      <td>Return to Owner</td>\n",
       "      <td>Neutered Male</td>\n",
       "      <td>1</td>\n",
       "      <td>4</td>\n",
       "    </tr>\n",
       "    <tr>\n",
       "      <th>3</th>\n",
       "      <td>Stray</td>\n",
       "      <td>Sick</td>\n",
       "      <td>Cat</td>\n",
       "      <td>Intact Female</td>\n",
       "      <td>Domestic Shorthair Mix</td>\n",
       "      <td>Calico</td>\n",
       "      <td>0</td>\n",
       "      <td>Transfer</td>\n",
       "      <td>Intact Female</td>\n",
       "      <td>0</td>\n",
       "      <td>10</td>\n",
       "    </tr>\n",
       "    <tr>\n",
       "      <th>4</th>\n",
       "      <td>Stray</td>\n",
       "      <td>Normal</td>\n",
       "      <td>Dog</td>\n",
       "      <td>Neutered Male</td>\n",
       "      <td>Doberman Pinsch/Australian Cattle Dog</td>\n",
       "      <td>Tan/Gray</td>\n",
       "      <td>4</td>\n",
       "      <td>Return to Owner</td>\n",
       "      <td>Neutered Male</td>\n",
       "      <td>4</td>\n",
       "      <td>7</td>\n",
       "    </tr>\n",
       "  </tbody>\n",
       "</table>\n",
       "</div>"
      ],
      "text/plain": [
       "  Intake Type Intake Condition Animal Type Sex upon Intake  \\\n",
       "0       Stray           Normal         Dog   Neutered Male   \n",
       "1       Stray           Normal         Dog   Spayed Female   \n",
       "2       Stray           Normal         Dog     Intact Male   \n",
       "3       Stray             Sick         Cat   Intact Female   \n",
       "4       Stray           Normal         Dog   Neutered Male   \n",
       "\n",
       "                                   Breed        Color  Intake Age (Years)  \\\n",
       "0                             Beagle Mix     Tricolor                   2   \n",
       "1               English Springer Spaniel  White/Liver                   8   \n",
       "2                            Basenji Mix  Sable/White                   0   \n",
       "3                 Domestic Shorthair Mix       Calico                   0   \n",
       "4  Doberman Pinsch/Australian Cattle Dog     Tan/Gray                   4   \n",
       "\n",
       "      Outcome Type Sex upon Outcome  Outcome Age (Years)  Outcome Month  \n",
       "0         Transfer    Neutered Male                    2              1  \n",
       "1  Return to Owner    Spayed Female                    8              7  \n",
       "2  Return to Owner    Neutered Male                    1              4  \n",
       "3         Transfer    Intact Female                    0             10  \n",
       "4  Return to Owner    Neutered Male                    4              7  "
      ]
     },
     "execution_count": 33,
     "metadata": {},
     "output_type": "execute_result"
    }
   ],
   "source": [
    "# Combine together into singular dataframe\n",
    "data = intakes_df.merge(outcomes_df[['Animal ID', 'Outcome Type', 'Sex upon Outcome', 'Outcome Age (Years)', 'Outcome Month']], on='Animal ID')\n",
    "data = data.drop('Animal ID', axis=1)\n",
    "data.head()"
   ]
  },
  {
   "cell_type": "markdown",
   "metadata": {},
   "source": [
    "Before dealing with the categorical vaiables, we have one more thing we must do. From our data exploration earlier, you might have noticed something interesting. There is quite a class imbalance with in our dataset. If we use the original outcomes dataset, we notice that some classes have thousands of data points associated with them while other have only a couple hundred. The classes `Disposal`, `Missing`, and `Relocate` especially don't much data associated with them. Because our main goal is to build classifiers that are able to accurately predict if an animal will be adopted or not, and because the number of data points in `Disposal`, `Missing`, and `Relocate` classes is quite dismal (which would mean that our algorithm would not learn much about these classes, and even oversampling would not produce very good results), we are going to drop these features.\n",
    "\n",
    "\n",
    "This will not solve our problem of class imbalances still. Therefore, we will use SMOTE to solve class imbalances later when we develop our models"
   ]
  },
  {
   "cell_type": "code",
   "execution_count": 34,
   "metadata": {},
   "outputs": [
    {
     "data": {
      "text/plain": [
       "Text(0, 0.5, 'Distribution')"
      ]
     },
     "execution_count": 34,
     "metadata": {},
     "output_type": "execute_result"
    },
    {
     "data": {
      "image/png": "[encoded data removed]",
      "text/plain": [
       "<Figure size 1080x360 with 1 Axes>"
      ]
     },
     "metadata": {
      "needs_background": "light"
     },
     "output_type": "display_data"
    }
   ],
   "source": [
    "fig = plt.figure(figsize = (15, 5)) \n",
    "plt.bar(outcomes_original['Outcome Type'].unique(), outcomes_original['Outcome Type'].value_counts().values)\n",
    "plt.title('Distribution of Outcome Types')\n",
    "plt.xlabel('Outcome Type')\n",
    "plt.ylabel('Distribution')"
   ]
  },
  {
   "cell_type": "code",
   "execution_count": 35,
   "metadata": {},
   "outputs": [
    {
     "data": {
      "text/plain": [
       "array(['Transfer', 'Return to Owner', 'Adoption', 'Euthanasia', 'Died',\n",
       "       'Rto-Adopt'], dtype=object)"
      ]
     },
     "execution_count": 35,
     "metadata": {},
     "output_type": "execute_result"
    }
   ],
   "source": [
    "indices = (data['Outcome Type'] == 'Disposal')\n",
    "indices = indices.index[indices == True].tolist()\n",
    "data.drop(indices, inplace=True)\n",
    "\n",
    "indices = (data['Outcome Type'] == 'Missing')\n",
    "indices = indices.index[indices == True].tolist()\n",
    "data.drop(indices, inplace=True)\n",
    "\n",
    "indices = (data['Outcome Type'] == 'Relocate')\n",
    "indices = indices.index[indices == True].tolist()\n",
    "data.drop(indices, inplace=True)\n",
    "\n",
    "data = data.reset_index(drop=True)\n",
    "data['Outcome Type'].unique() # shows that Disposal, Missing, and Relocate have been dropped"
   ]
  },
  {
   "cell_type": "markdown",
   "metadata": {},
   "source": [
    "We also noticed, during data exploration, that there are quite a few values for `Breed` and `Color`. While analyzing such a value count may be advantageous in select situation, it will not be of much use for generalizability. Furthermore, we are also limited in our compute power. Thus, we perform an operation akin to imputation to bring such a large value count to a much more manageable number. Besides `Outcome Type`, we check the count of each specific value per feature, and if the count is less than 1100 (a number we came to after trial and error), we resplace that value with the mode all values for that feature."
   ]
  },
  {
   "cell_type": "code",
   "execution_count": 36,
   "metadata": {},
   "outputs": [
    {
     "data": {
      "text/html": [
       "<div>\n",
       "<style scoped>\n",
       "    .dataframe tbody tr th:only-of-type {\n",
       "        vertical-align: middle;\n",
       "    }\n",
       "\n",
       "    .dataframe tbody tr th {\n",
       "        vertical-align: top;\n",
       "    }\n",
       "\n",
       "    .dataframe thead th {\n",
       "        text-align: right;\n",
       "    }\n",
       "</style>\n",
       "<table border=\"1\" class=\"dataframe\">\n",
       "  <thead>\n",
       "    <tr style=\"text-align: right;\">\n",
       "      <th></th>\n",
       "      <th>Intake Type</th>\n",
       "      <th>Intake Condition</th>\n",
       "      <th>Animal Type</th>\n",
       "      <th>Sex upon Intake</th>\n",
       "      <th>Breed</th>\n",
       "      <th>Color</th>\n",
       "      <th>Intake Age (Years)</th>\n",
       "      <th>Outcome Type</th>\n",
       "      <th>Sex upon Outcome</th>\n",
       "      <th>Outcome Age (Years)</th>\n",
       "      <th>Outcome Month</th>\n",
       "    </tr>\n",
       "  </thead>\n",
       "  <tbody>\n",
       "    <tr>\n",
       "      <th>0</th>\n",
       "      <td>Stray</td>\n",
       "      <td>Normal</td>\n",
       "      <td>Dog</td>\n",
       "      <td>Neutered Male</td>\n",
       "      <td>Domestic Shorthair Mix</td>\n",
       "      <td>Tricolor</td>\n",
       "      <td>2.0</td>\n",
       "      <td>Transfer</td>\n",
       "      <td>Neutered Male</td>\n",
       "      <td>2.0</td>\n",
       "      <td>1</td>\n",
       "    </tr>\n",
       "    <tr>\n",
       "      <th>1</th>\n",
       "      <td>Stray</td>\n",
       "      <td>Normal</td>\n",
       "      <td>Dog</td>\n",
       "      <td>Spayed Female</td>\n",
       "      <td>Domestic Shorthair Mix</td>\n",
       "      <td>Black/White</td>\n",
       "      <td>8.0</td>\n",
       "      <td>Return to Owner</td>\n",
       "      <td>Spayed Female</td>\n",
       "      <td>8.0</td>\n",
       "      <td>7</td>\n",
       "    </tr>\n",
       "    <tr>\n",
       "      <th>2</th>\n",
       "      <td>Stray</td>\n",
       "      <td>Normal</td>\n",
       "      <td>Dog</td>\n",
       "      <td>Intact Male</td>\n",
       "      <td>Domestic Shorthair Mix</td>\n",
       "      <td>Black/White</td>\n",
       "      <td>0.0</td>\n",
       "      <td>Return to Owner</td>\n",
       "      <td>Neutered Male</td>\n",
       "      <td>1.0</td>\n",
       "      <td>4</td>\n",
       "    </tr>\n",
       "    <tr>\n",
       "      <th>3</th>\n",
       "      <td>Stray</td>\n",
       "      <td>Sick</td>\n",
       "      <td>Cat</td>\n",
       "      <td>Intact Female</td>\n",
       "      <td>Domestic Shorthair Mix</td>\n",
       "      <td>Calico</td>\n",
       "      <td>0.0</td>\n",
       "      <td>Transfer</td>\n",
       "      <td>Intact Female</td>\n",
       "      <td>0.0</td>\n",
       "      <td>10</td>\n",
       "    </tr>\n",
       "    <tr>\n",
       "      <th>4</th>\n",
       "      <td>Stray</td>\n",
       "      <td>Normal</td>\n",
       "      <td>Dog</td>\n",
       "      <td>Neutered Male</td>\n",
       "      <td>Domestic Shorthair Mix</td>\n",
       "      <td>Black/White</td>\n",
       "      <td>4.0</td>\n",
       "      <td>Return to Owner</td>\n",
       "      <td>Neutered Male</td>\n",
       "      <td>4.0</td>\n",
       "      <td>7</td>\n",
       "    </tr>\n",
       "    <tr>\n",
       "      <th>...</th>\n",
       "      <td>...</td>\n",
       "      <td>...</td>\n",
       "      <td>...</td>\n",
       "      <td>...</td>\n",
       "      <td>...</td>\n",
       "      <td>...</td>\n",
       "      <td>...</td>\n",
       "      <td>...</td>\n",
       "      <td>...</td>\n",
       "      <td>...</td>\n",
       "      <td>...</td>\n",
       "    </tr>\n",
       "    <tr>\n",
       "      <th>111263</th>\n",
       "      <td>Owner Surrender</td>\n",
       "      <td>Normal</td>\n",
       "      <td>Dog</td>\n",
       "      <td>Intact Male</td>\n",
       "      <td>Domestic Shorthair Mix</td>\n",
       "      <td>Brown/Black</td>\n",
       "      <td>0.0</td>\n",
       "      <td>Adoption</td>\n",
       "      <td>Neutered Male</td>\n",
       "      <td>0.0</td>\n",
       "      <td>4</td>\n",
       "    </tr>\n",
       "    <tr>\n",
       "      <th>111264</th>\n",
       "      <td>Owner Surrender</td>\n",
       "      <td>Normal</td>\n",
       "      <td>Cat</td>\n",
       "      <td>Spayed Female</td>\n",
       "      <td>Siamese Mix</td>\n",
       "      <td>Black/White</td>\n",
       "      <td>7.0</td>\n",
       "      <td>Adoption</td>\n",
       "      <td>Spayed Female</td>\n",
       "      <td>0.0</td>\n",
       "      <td>12</td>\n",
       "    </tr>\n",
       "    <tr>\n",
       "      <th>111265</th>\n",
       "      <td>Owner Surrender</td>\n",
       "      <td>Normal</td>\n",
       "      <td>Dog</td>\n",
       "      <td>Spayed Female</td>\n",
       "      <td>Domestic Shorthair Mix</td>\n",
       "      <td>Blue/White</td>\n",
       "      <td>4.0</td>\n",
       "      <td>Adoption</td>\n",
       "      <td>Spayed Female</td>\n",
       "      <td>4.0</td>\n",
       "      <td>1</td>\n",
       "    </tr>\n",
       "    <tr>\n",
       "      <th>111266</th>\n",
       "      <td>Public Assist</td>\n",
       "      <td>Normal</td>\n",
       "      <td>Dog</td>\n",
       "      <td>Spayed Female</td>\n",
       "      <td>Domestic Shorthair Mix</td>\n",
       "      <td>Black/White</td>\n",
       "      <td>2.0</td>\n",
       "      <td>Transfer</td>\n",
       "      <td>Spayed Female</td>\n",
       "      <td>2.0</td>\n",
       "      <td>8</td>\n",
       "    </tr>\n",
       "    <tr>\n",
       "      <th>111267</th>\n",
       "      <td>Stray</td>\n",
       "      <td>Normal</td>\n",
       "      <td>Dog</td>\n",
       "      <td>Intact Female</td>\n",
       "      <td>Chihuahua Shorthair</td>\n",
       "      <td>Brown</td>\n",
       "      <td>5.0</td>\n",
       "      <td>Return to Owner</td>\n",
       "      <td>Intact Female</td>\n",
       "      <td>5.0</td>\n",
       "      <td>4</td>\n",
       "    </tr>\n",
       "  </tbody>\n",
       "</table>\n",
       "<p>111268 rows × 11 columns</p>\n",
       "</div>"
      ],
      "text/plain": [
       "            Intake Type Intake Condition Animal Type Sex upon Intake  \\\n",
       "0                 Stray           Normal         Dog   Neutered Male   \n",
       "1                 Stray           Normal         Dog   Spayed Female   \n",
       "2                 Stray           Normal         Dog     Intact Male   \n",
       "3                 Stray             Sick         Cat   Intact Female   \n",
       "4                 Stray           Normal         Dog   Neutered Male   \n",
       "...                 ...              ...         ...             ...   \n",
       "111263  Owner Surrender           Normal         Dog     Intact Male   \n",
       "111264  Owner Surrender           Normal         Cat   Spayed Female   \n",
       "111265  Owner Surrender           Normal         Dog   Spayed Female   \n",
       "111266    Public Assist           Normal         Dog   Spayed Female   \n",
       "111267            Stray           Normal         Dog   Intact Female   \n",
       "\n",
       "                         Breed        Color  Intake Age (Years)  \\\n",
       "0       Domestic Shorthair Mix     Tricolor                 2.0   \n",
       "1       Domestic Shorthair Mix  Black/White                 8.0   \n",
       "2       Domestic Shorthair Mix  Black/White                 0.0   \n",
       "3       Domestic Shorthair Mix       Calico                 0.0   \n",
       "4       Domestic Shorthair Mix  Black/White                 4.0   \n",
       "...                        ...          ...                 ...   \n",
       "111263  Domestic Shorthair Mix  Brown/Black                 0.0   \n",
       "111264             Siamese Mix  Black/White                 7.0   \n",
       "111265  Domestic Shorthair Mix   Blue/White                 4.0   \n",
       "111266  Domestic Shorthair Mix  Black/White                 2.0   \n",
       "111267     Chihuahua Shorthair        Brown                 5.0   \n",
       "\n",
       "           Outcome Type Sex upon Outcome  Outcome Age (Years)  Outcome Month  \n",
       "0              Transfer    Neutered Male                  2.0              1  \n",
       "1       Return to Owner    Spayed Female                  8.0              7  \n",
       "2       Return to Owner    Neutered Male                  1.0              4  \n",
       "3              Transfer    Intact Female                  0.0             10  \n",
       "4       Return to Owner    Neutered Male                  4.0              7  \n",
       "...                 ...              ...                  ...            ...  \n",
       "111263         Adoption    Neutered Male                  0.0              4  \n",
       "111264         Adoption    Spayed Female                  0.0             12  \n",
       "111265         Adoption    Spayed Female                  4.0              1  \n",
       "111266         Transfer    Spayed Female                  2.0              8  \n",
       "111267  Return to Owner    Intact Female                  5.0              4  \n",
       "\n",
       "[111268 rows x 11 columns]"
      ]
     },
     "execution_count": 36,
     "metadata": {},
     "output_type": "execute_result"
    }
   ],
   "source": [
    "# Imputation\n",
    "for column in list(data.columns):\n",
    "    if column == 'Outcome Type':\n",
    "        continue\n",
    "    column_counts = data[column].value_counts().to_frame()\n",
    "    ignored_type = column_counts[column_counts[column] < 1100]\n",
    "    ignored_type_arr = ignored_type.index.values.tolist()\n",
    "    data[column].replace(to_replace=ignored_type_arr, value=np.NAN, inplace=True)\n",
    "    data[column].fillna(data[column].mode().values[0], inplace=True)\n",
    "data"
   ]
  },
  {
   "cell_type": "markdown",
   "metadata": {},
   "source": [
    "Finally, we will process the categorical features. `Intake Type`, `Intake Condition`, `Animal Type`, `Sex upon Intake`, `Animal Type`, `Sex upon Outcome`, `Breed`, and `Color` are all categorial features. We use one hot encoding on these features so that our classifiers can use them features appropriately. While `Outcome Type` is also a categorical feature, we will separate it from our dataset to serve as labels only. Furthermore, we will convert all outcome types to adoption or no adoption for the purposes of this project (our aim is binary classification, to predict whether an animal in the Austin Animal Center will be adopted or not). `Adoption` and `Rto-Adopt` are considered `Adoption`; all other outcomes are considered `No Adoption`."
   ]
  },
  {
   "cell_type": "code",
   "execution_count": 37,
   "metadata": {},
   "outputs": [],
   "source": [
    "# Store the original labels, in case they are useful in the future\n",
    "original_labels = data['Outcome Type'].copy()"
   ]
  },
  {
   "cell_type": "code",
   "execution_count": 38,
   "metadata": {},
   "outputs": [
    {
     "name": "stdout",
     "output_type": "stream",
     "text": [
      "Counts of each label\n",
      "1    56073\n",
      "0    55195\n",
      "dtype: int64\n",
      "(111268,)\n",
      "(111268, 61)\n"
     ]
    },
    {
     "name": "stderr",
     "output_type": "stream",
     "text": [
      "/home/rohitn/.local/lib/python3.8/site-packages/sklearn/utils/deprecation.py:87: FutureWarning: Function get_feature_names is deprecated; get_feature_names is deprecated in 1.0 and will be removed in 1.2. Please use get_feature_names_out instead.\n",
      "  warnings.warn(msg, category=FutureWarning)\n"
     ]
    },
    {
     "data": {
      "text/html": [
       "<div>\n",
       "<style scoped>\n",
       "    .dataframe tbody tr th:only-of-type {\n",
       "        vertical-align: middle;\n",
       "    }\n",
       "\n",
       "    .dataframe tbody tr th {\n",
       "        vertical-align: top;\n",
       "    }\n",
       "\n",
       "    .dataframe thead th {\n",
       "        text-align: right;\n",
       "    }\n",
       "</style>\n",
       "<table border=\"1\" class=\"dataframe\">\n",
       "  <thead>\n",
       "    <tr style=\"text-align: right;\">\n",
       "      <th></th>\n",
       "      <th>Intake Type_Owner Surrender</th>\n",
       "      <th>Intake Type_Public Assist</th>\n",
       "      <th>Intake Type_Stray</th>\n",
       "      <th>Intake Condition_Injured</th>\n",
       "      <th>Intake Condition_Normal</th>\n",
       "      <th>Intake Condition_Nursing</th>\n",
       "      <th>Intake Condition_Sick</th>\n",
       "      <th>Animal Type_Cat</th>\n",
       "      <th>Animal Type_Dog</th>\n",
       "      <th>Animal Type_Other</th>\n",
       "      <th>...</th>\n",
       "      <th>Color_White/Black</th>\n",
       "      <th>Color_White/Brown</th>\n",
       "      <th>Color_White/Tan</th>\n",
       "      <th>Sex upon Outcome_Intact Female</th>\n",
       "      <th>Sex upon Outcome_Intact Male</th>\n",
       "      <th>Sex upon Outcome_Neutered Male</th>\n",
       "      <th>Sex upon Outcome_Spayed Female</th>\n",
       "      <th>Intake Age (Years)</th>\n",
       "      <th>Outcome Age (Years)</th>\n",
       "      <th>Outcome Month</th>\n",
       "    </tr>\n",
       "  </thead>\n",
       "  <tbody>\n",
       "    <tr>\n",
       "      <th>0</th>\n",
       "      <td>0.0</td>\n",
       "      <td>0.0</td>\n",
       "      <td>1.0</td>\n",
       "      <td>0.0</td>\n",
       "      <td>1.0</td>\n",
       "      <td>0.0</td>\n",
       "      <td>0.0</td>\n",
       "      <td>0.0</td>\n",
       "      <td>1.0</td>\n",
       "      <td>0.0</td>\n",
       "      <td>...</td>\n",
       "      <td>0.0</td>\n",
       "      <td>0.0</td>\n",
       "      <td>0.0</td>\n",
       "      <td>0.0</td>\n",
       "      <td>0.0</td>\n",
       "      <td>1.0</td>\n",
       "      <td>0.0</td>\n",
       "      <td>2.0</td>\n",
       "      <td>2.0</td>\n",
       "      <td>1</td>\n",
       "    </tr>\n",
       "    <tr>\n",
       "      <th>1</th>\n",
       "      <td>0.0</td>\n",
       "      <td>0.0</td>\n",
       "      <td>1.0</td>\n",
       "      <td>0.0</td>\n",
       "      <td>1.0</td>\n",
       "      <td>0.0</td>\n",
       "      <td>0.0</td>\n",
       "      <td>0.0</td>\n",
       "      <td>1.0</td>\n",
       "      <td>0.0</td>\n",
       "      <td>...</td>\n",
       "      <td>0.0</td>\n",
       "      <td>0.0</td>\n",
       "      <td>0.0</td>\n",
       "      <td>0.0</td>\n",
       "      <td>0.0</td>\n",
       "      <td>0.0</td>\n",
       "      <td>1.0</td>\n",
       "      <td>8.0</td>\n",
       "      <td>8.0</td>\n",
       "      <td>7</td>\n",
       "    </tr>\n",
       "    <tr>\n",
       "      <th>2</th>\n",
       "      <td>0.0</td>\n",
       "      <td>0.0</td>\n",
       "      <td>1.0</td>\n",
       "      <td>0.0</td>\n",
       "      <td>1.0</td>\n",
       "      <td>0.0</td>\n",
       "      <td>0.0</td>\n",
       "      <td>0.0</td>\n",
       "      <td>1.0</td>\n",
       "      <td>0.0</td>\n",
       "      <td>...</td>\n",
       "      <td>0.0</td>\n",
       "      <td>0.0</td>\n",
       "      <td>0.0</td>\n",
       "      <td>0.0</td>\n",
       "      <td>0.0</td>\n",
       "      <td>1.0</td>\n",
       "      <td>0.0</td>\n",
       "      <td>0.0</td>\n",
       "      <td>1.0</td>\n",
       "      <td>4</td>\n",
       "    </tr>\n",
       "    <tr>\n",
       "      <th>3</th>\n",
       "      <td>0.0</td>\n",
       "      <td>0.0</td>\n",
       "      <td>1.0</td>\n",
       "      <td>0.0</td>\n",
       "      <td>0.0</td>\n",
       "      <td>0.0</td>\n",
       "      <td>1.0</td>\n",
       "      <td>1.0</td>\n",
       "      <td>0.0</td>\n",
       "      <td>0.0</td>\n",
       "      <td>...</td>\n",
       "      <td>0.0</td>\n",
       "      <td>0.0</td>\n",
       "      <td>0.0</td>\n",
       "      <td>1.0</td>\n",
       "      <td>0.0</td>\n",
       "      <td>0.0</td>\n",
       "      <td>0.0</td>\n",
       "      <td>0.0</td>\n",
       "      <td>0.0</td>\n",
       "      <td>10</td>\n",
       "    </tr>\n",
       "    <tr>\n",
       "      <th>4</th>\n",
       "      <td>0.0</td>\n",
       "      <td>0.0</td>\n",
       "      <td>1.0</td>\n",
       "      <td>0.0</td>\n",
       "      <td>1.0</td>\n",
       "      <td>0.0</td>\n",
       "      <td>0.0</td>\n",
       "      <td>0.0</td>\n",
       "      <td>1.0</td>\n",
       "      <td>0.0</td>\n",
       "      <td>...</td>\n",
       "      <td>0.0</td>\n",
       "      <td>0.0</td>\n",
       "      <td>0.0</td>\n",
       "      <td>0.0</td>\n",
       "      <td>0.0</td>\n",
       "      <td>1.0</td>\n",
       "      <td>0.0</td>\n",
       "      <td>4.0</td>\n",
       "      <td>4.0</td>\n",
       "      <td>7</td>\n",
       "    </tr>\n",
       "  </tbody>\n",
       "</table>\n",
       "<p>5 rows × 61 columns</p>\n",
       "</div>"
      ],
      "text/plain": [
       "   Intake Type_Owner Surrender  Intake Type_Public Assist  Intake Type_Stray  \\\n",
       "0                          0.0                        0.0                1.0   \n",
       "1                          0.0                        0.0                1.0   \n",
       "2                          0.0                        0.0                1.0   \n",
       "3                          0.0                        0.0                1.0   \n",
       "4                          0.0                        0.0                1.0   \n",
       "\n",
       "   Intake Condition_Injured  Intake Condition_Normal  \\\n",
       "0                       0.0                      1.0   \n",
       "1                       0.0                      1.0   \n",
       "2                       0.0                      1.0   \n",
       "3                       0.0                      0.0   \n",
       "4                       0.0                      1.0   \n",
       "\n",
       "   Intake Condition_Nursing  Intake Condition_Sick  Animal Type_Cat  \\\n",
       "0                       0.0                    0.0              0.0   \n",
       "1                       0.0                    0.0              0.0   \n",
       "2                       0.0                    0.0              0.0   \n",
       "3                       0.0                    1.0              1.0   \n",
       "4                       0.0                    0.0              0.0   \n",
       "\n",
       "   Animal Type_Dog  Animal Type_Other  ...  Color_White/Black  \\\n",
       "0              1.0                0.0  ...                0.0   \n",
       "1              1.0                0.0  ...                0.0   \n",
       "2              1.0                0.0  ...                0.0   \n",
       "3              0.0                0.0  ...                0.0   \n",
       "4              1.0                0.0  ...                0.0   \n",
       "\n",
       "   Color_White/Brown  Color_White/Tan  Sex upon Outcome_Intact Female  \\\n",
       "0                0.0              0.0                             0.0   \n",
       "1                0.0              0.0                             0.0   \n",
       "2                0.0              0.0                             0.0   \n",
       "3                0.0              0.0                             1.0   \n",
       "4                0.0              0.0                             0.0   \n",
       "\n",
       "   Sex upon Outcome_Intact Male  Sex upon Outcome_Neutered Male  \\\n",
       "0                           0.0                             1.0   \n",
       "1                           0.0                             0.0   \n",
       "2                           0.0                             1.0   \n",
       "3                           0.0                             0.0   \n",
       "4                           0.0                             1.0   \n",
       "\n",
       "   Sex upon Outcome_Spayed Female  Intake Age (Years)  Outcome Age (Years)  \\\n",
       "0                             0.0                 2.0                  2.0   \n",
       "1                             1.0                 8.0                  8.0   \n",
       "2                             0.0                 0.0                  1.0   \n",
       "3                             0.0                 0.0                  0.0   \n",
       "4                             0.0                 4.0                  4.0   \n",
       "\n",
       "   Outcome Month  \n",
       "0              1  \n",
       "1              7  \n",
       "2              4  \n",
       "3             10  \n",
       "4              7  \n",
       "\n",
       "[5 rows x 61 columns]"
      ]
     },
     "execution_count": 38,
     "metadata": {},
     "output_type": "execute_result"
    }
   ],
   "source": [
    "# Separating lablels and features\n",
    "labels = data['Outcome Type'].copy()\n",
    "labels.replace(to_replace={'Rto-Adopt': 'Adoption', 'Transfer' : 'No Adoption', 'Return to Owner': 'No Adoption', 'Euthanasia': 'No Adoption', 'Died' : 'No Adoption'}, inplace=True)\n",
    "le = LabelEncoder()\n",
    "labels = le.fit_transform(labels)\n",
    "labels = pd.Series(labels)\n",
    "print('Counts of each label')\n",
    "print(labels.value_counts())\n",
    "\n",
    "features_categorical = data.drop(columns=['Outcome Type', 'Intake Age (Years)', 'Outcome Age (Years)', 'Outcome Month'])\n",
    "categorical_vars = features_categorical.copy()\n",
    "categorical_vars_cols = categorical_vars.columns\n",
    "\n",
    "features_continuous = data.drop(columns=['Intake Type', 'Intake Condition', 'Animal Type', 'Sex upon Intake', 'Breed', 'Color', 'Outcome Type','Sex upon Outcome'])\n",
    "\n",
    "# One hot encoding the categorical features\n",
    "one_hot_encoder = OneHotEncoder(sparse=False)\n",
    "categorical_vars = one_hot_encoder.fit_transform(categorical_vars)\n",
    "categorical_vars_cols = one_hot_encoder.get_feature_names(categorical_vars_cols)\n",
    "data = pd.DataFrame(data=categorical_vars, columns=categorical_vars_cols)\n",
    "data = pd.concat([data, features_continuous], axis=1)\n",
    "\n",
    "print(labels.shape)\n",
    "print(data.shape)\n",
    "data.head()"
   ]
  },
  {
   "cell_type": "markdown",
   "metadata": {},
   "source": [
    "## Data Analysis and Modeling"
   ]
  },
  {
   "cell_type": "markdown",
   "metadata": {},
   "source": [
    "Many different types of models were tested on our dataset. We, naturally, used supervised learning to fit models that predict whether an animal, that is taken in by the Austin Animal Center, will be adopted or not. It is important to understand that our model only predicts whether an animal will be adopted or not - it does not predict, or give any notion of, how long it will take before the animal is adopted. We first present our models and their results (test accuracy, classification report, and a confusion matrix). Thereafter, we present a comparison in the performance of all models.\n",
    "\n",
    "_Note: We take a sample of 15000 randomly selected datapoints only for building our models in the interest of time and also due to the lack of compute power. Even then, we produce very good results with good accuracies. Of course, using more data could likely produce even higher accuracies._"
   ]
  },
  {
   "cell_type": "code",
   "execution_count": 39,
   "metadata": {},
   "outputs": [],
   "source": [
    "# Take a sample of 15000 random data points\n",
    "X = data.sample(frac=1).iloc[:15000]\n",
    "y = labels.iloc[X.index]\n",
    "X = X.reset_index(drop=True)"
   ]
  },
  {
   "cell_type": "markdown",
   "metadata": {},
   "source": [
    "The following method is used for printing a confusion matrix and is adapted from a similar method that was provided by Dr. Beasley in Homework 2."
   ]
  },
  {
   "cell_type": "code",
   "execution_count": 40,
   "metadata": {},
   "outputs": [],
   "source": [
    "def print_confusion_matrix(mat):\n",
    "    df = pd.DataFrame(mat, columns =['Predicted 1','Predicted 0'])\n",
    "    df = df.rename(index={0: 'Actual 1', 1: 'Actual 0'})\n",
    "    display(df)"
   ]
  },
  {
   "cell_type": "markdown",
   "metadata": {},
   "source": [
    "### k-Nearest Neighbor Classifier"
   ]
  },
  {
   "cell_type": "markdown",
   "metadata": {},
   "source": [
    "#### k-Nearest Neghbor Classifier with PCA"
   ]
  },
  {
   "cell_type": "code",
   "execution_count": 41,
   "metadata": {},
   "outputs": [
    {
     "name": "stdout",
     "output_type": "stream",
     "text": [
      "Test score: 0.7686666666666666\n"
     ]
    }
   ],
   "source": [
    "from sklearn.neighbors import KNeighborsClassifier\n",
    "from imblearn.over_sampling import SMOTE\n",
    "from imblearn.pipeline import Pipeline as imbpipeline\n",
    "from sklearn.model_selection import train_test_split, GridSearchCV, StratifiedKFold\n",
    "from sklearn.decomposition import PCA\n",
    "from sklearn.model_selection import cross_val_score\n",
    "\n",
    "pipeline = imbpipeline(steps = [['smote', SMOTE(random_state=11)],\n",
    "                                ['scaler', StandardScaler()],\n",
    "                                ['pca', PCA()],\n",
    "                                ['classifier', KNeighborsClassifier()]])\n",
    "    \n",
    "param_grid = {\n",
    "    'pca__n_components': list(range(57, 61)),\n",
    "    'classifier__n_neighbors': list(range(5, 15))\n",
    "}\n",
    "grid_search = GridSearchCV(estimator=pipeline,\n",
    "                           param_grid=param_grid,\n",
    "                           cv=5,\n",
    "                           scoring='accuracy')\n",
    "\n",
    "test_score = cross_val_score(grid_search, X, y, cv=5).mean()\n",
    "print(f'Test score: {test_score}')"
   ]
  },
  {
   "cell_type": "code",
   "execution_count": 42,
   "metadata": {
    "scrolled": true
   },
   "outputs": [
    {
     "name": "stdout",
     "output_type": "stream",
     "text": [
      "              precision    recall  f1-score   support\n",
      "\n",
      "           0       0.74      0.82      0.78      7472\n",
      "           1       0.80      0.72      0.76      7528\n",
      "\n",
      "    accuracy                           0.77     15000\n",
      "   macro avg       0.77      0.77      0.77     15000\n",
      "weighted avg       0.77      0.77      0.77     15000\n",
      "\n",
      "Confusion Matrix\n"
     ]
    },
    {
     "data": {
      "text/html": [
       "<div>\n",
       "<style scoped>\n",
       "    .dataframe tbody tr th:only-of-type {\n",
       "        vertical-align: middle;\n",
       "    }\n",
       "\n",
       "    .dataframe tbody tr th {\n",
       "        vertical-align: top;\n",
       "    }\n",
       "\n",
       "    .dataframe thead th {\n",
       "        text-align: right;\n",
       "    }\n",
       "</style>\n",
       "<table border=\"1\" class=\"dataframe\">\n",
       "  <thead>\n",
       "    <tr style=\"text-align: right;\">\n",
       "      <th></th>\n",
       "      <th>Predicted 1</th>\n",
       "      <th>Predicted 0</th>\n",
       "    </tr>\n",
       "  </thead>\n",
       "  <tbody>\n",
       "    <tr>\n",
       "      <th>Actual 1</th>\n",
       "      <td>6137</td>\n",
       "      <td>1335</td>\n",
       "    </tr>\n",
       "    <tr>\n",
       "      <th>Actual 0</th>\n",
       "      <td>2135</td>\n",
       "      <td>5393</td>\n",
       "    </tr>\n",
       "  </tbody>\n",
       "</table>\n",
       "</div>"
      ],
      "text/plain": [
       "          Predicted 1  Predicted 0\n",
       "Actual 1         6137         1335\n",
       "Actual 0         2135         5393"
      ]
     },
     "metadata": {},
     "output_type": "display_data"
    }
   ],
   "source": [
    "from sklearn.model_selection import cross_val_predict\n",
    "from sklearn.metrics import confusion_matrix\n",
    "from sklearn.metrics import classification_report\n",
    "\n",
    "preds = cross_val_predict(grid_search, X, y)\n",
    "mat = confusion_matrix(y, preds)\n",
    "print(classification_report(y, preds))\n",
    "print('Confusion Matrix')\n",
    "print_confusion_matrix(mat)"
   ]
  },
  {
   "cell_type": "code",
   "execution_count": 43,
   "metadata": {},
   "outputs": [
    {
     "name": "stdout",
     "output_type": "stream",
     "text": [
      "roc_auc_score: 0.7688625562354504\n"
     ]
    },
    {
     "data": {
      "image/png": "[encoded data removed]",
      "text/plain": [
       "<Figure size 432x288 with 1 Axes>"
      ]
     },
     "metadata": {
      "needs_background": "light"
     },
     "output_type": "display_data"
    }
   ],
   "source": [
    "from sklearn.metrics import roc_auc_score, roc_curve\n",
    "\n",
    "fpr, tpr, _ = roc_curve(y, preds)\n",
    "print('roc_auc_score:', roc_auc_score(y, preds))\n",
    "plt.plot([0,1],[0,1],'k--')\n",
    "plt.plot(fpr, tpr, label='AdaBoost')\n",
    "plt.xlabel('fpr')\n",
    "plt.ylabel('tpr')\n",
    "plt.title('ROC Curve for KNN With PCA')\n",
    "plt.show()"
   ]
  },
  {
   "cell_type": "markdown",
   "metadata": {},
   "source": [
    "PCA is really useful when dealing with a lot of continuous features. However, most of our features are categorical and one hot encoded, so it is possible that PCA actually does not do much for us. Hence, we run another iteration of KNN without PCA to compare results."
   ]
  },
  {
   "cell_type": "markdown",
   "metadata": {},
   "source": [
    "#### k-Nearest Neighbor Classifier without PCA"
   ]
  },
  {
   "cell_type": "code",
   "execution_count": 78,
   "metadata": {},
   "outputs": [
    {
     "name": "stdout",
     "output_type": "stream",
     "text": [
      "Test score: 0.7598\n"
     ]
    }
   ],
   "source": [
    "from sklearn.neighbors import KNeighborsClassifier\n",
    "from imblearn.over_sampling import SMOTE\n",
    "from imblearn.pipeline import Pipeline as imbpipeline\n",
    "from sklearn.model_selection import train_test_split, GridSearchCV, StratifiedKFold\n",
    "from sklearn.decomposition import PCA\n",
    "from sklearn.model_selection import cross_val_score\n",
    "\n",
    "pipeline = imbpipeline(steps = [['smote', SMOTE(random_state=11)],\n",
    "                                ['scaler', StandardScaler()],\n",
    "                                ['classifier', KNeighborsClassifier()]])\n",
    "    \n",
    "param_grid = {\n",
    "    'classifier__n_neighbors': list(range(5, 15))\n",
    "}\n",
    "grid_search = GridSearchCV(estimator=pipeline,\n",
    "                           param_grid=param_grid,\n",
    "                           cv=5,\n",
    "                           scoring='accuracy')\n",
    "\n",
    "test_score = cross_val_score(grid_search, X, y, cv=5).mean()\n",
    "print(f'Test score: {test_score}')"
   ]
  },
  {
   "cell_type": "code",
   "execution_count": 79,
   "metadata": {},
   "outputs": [
    {
     "name": "stdout",
     "output_type": "stream",
     "text": [
      "              precision    recall  f1-score   support\n",
      "\n",
      "           0       0.74      0.80      0.77      7424\n",
      "           1       0.79      0.72      0.75      7576\n",
      "\n",
      "    accuracy                           0.76     15000\n",
      "   macro avg       0.76      0.76      0.76     15000\n",
      "weighted avg       0.76      0.76      0.76     15000\n",
      "\n",
      "Confusion Matrix\n"
     ]
    },
    {
     "data": {
      "text/html": [
       "<div>\n",
       "<style scoped>\n",
       "    .dataframe tbody tr th:only-of-type {\n",
       "        vertical-align: middle;\n",
       "    }\n",
       "\n",
       "    .dataframe tbody tr th {\n",
       "        vertical-align: top;\n",
       "    }\n",
       "\n",
       "    .dataframe thead th {\n",
       "        text-align: right;\n",
       "    }\n",
       "</style>\n",
       "<table border=\"1\" class=\"dataframe\">\n",
       "  <thead>\n",
       "    <tr style=\"text-align: right;\">\n",
       "      <th></th>\n",
       "      <th>Predicted 1</th>\n",
       "      <th>Predicted 0</th>\n",
       "    </tr>\n",
       "  </thead>\n",
       "  <tbody>\n",
       "    <tr>\n",
       "      <th>Actual 1</th>\n",
       "      <td>5969</td>\n",
       "      <td>1455</td>\n",
       "    </tr>\n",
       "    <tr>\n",
       "      <th>Actual 0</th>\n",
       "      <td>2148</td>\n",
       "      <td>5428</td>\n",
       "    </tr>\n",
       "  </tbody>\n",
       "</table>\n",
       "</div>"
      ],
      "text/plain": [
       "          Predicted 1  Predicted 0\n",
       "Actual 1         5969         1455\n",
       "Actual 0         2148         5428"
      ]
     },
     "metadata": {},
     "output_type": "display_data"
    }
   ],
   "source": [
    "from sklearn.model_selection import cross_val_predict\n",
    "from sklearn.metrics import confusion_matrix\n",
    "from sklearn.metrics import classification_report\n",
    "\n",
    "preds = cross_val_predict(grid_search, X, y)\n",
    "mat = confusion_matrix(y, preds)\n",
    "print(classification_report(y, preds))\n",
    "print('Confusion Matrix')\n",
    "print_confusion_matrix(mat)"
   ]
  },
  {
   "cell_type": "code",
   "execution_count": 80,
   "metadata": {},
   "outputs": [
    {
     "name": "stdout",
     "output_type": "stream",
     "text": [
      "roc_auc_score: 0.7602435407411791\n"
     ]
    },
    {
     "data": {
      "image/png": "[encoded data removed]",
      "text/plain": [
       "<Figure size 432x288 with 1 Axes>"
      ]
     },
     "metadata": {
      "needs_background": "light"
     },
     "output_type": "display_data"
    }
   ],
   "source": [
    "from sklearn.metrics import roc_auc_score, roc_curve\n",
    "\n",
    "fpr, tpr, _ = roc_curve(y, preds)\n",
    "print('roc_auc_score:', roc_auc_score(y, preds))\n",
    "plt.plot([0,1],[0,1],'k--')\n",
    "plt.plot(fpr, tpr, label='KNN')\n",
    "plt.xlabel('fpr')\n",
    "plt.ylabel('tpr')\n",
    "plt.title('ROC Curve for KNN without PCA')\n",
    "plt.show()"
   ]
  },
  {
   "cell_type": "markdown",
   "metadata": {},
   "source": [
    "Results are quite similar, whether PCA is involved or not. However, we can immedietly see that a k-Nearest Neighbor classifier will not be good enough and that another model will ned to be used to improve the accuracy."
   ]
  },
  {
   "cell_type": "markdown",
   "metadata": {},
   "source": [
    "### Ensemble Classifier: AdaBoost"
   ]
  },
  {
   "cell_type": "code",
   "execution_count": 73,
   "metadata": {},
   "outputs": [
    {
     "name": "stdout",
     "output_type": "stream",
     "text": [
      "Test score: 0.8103333333333333\n"
     ]
    }
   ],
   "source": [
    "from sklearn.ensemble import AdaBoostClassifier\n",
    "from imblearn.over_sampling import SMOTE\n",
    "from imblearn.pipeline import Pipeline as imbpipeline\n",
    "from sklearn.preprocessing import StandardScaler\n",
    "from sklearn.model_selection import train_test_split, GridSearchCV\n",
    "from sklearn.model_selection import cross_val_score\n",
    "\n",
    "pipeline = imbpipeline(steps = [['smote', SMOTE(random_state=11)],\n",
    "                                ['scaler', StandardScaler()],\n",
    "                                ['classifier', AdaBoostClassifier()]])\n",
    "    \n",
    "param_grid = {\n",
    "    'classifier__n_estimators': list(range(146,151)),\n",
    "}\n",
    "grid_search = GridSearchCV(estimator=pipeline,\n",
    "                           param_grid=param_grid,\n",
    "                           cv=5,\n",
    "                           scoring='accuracy')\n",
    "\n",
    "test_score = cross_val_score(grid_search, X, y, cv=5).mean()\n",
    "print(f'Test score: {test_score}')"
   ]
  },
  {
   "cell_type": "code",
   "execution_count": 74,
   "metadata": {},
   "outputs": [
    {
     "name": "stdout",
     "output_type": "stream",
     "text": [
      "              precision    recall  f1-score   support\n",
      "\n",
      "           0       0.79      0.83      0.81      7424\n",
      "           1       0.83      0.79      0.81      7576\n",
      "\n",
      "    accuracy                           0.81     15000\n",
      "   macro avg       0.81      0.81      0.81     15000\n",
      "weighted avg       0.81      0.81      0.81     15000\n",
      "\n",
      "Confusion Matrix\n"
     ]
    },
    {
     "data": {
      "text/html": [
       "<div>\n",
       "<style scoped>\n",
       "    .dataframe tbody tr th:only-of-type {\n",
       "        vertical-align: middle;\n",
       "    }\n",
       "\n",
       "    .dataframe tbody tr th {\n",
       "        vertical-align: top;\n",
       "    }\n",
       "\n",
       "    .dataframe thead th {\n",
       "        text-align: right;\n",
       "    }\n",
       "</style>\n",
       "<table border=\"1\" class=\"dataframe\">\n",
       "  <thead>\n",
       "    <tr style=\"text-align: right;\">\n",
       "      <th></th>\n",
       "      <th>Predicted 1</th>\n",
       "      <th>Predicted 0</th>\n",
       "    </tr>\n",
       "  </thead>\n",
       "  <tbody>\n",
       "    <tr>\n",
       "      <th>Actual 1</th>\n",
       "      <td>6182</td>\n",
       "      <td>1242</td>\n",
       "    </tr>\n",
       "    <tr>\n",
       "      <th>Actual 0</th>\n",
       "      <td>1603</td>\n",
       "      <td>5973</td>\n",
       "    </tr>\n",
       "  </tbody>\n",
       "</table>\n",
       "</div>"
      ],
      "text/plain": [
       "          Predicted 1  Predicted 0\n",
       "Actual 1         6182         1242\n",
       "Actual 0         1603         5973"
      ]
     },
     "metadata": {},
     "output_type": "display_data"
    }
   ],
   "source": [
    "from sklearn.model_selection import cross_val_predict\n",
    "from sklearn.metrics import confusion_matrix\n",
    "from sklearn.metrics import classification_report\n",
    "\n",
    "preds = cross_val_predict(grid_search, X, y)\n",
    "mat = confusion_matrix(y, preds)\n",
    "print(classification_report(y, preds))\n",
    "print('Confusion Matrix')\n",
    "print_confusion_matrix(mat)"
   ]
  },
  {
   "cell_type": "code",
   "execution_count": 75,
   "metadata": {},
   "outputs": [
    {
     "name": "stdout",
     "output_type": "stream",
     "text": [
      "roc_auc_score: 0.8105577561173214\n"
     ]
    },
    {
     "data": {
      "image/png": "[encoded data removed]",
      "text/plain": [
       "<Figure size 432x288 with 1 Axes>"
      ]
     },
     "metadata": {
      "needs_background": "light"
     },
     "output_type": "display_data"
    }
   ],
   "source": [
    "from sklearn.metrics import roc_auc_score, roc_curve\n",
    "\n",
    "fpr, tpr, _ = roc_curve(y, preds)\n",
    "print('roc_auc_score:', roc_auc_score(y, preds))\n",
    "plt.plot([0,1],[0,1],'k--')\n",
    "plt.plot(fpr, tpr, label='AdaBoost')\n",
    "plt.xlabel('fpr')\n",
    "plt.ylabel('tpr')\n",
    "plt.title('ROC Curve for AdaBoost')\n",
    "plt.show()"
   ]
  },
  {
   "cell_type": "markdown",
   "metadata": {},
   "source": [
    "AdaBoost's accuracy is better and it is faster than the KNN classifier. It is a clear winner between the two."
   ]
  },
  {
   "cell_type": "markdown",
   "metadata": {},
   "source": [
    "### Support Vector Machine"
   ]
  },
  {
   "cell_type": "markdown",
   "metadata": {},
   "source": [
    "Support vector machines (SVMs) can also benefit greatly when PCA is used on the dataset because it helps reduce the dimensionality of the dataset. We will, once again, try using them with and without PCA.  "
   ]
  },
  {
   "cell_type": "markdown",
   "metadata": {},
   "source": [
    "#### SVM with PCA"
   ]
  },
  {
   "cell_type": "code",
   "execution_count": 81,
   "metadata": {},
   "outputs": [
    {
     "name": "stdout",
     "output_type": "stream",
     "text": [
      "Test score: 0.8170666666666666\n",
      "              precision    recall  f1-score   support\n",
      "\n",
      "           0       0.79      0.85      0.82      7424\n",
      "           1       0.84      0.78      0.81      7576\n",
      "\n",
      "    accuracy                           0.82     15000\n",
      "   macro avg       0.82      0.82      0.82     15000\n",
      "weighted avg       0.82      0.82      0.82     15000\n",
      "\n",
      "Confusion Matrix\n"
     ]
    },
    {
     "data": {
      "text/html": [
       "<div>\n",
       "<style scoped>\n",
       "    .dataframe tbody tr th:only-of-type {\n",
       "        vertical-align: middle;\n",
       "    }\n",
       "\n",
       "    .dataframe tbody tr th {\n",
       "        vertical-align: top;\n",
       "    }\n",
       "\n",
       "    .dataframe thead th {\n",
       "        text-align: right;\n",
       "    }\n",
       "</style>\n",
       "<table border=\"1\" class=\"dataframe\">\n",
       "  <thead>\n",
       "    <tr style=\"text-align: right;\">\n",
       "      <th></th>\n",
       "      <th>Predicted 1</th>\n",
       "      <th>Predicted 0</th>\n",
       "    </tr>\n",
       "  </thead>\n",
       "  <tbody>\n",
       "    <tr>\n",
       "      <th>Actual 1</th>\n",
       "      <td>6332</td>\n",
       "      <td>1092</td>\n",
       "    </tr>\n",
       "    <tr>\n",
       "      <th>Actual 0</th>\n",
       "      <td>1652</td>\n",
       "      <td>5924</td>\n",
       "    </tr>\n",
       "  </tbody>\n",
       "</table>\n",
       "</div>"
      ],
      "text/plain": [
       "          Predicted 1  Predicted 0\n",
       "Actual 1         6332         1092\n",
       "Actual 0         1652         5924"
      ]
     },
     "metadata": {},
     "output_type": "display_data"
    }
   ],
   "source": [
    "from imblearn.over_sampling import SMOTE\n",
    "from imblearn.pipeline import Pipeline as imbpipeline\n",
    "from sklearn.preprocessing import StandardScaler\n",
    "from sklearn.svm import SVC\n",
    "from sklearn.decomposition import PCA\n",
    "from sklearn.model_selection import train_test_split, GridSearchCV\n",
    "from sklearn.model_selection import cross_val_score, cross_val_predict\n",
    "from sklearn.metrics import confusion_matrix, classification_report\n",
    "\n",
    "\n",
    "pipeline = imbpipeline(steps = [['smote', SMOTE(random_state=11)],\n",
    "                                ['scaler', StandardScaler()],\n",
    "                                ['pca', PCA()],\n",
    "                                ['classifier', SVC()]])\n",
    "\n",
    "param_grid = {\n",
    "    'pca__n_components': list(range(57, 61)),\n",
    "    'classifier__kernel': ['linear', 'rbf', 'poly']\n",
    "}\n",
    "\n",
    "search = GridSearchCV(pipeline, param_grid, cv=5)\n",
    "nested_score = cross_val_score(search, X, y, cv=5).mean()\n",
    "print(f'Test score: {nested_score}')\n",
    "\n",
    "preds = cross_val_predict(search, X, y)\n",
    "mat = confusion_matrix(y, preds)\n",
    "print(classification_report(y, preds))\n",
    "print('Confusion Matrix')\n",
    "print_confusion_matrix(mat)"
   ]
  },
  {
   "cell_type": "code",
   "execution_count": 82,
   "metadata": {},
   "outputs": [
    {
     "name": "stdout",
     "output_type": "stream",
     "text": [
      "roc_auc_score: 0.8174262302916652\n"
     ]
    },
    {
     "data": {
      "image/png": "[encoded data removed]",
      "text/plain": [
       "<Figure size 432x288 with 1 Axes>"
      ]
     },
     "metadata": {
      "needs_background": "light"
     },
     "output_type": "display_data"
    }
   ],
   "source": [
    "from sklearn.metrics import roc_auc_score, roc_curve\n",
    "\n",
    "fpr, tpr, _ = roc_curve(y, preds)\n",
    "print('roc_auc_score:', roc_auc_score(y, preds))\n",
    "plt.plot([0,1],[0,1],'k--')\n",
    "plt.plot(fpr, tpr, label='SVM')\n",
    "plt.xlabel('fpr')\n",
    "plt.ylabel('tpr')\n",
    "plt.title('ROC Curve for SVM with PCA')\n",
    "plt.show()"
   ]
  },
  {
   "cell_type": "markdown",
   "metadata": {},
   "source": [
    "#### SVM without PCA"
   ]
  },
  {
   "cell_type": "code",
   "execution_count": 76,
   "metadata": {
    "scrolled": true
   },
   "outputs": [
    {
     "name": "stdout",
     "output_type": "stream",
     "text": [
      "Test score: 0.8170666666666666\n",
      "              precision    recall  f1-score   support\n",
      "\n",
      "           0       0.79      0.85      0.82      7424\n",
      "           1       0.84      0.78      0.81      7576\n",
      "\n",
      "    accuracy                           0.82     15000\n",
      "   macro avg       0.82      0.82      0.82     15000\n",
      "weighted avg       0.82      0.82      0.82     15000\n",
      "\n",
      "Confusion Matrix\n"
     ]
    },
    {
     "data": {
      "text/html": [
       "<div>\n",
       "<style scoped>\n",
       "    .dataframe tbody tr th:only-of-type {\n",
       "        vertical-align: middle;\n",
       "    }\n",
       "\n",
       "    .dataframe tbody tr th {\n",
       "        vertical-align: top;\n",
       "    }\n",
       "\n",
       "    .dataframe thead th {\n",
       "        text-align: right;\n",
       "    }\n",
       "</style>\n",
       "<table border=\"1\" class=\"dataframe\">\n",
       "  <thead>\n",
       "    <tr style=\"text-align: right;\">\n",
       "      <th></th>\n",
       "      <th>Predicted 1</th>\n",
       "      <th>Predicted 0</th>\n",
       "    </tr>\n",
       "  </thead>\n",
       "  <tbody>\n",
       "    <tr>\n",
       "      <th>Actual 1</th>\n",
       "      <td>6332</td>\n",
       "      <td>1092</td>\n",
       "    </tr>\n",
       "    <tr>\n",
       "      <th>Actual 0</th>\n",
       "      <td>1652</td>\n",
       "      <td>5924</td>\n",
       "    </tr>\n",
       "  </tbody>\n",
       "</table>\n",
       "</div>"
      ],
      "text/plain": [
       "          Predicted 1  Predicted 0\n",
       "Actual 1         6332         1092\n",
       "Actual 0         1652         5924"
      ]
     },
     "metadata": {},
     "output_type": "display_data"
    }
   ],
   "source": [
    "from imblearn.over_sampling import SMOTE\n",
    "from imblearn.pipeline import Pipeline as imbpipeline\n",
    "from sklearn.preprocessing import StandardScaler\n",
    "from sklearn.svm import SVC\n",
    "from sklearn.model_selection import train_test_split, GridSearchCV\n",
    "from sklearn.model_selection import cross_val_score, cross_val_predict\n",
    "from sklearn.metrics import confusion_matrix, classification_report\n",
    "\n",
    "\n",
    "pipeline = imbpipeline(steps = [['smote', SMOTE(random_state=11)],\n",
    "                                ['scaler', StandardScaler()],\n",
    "                                ['classifier', SVC()]])\n",
    "\n",
    "param_grid = {\n",
    "    'classifier__kernel': ['linear', 'rbf', 'poly']\n",
    "}\n",
    "\n",
    "search = GridSearchCV(pipeline, param_grid, cv=5)\n",
    "nested_score = cross_val_score(search, X, y, cv=5).mean()\n",
    "print(f'Test score: {nested_score}')\n",
    "\n",
    "preds = cross_val_predict(search, X, y)\n",
    "mat = confusion_matrix(y, preds)\n",
    "print(classification_report(y, preds))\n",
    "print('Confusion Matrix')\n",
    "print_confusion_matrix(mat)"
   ]
  },
  {
   "cell_type": "code",
   "execution_count": 77,
   "metadata": {},
   "outputs": [
    {
     "name": "stdout",
     "output_type": "stream",
     "text": [
      "roc_auc_score: 0.8174262302916652\n"
     ]
    },
    {
     "data": {
      "image/png": "[encoded data removed]",
      "text/plain": [
       "<Figure size 432x288 with 1 Axes>"
      ]
     },
     "metadata": {
      "needs_background": "light"
     },
     "output_type": "display_data"
    }
   ],
   "source": [
    "from sklearn.metrics import roc_auc_score, roc_curve\n",
    "\n",
    "fpr, tpr, _ = roc_curve(y, preds)\n",
    "print('roc_auc_score:', roc_auc_score(y, preds))\n",
    "plt.plot([0,1],[0,1],'k--')\n",
    "plt.plot(fpr, tpr, label='SVM')\n",
    "plt.xlabel('fpr')\n",
    "plt.ylabel('tpr')\n",
    "plt.title('ROC Curve for SVM wihthout PCA')\n",
    "plt.show()"
   ]
  },
  {
   "cell_type": "markdown",
   "metadata": {},
   "source": [
    "Once again, performance seems similar. Naturally, the lack of PCA made the performance of an SVM faster. "
   ]
  },
  {
   "cell_type": "markdown",
   "metadata": {},
   "source": [
    "### Decision Trees"
   ]
  },
  {
   "cell_type": "code",
   "execution_count": 46,
   "metadata": {},
   "outputs": [
    {
     "name": "stdout",
     "output_type": "stream",
     "text": [
      "Test score: 0.8178666666666666\n"
     ]
    }
   ],
   "source": [
    "from imblearn.over_sampling import SMOTE\n",
    "from imblearn.pipeline import Pipeline as imbpipeline\n",
    "from sklearn.preprocessing import StandardScaler\n",
    "from sklearn.tree import DecisionTreeClassifier\n",
    "from sklearn.model_selection import train_test_split, GridSearchCV\n",
    "from sklearn.model_selection import cross_val_score, cross_val_predict\n",
    "from sklearn.metrics import confusion_matrix, classification_report\n",
    "\n",
    "\n",
    "pipeline = imbpipeline(steps = [['smote', SMOTE(random_state=11)],\n",
    "                                ['scaler', StandardScaler()],\n",
    "                                ['classifier', DecisionTreeClassifier()]])\n",
    "\n",
    "param_grid = {\n",
    "    'classifier__max_depth': [5,10,15,20],\n",
    "    'classifier__max_features': [51,56,61],\n",
    "    'classifier__min_samples_leaf': [5,10,15,20]\n",
    "}\n",
    "\n",
    "search = GridSearchCV(pipeline, param_grid, cv=5)\n",
    "nested_score = cross_val_score(search, X, y, cv=5).mean()\n",
    "print(f'Test score: {nested_score}')"
   ]
  },
  {
   "cell_type": "code",
   "execution_count": 47,
   "metadata": {},
   "outputs": [
    {
     "name": "stdout",
     "output_type": "stream",
     "text": [
      "              precision    recall  f1-score   support\n",
      "\n",
      "           0       0.79      0.86      0.82      7424\n",
      "           1       0.85      0.77      0.81      7576\n",
      "\n",
      "    accuracy                           0.82     15000\n",
      "   macro avg       0.82      0.82      0.82     15000\n",
      "weighted avg       0.82      0.82      0.82     15000\n",
      "\n",
      "Confusion Matrix\n"
     ]
    },
    {
     "data": {
      "text/html": [
       "<div>\n",
       "<style scoped>\n",
       "    .dataframe tbody tr th:only-of-type {\n",
       "        vertical-align: middle;\n",
       "    }\n",
       "\n",
       "    .dataframe tbody tr th {\n",
       "        vertical-align: top;\n",
       "    }\n",
       "\n",
       "    .dataframe thead th {\n",
       "        text-align: right;\n",
       "    }\n",
       "</style>\n",
       "<table border=\"1\" class=\"dataframe\">\n",
       "  <thead>\n",
       "    <tr style=\"text-align: right;\">\n",
       "      <th></th>\n",
       "      <th>Predicted 1</th>\n",
       "      <th>Predicted 0</th>\n",
       "    </tr>\n",
       "  </thead>\n",
       "  <tbody>\n",
       "    <tr>\n",
       "      <th>Actual 1</th>\n",
       "      <td>6401</td>\n",
       "      <td>1023</td>\n",
       "    </tr>\n",
       "    <tr>\n",
       "      <th>Actual 0</th>\n",
       "      <td>1705</td>\n",
       "      <td>5871</td>\n",
       "    </tr>\n",
       "  </tbody>\n",
       "</table>\n",
       "</div>"
      ],
      "text/plain": [
       "          Predicted 1  Predicted 0\n",
       "Actual 1         6401         1023\n",
       "Actual 0         1705         5871"
      ]
     },
     "metadata": {},
     "output_type": "display_data"
    }
   ],
   "source": [
    "preds = cross_val_predict(search, X, y)\n",
    "mat = confusion_matrix(y, preds)\n",
    "print(classification_report(y, preds))\n",
    "print('Confusion Matrix')\n",
    "print_confusion_matrix(mat)"
   ]
  },
  {
   "cell_type": "code",
   "execution_count": 72,
   "metadata": {},
   "outputs": [
    {
     "name": "stdout",
     "output_type": "stream",
     "text": [
      "roc_auc_score: 0.8185754327413246\n"
     ]
    },
    {
     "data": {
      "image/png": "[encoded data removed]",
      "text/plain": [
       "<Figure size 432x288 with 1 Axes>"
      ]
     },
     "metadata": {
      "needs_background": "light"
     },
     "output_type": "display_data"
    }
   ],
   "source": [
    "from sklearn.metrics import roc_auc_score, roc_curve\n",
    "\n",
    "fpr, tpr, _ = roc_curve(y, preds)\n",
    "print('roc_auc_score:', roc_auc_score(y, preds))\n",
    "plt.plot([0,1],[0,1],'k--')\n",
    "plt.plot(fpr, tpr, label='Decision Tree')\n",
    "plt.xlabel('fpr')\n",
    "plt.ylabel('tpr')\n",
    "plt.title('ROC Curve for Decision Tree')\n",
    "plt.show()"
   ]
  }
 ],
 "metadata": {
  "colab": {
   "name": "CS 378 Final Project.ipynb",
   "provenance": []
  },
  "kernelspec": {
   "display_name": "Python 3 (ipykernel)",
   "language": "python",
   "name": "python3"
  },
  "language_info": {
   "codemirror_mode": {
    "name": "ipython",
    "version": 3
   },
   "file_extension": ".py",
   "mimetype": "text/x-python",
   "name": "python",
   "nbconvert_exporter": "python",
   "pygments_lexer": "ipython3",
   "version": "3.8.10"
  }
 },
 "nbformat": 4,
 "nbformat_minor": 1
}
